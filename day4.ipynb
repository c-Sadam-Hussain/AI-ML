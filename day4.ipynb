{
 "cells": [
  {
   "cell_type": "code",
   "execution_count": 1,
   "id": "6828f43d-9dab-44a9-80c8-4e154830ae0b",
   "metadata": {},
   "outputs": [
    {
     "name": "stdout",
     "output_type": "stream",
     "text": [
      "{1, 2, 3, 4, 5}\n",
      "{3}\n",
      "{1, 2}\n",
      "{1, 2, 4, 5}\n"
     ]
    }
   ],
   "source": [
    "A = {1, 2, 3}\n",
    "B = {3, 4, 5}\n",
    "print(A | B)  # Union: {1, 2, 3, 4, 5}\n",
    "print(A & B)  # Intersection: {3}\n",
    "print(A - B)  # Difference: {1, 2}\n",
    "print(A ^ B)  # Symmetric Difference: {1, 2, 4, 5}\n"
   ]
  },
  {
   "cell_type": "code",
   "execution_count": null,
   "id": "90343d47-fe27-4505-a8a2-e430b4c8248b",
   "metadata": {},
   "outputs": [],
   "source": [
    "s = {1, 2, 3}\n",
    "s.add(4)  # {1, 2, 3, 4}\n",
    "s.update([5, 6])  # {1, 2, 3, 4, 5, 6}\n",
    "s.remove(2)  # {1, 3, 4, 5, 6}\n",
    "s.discard(10)  # No error if 10 is not present\n",
    "x = s.pop()  # Removes a random element\n",
    "s.clear()  # Empty set {}\n"
   ]
  },
  {
   "cell_type": "code",
   "execution_count": null,
   "id": "60d35cf6-b989-4778-95df-dc4e6e4fc22f",
   "metadata": {},
   "outputs": [],
   "source": [
    "A = {1, 2}\n",
    "B = {1, 2, 3, 4}\n",
    "\n",
    "print(A.issubset(B))  # True\n",
    "print(B.issuperset(A))  # True\n",
    "print(A.isdisjoint({5, 6}))  # True (no common elements)\n"
   ]
  },
  {
   "cell_type": "code",
   "execution_count": null,
   "id": "1e09745f-62c3-4e89-bd4a-c66dd40899c7",
   "metadata": {},
   "outputs": [],
   "source": [
    "s = {1, 2, 3}\n",
    "new_set = s.copy()\n",
    "print(new_set)  # {1, 2, 3}"
   ]
  },
  {
   "cell_type": "code",
   "execution_count": 3,
   "id": "fc60f67e-0bf1-4c43-a499-14e814ca31e1",
   "metadata": {},
   "outputs": [
    {
     "name": "stdout",
     "output_type": "stream",
     "text": [
      "{(4, 5), 1, 2, 3}\n"
     ]
    }
   ],
   "source": [
    "my_set = {1, 2, 3}\n",
    "my_tuple = (4, 5)\n",
    "\n",
    "my_set.add(my_tuple)  # ✅ Works fine\n",
    "print(my_set)  # {1, 2, 3, (4, 5)}\n"
   ]
  },
  {
   "cell_type": "code",
   "execution_count": 5,
   "id": "28ecb43d-0f79-481b-b2b1-3d38bb9560ef",
   "metadata": {},
   "outputs": [
    {
     "name": "stdout",
     "output_type": "stream",
     "text": [
      "{1, 2, 3, 4, 5, 6, 7}\n"
     ]
    }
   ],
   "source": [
    "my_set = {1, 2, 3}\n",
    "my_list = [4, 5]\n",
    "my_tuple = (6, 7)\n",
    "\n",
    "my_set.update(my_list)  # ✅ Adds elements from the list\n",
    "my_set.update(my_tuple)  # ✅ Adds elements from the tuple\n",
    "\n",
    "print(my_set)  # {1, 2, 3, 4, 5, 6, 7}\n"
   ]
  },
  {
   "cell_type": "code",
   "execution_count": 2,
   "id": "0bb0524b-bc3a-4679-8897-9bb4f7cbbb2d",
   "metadata": {},
   "outputs": [
    {
     "name": "stdout",
     "output_type": "stream",
     "text": [
      "{1, 2, 3, 4, 5}\n",
      "{3}\n",
      "{1, 2}\n"
     ]
    }
   ],
   "source": [
    "A = {1, 2, 3}\n",
    "B = {3, 4, 5}\n",
    "print(A | B)\n",
    "print(A & B)\n",
    "print(A - B)\n"
   ]
  }
 ],
 "metadata": {
  "kernelspec": {
   "display_name": "Python [conda env:base] *",
   "language": "python",
   "name": "conda-base-py"
  },
  "language_info": {
   "codemirror_mode": {
    "name": "ipython",
    "version": 3
   },
   "file_extension": ".py",
   "mimetype": "text/x-python",
   "name": "python",
   "nbconvert_exporter": "python",
   "pygments_lexer": "ipython3",
   "version": "3.12.7"
  }
 },
 "nbformat": 4,
 "nbformat_minor": 5
}
