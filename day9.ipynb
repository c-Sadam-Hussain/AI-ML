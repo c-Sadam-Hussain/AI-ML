{
 "cells": [
  {
   "cell_type": "code",
   "execution_count": 1,
   "id": "674046d6-c7b0-40f9-a724-f1c0e85d0066",
   "metadata": {},
   "outputs": [
    {
     "name": "stdout",
     "output_type": "stream",
     "text": [
      "Dog barks\n",
      "Cat meows\n",
      "Animal makes a sound\n"
     ]
    }
   ],
   "source": [
    "#polymorphism\n",
    "class Animal:\n",
    "    def make_sound(self):\n",
    "        print(\"Animal makes a sound\")\n",
    "\n",
    "class Dog(Animal):\n",
    "    def make_sound(self):\n",
    "        print(\"Dog barks\")\n",
    "\n",
    "class Cat(Animal):\n",
    "    def make_sound(self):\n",
    "        print(\"Cat meows\")\n",
    "\n",
    "# Polymorphic behavior\n",
    "animals = [Dog(), Cat(), Animal()]\n",
    "for animal in animals:\n",
    "    animal.make_sound()\n"
   ]
  },
  {
   "cell_type": "code",
   "execution_count": 3,
   "id": "03b28009-0e39-446d-b153-c83f3b50903f",
   "metadata": {},
   "outputs": [],
   "source": [
    "#In Object-Oriented Programming (OOP), the dot (.) operator is also called the \"member access operator\" or \"attribute access operator\"."
   ]
  },
  {
   "cell_type": "code",
   "execution_count": 5,
   "id": "eee9e432-d7ec-4972-8196-7090bc6110ab",
   "metadata": {},
   "outputs": [
    {
     "name": "stdout",
     "output_type": "stream",
     "text": [
      "0 1 1 2 3 5 8 13 21 34 "
     ]
    }
   ],
   "source": [
    "# Fibonacci Series Using Iteration (Loop)\n",
    "def fibonacci_iterative(n):\n",
    "    a, b = 0, 1\n",
    "    for _ in range(n):\n",
    "        print(a, end=\" \")\n",
    "        a, b = b, a + b\n",
    "\n",
    "fibonacci_iterative(10)  # First 10 Fibonacci numbers\n"
   ]
  },
  {
   "cell_type": "code",
   "execution_count": 7,
   "id": "6dd4dd79-bceb-4bd7-8dc4-b5ee0f1bd550",
   "metadata": {},
   "outputs": [
    {
     "name": "stdout",
     "output_type": "stream",
     "text": [
      "0 1 1 2 3 5 8 13 21 34 "
     ]
    }
   ],
   "source": [
    "#Fibonacci Series Using Recursion\n",
    "def fibonacci_recursive(n):\n",
    "    if n <= 0:\n",
    "        return 0\n",
    "    elif n == 1:\n",
    "        return 1\n",
    "    else:\n",
    "        return fibonacci_recursive(n - 1) + fibonacci_recursive(n - 2)\n",
    "\n",
    "# Print first 10 Fibonacci numbers\n",
    "for i in range(10):\n",
    "    print(fibonacci_recursive(i), end=\" \")\n"
   ]
  },
  {
   "cell_type": "code",
   "execution_count": 11,
   "id": "e7a36998-c61a-42b8-9ac0-7500f4297d13",
   "metadata": {},
   "outputs": [
    {
     "name": "stdout",
     "output_type": "stream",
     "text": [
      "0 1 1 2 3 5 8 13 21 34 "
     ]
    }
   ],
   "source": [
    "#Fibonacci Series Using Dynamic Programming (Memoization)\n",
    "def fibonacci_memoization(n, memo={}):\n",
    "    if n in memo:\n",
    "        return memo[n]\n",
    "    if n <= 0:\n",
    "        return 0\n",
    "    elif n == 1:\n",
    "        return 1\n",
    "    else:\n",
    "        memo[n] = fibonacci_memoization(n - 1, memo) + fibonacci_memoization(n - 2, memo)\n",
    "        return memo[n]\n",
    "\n",
    "# Print first 10 Fibonacci numbers\n",
    "for i in range(10):\n",
    "    print(fibonacci_memoization(i), end=\" \")\n"
   ]
  },
  {
   "cell_type": "code",
   "execution_count": 26,
   "id": "5d0175f2-bf02-4932-9970-b135bdd70d68",
   "metadata": {},
   "outputs": [
    {
     "data": {
      "text/plain": [
       "<generator object fun at 0x000001D60A435D80>"
      ]
     },
     "execution_count": 26,
     "metadata": {},
     "output_type": "execute_result"
    }
   ],
   "source": [
    "def fun(n):\n",
    "    for i in range(n):\n",
    "        yield i\n",
    "        \n",
    " #       return i\n",
    "    \n",
    "fun(10)\n",
    "\n"
   ]
  },
  {
   "cell_type": "code",
   "execution_count": null,
   "id": "9c19fee9-5f9d-4dd1-bd5a-adb05ed315a7",
   "metadata": {},
   "outputs": [],
   "source": [
    "# return VS yield\n",
    "# Both yield and return are used in functions, but they behave very differently.\n",
    "# When you use return in a function, the function stops immediately and gives back a value.\n",
    "# When you use yield, the function pauses and remembers where it left off."
   ]
  },
  {
   "cell_type": "code",
   "execution_count": 28,
   "id": "9eae7f40-6f88-49b8-9fee-20bd50926bc2",
   "metadata": {},
   "outputs": [
    {
     "name": "stdout",
     "output_type": "stream",
     "text": [
      "[1, 2, 3, 4]\n"
     ]
    }
   ],
   "source": [
    "def normal_function():\n",
    "    return [1, 2, 3, 4]  # Returns the entire list at once\n",
    "\n",
    "print(normal_function())  \n"
   ]
  },
  {
   "cell_type": "code",
   "execution_count": 32,
   "id": "41168bd9-5247-42a9-ba39-dbd0a06b8b10",
   "metadata": {},
   "outputs": [
    {
     "name": "stdout",
     "output_type": "stream",
     "text": [
      "1\n",
      "2\n"
     ]
    }
   ],
   "source": [
    "def generator_function():\n",
    "    for i in range(1, 5):\n",
    "        yield i  # Pauses execution and remembers state\n",
    "\n",
    "gen = generator_function()\n",
    "print(next(gen))  # Output: 1\n",
    "print(next(gen))  # Output: 2\n"
   ]
  },
  {
   "cell_type": "code",
   "execution_count": 38,
   "id": "712014c3-44e0-4dea-b08d-7a77311207ab",
   "metadata": {},
   "outputs": [
    {
     "name": "stdout",
     "output_type": "stream",
     "text": [
      "1\n",
      "2\n",
      "3\n"
     ]
    }
   ],
   "source": [
    "# Generator Function (Using yield)\n",
    "def count_up_to(n):\n",
    "    count = 1\n",
    "    while count <= n:\n",
    "        yield count\n",
    "        count += 1  # Pauses here, remembers state\n",
    "\n",
    "gen = count_up_to(5)  # Creates generator\n",
    "\n",
    "print(next(gen)) \n",
    "print(next(gen))\n",
    "int(next(gen))\n"
   ]
  },
  {
   "cell_type": "code",
   "execution_count": 36,
   "id": "e397f1be-8d49-40d7-8d7a-a497c5498afc",
   "metadata": {},
   "outputs": [
    {
     "name": "stdout",
     "output_type": "stream",
     "text": [
      "8\n",
      "8\n"
     ]
    }
   ],
   "source": [
    "#Anonymous Function (Lambda Function)\n",
    "def add(a, b):\n",
    "    return a + b\n",
    "\n",
    "# Anonymous function (Lambda)\n",
    "add_lambda = lambda a, b: a + b\n",
    "\n",
    "print(add(3, 5))       \n",
    "print(add_lambda(3, 5))"
   ]
  }
 ],
 "metadata": {
  "kernelspec": {
   "display_name": "Python [conda env:base] *",
   "language": "python",
   "name": "conda-base-py"
  },
  "language_info": {
   "codemirror_mode": {
    "name": "ipython",
    "version": 3
   },
   "file_extension": ".py",
   "mimetype": "text/x-python",
   "name": "python",
   "nbconvert_exporter": "python",
   "pygments_lexer": "ipython3",
   "version": "3.12.7"
  }
 },
 "nbformat": 4,
 "nbformat_minor": 5
}
