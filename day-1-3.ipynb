{
 "cells": [
  {
   "cell_type": "code",
   "execution_count": null,
   "id": "807a079d-b8ed-464d-874d-496eed13e7ff",
   "metadata": {},
   "outputs": [],
   "source": [
    "A=int(input(\"enter number A\"))\n",
    "B=int(input(\"enter number B\"))\n",
    "print(\"sum is:\",A+B)"
   ]
  },
  {
   "cell_type": "code",
   "execution_count": 1,
   "id": "06b2c3a3-d424-4393-baf0-c8380efad250",
   "metadata": {},
   "outputs": [
    {
     "name": "stdin",
     "output_type": "stream",
     "text": [
      "enter number to check even or odd 11\n"
     ]
    },
    {
     "name": "stdout",
     "output_type": "stream",
     "text": [
      "the number is odd\n"
     ]
    }
   ],
   "source": [
    "a=input(\"enter number to check even or odd\")\n",
    "\n",
    "a=int(a)\n",
    "\n",
    "if a %  2==0:\n",
    "    print(\"the number is even\")\n",
    "else:\n",
    "    print(\"the number is odd\")"
   ]
  },
  {
   "cell_type": "code",
   "execution_count": 5,
   "id": "d5bf004d-7b85-4957-a088-4ef0a7e0a96f",
   "metadata": {},
   "outputs": [
    {
     "name": "stdout",
     "output_type": "stream",
     "text": [
      "['ali', 'ahmad', 'khan']\n"
     ]
    }
   ],
   "source": [
    "students=[\"ali\",\"ahmad\"]\n",
    "students.append(\"khan\")\n",
    "print(students)"
   ]
  },
  {
   "cell_type": "code",
   "execution_count": 9,
   "id": "e7fdf767-bfe9-4414-8af9-a3ccea089f5b",
   "metadata": {},
   "outputs": [
    {
     "name": "stdout",
     "output_type": "stream",
     "text": [
      "15\n"
     ]
    }
   ],
   "source": [
    "my_list = [10, 5, 8, 20, 15]\n",
    "sorted_list = sorted(my_list)\n",
    "print(sorted_list[-2])"
   ]
  },
  {
   "cell_type": "code",
   "execution_count": 21,
   "id": "6ff261f0-0e4b-4ed2-980a-58c26273049f",
   "metadata": {},
   "outputs": [
    {
     "name": "stdout",
     "output_type": "stream",
     "text": [
      "First element: 110\n",
      "Last element: sadam\n"
     ]
    }
   ],
   "source": [
    "# Creating a tuple with mixed elements\n",
    "my_tuple = (110, \"hi\", 3, True, \"sadam\")\n",
    "print(\"First element:\", my_tuple[0])\n",
    "print(\"Last element:\", my_tuple[-1])\n"
   ]
  },
  {
   "cell_type": "code",
   "execution_count": 13,
   "id": "3c112c64-5c80-4198-bd3b-b64fa21f365d",
   "metadata": {},
   "outputs": [
    {
     "name": "stdout",
     "output_type": "stream",
     "text": [
      "Tuple with even numbers: (2, 4, 6, 8)\n"
     ]
    }
   ],
   "source": [
    "num_tuple = (1, 2, 3, 4, 5, 6, 7, 8, 9)\n",
    "# Extracting even numbers using tuple slicing and list comprehension\n",
    "even_numbers = tuple(x for x in num_tuple if x % 2 == 0)\n",
    "print(\"Tuple with even numbers:\", even_numbers)\n"
   ]
  },
  {
   "cell_type": "code",
   "execution_count": 15,
   "id": "ba7aac04-916b-4d0c-8ca9-beb93ccf1f4b",
   "metadata": {},
   "outputs": [
    {
     "name": "stdout",
     "output_type": "stream",
     "text": [
      "Concatenated and repeated tuple: (1, 2, 3, 'a', 'b', 'c', 1, 2, 3, 'a', 'b', 'c')\n"
     ]
    }
   ],
   "source": [
    "# Creating two tuples\n",
    "tuple1 = (1, 2, 3)\n",
    "tuple2 = (\"a\", \"b\", \"c\")\n",
    "\n",
    "# Concatenating tuples\n",
    "concatenated_tuple = tuple1 + tuple2\n",
    "\n",
    "# Repeating the tuple twice\n",
    "result_tuple = concatenated_tuple * 2\n",
    "\n",
    "print(\"Concatenated and repeated tuple:\", result_tuple)\n"
   ]
  },
  {
   "cell_type": "code",
   "execution_count": 19,
   "id": "78ce9c48-304c-4a9e-be95-942def2dbdfb",
   "metadata": {},
   "outputs": [
    {
     "name": "stdout",
     "output_type": "stream",
     "text": [
      "exists in the tuple.\n"
     ]
    }
   ],
   "source": [
    "sample_tuple = (10, 20, 30, 40, 50)\n",
    "\n",
    "# Element to check\n",
    "element = 30\n",
    "\n",
    "# Checking existence\n",
    "if element in sample_tuple:\n",
    "    print(\"exists in the tuple.\")\n",
    "else:\n",
    "    print(\"does not exist in the tuple.\")\n"
   ]
  },
  {
   "cell_type": "code",
   "execution_count": null,
   "id": "1bf7c7a8-464e-4852-ac61-dc88a948318a",
   "metadata": {},
   "outputs": [],
   "source": []
  }
 ],
 "metadata": {
  "kernelspec": {
   "display_name": "Python [conda env:base] *",
   "language": "python",
   "name": "conda-base-py"
  },
  "language_info": {
   "codemirror_mode": {
    "name": "ipython",
    "version": 3
   },
   "file_extension": ".py",
   "mimetype": "text/x-python",
   "name": "python",
   "nbconvert_exporter": "python",
   "pygments_lexer": "ipython3",
   "version": "3.12.7"
  }
 },
 "nbformat": 4,
 "nbformat_minor": 5
}
