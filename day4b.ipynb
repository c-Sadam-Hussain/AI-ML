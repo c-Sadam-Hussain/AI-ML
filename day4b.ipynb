{
 "cells": [
  {
   "cell_type": "code",
   "execution_count": 1,
   "id": "85f6d7e2-47ea-4380-9923-438875cf0605",
   "metadata": {},
   "outputs": [
    {
     "name": "stdout",
     "output_type": "stream",
     "text": [
      "Grade: B\n"
     ]
    }
   ],
   "source": [
    "score = 85\n",
    "\n",
    "if score >= 90:\n",
    "    print(\"Grade: A\")\n",
    "elif score >= 80:\n",
    "    print(\"Grade: B\")\n",
    "elif score >= 70:\n",
    "    print(\"Grade: C\")\n",
    "else:\n",
    "    print(\"Grade: F\")\n"
   ]
  },
  {
   "cell_type": "code",
   "execution_count": 3,
   "id": "3ba3932c-7db5-40c3-a77f-2fd8be5231ff",
   "metadata": {},
   "outputs": [
    {
     "name": "stdout",
     "output_type": "stream",
     "text": [
      "Eligible for loan\n"
     ]
    }
   ],
   "source": [
    "age = 25\n",
    "income = 50000\n",
    "\n",
    "if age >= 18 and income >= 30000:\n",
    "    print(\"Eligible for loan\")\n",
    "else:\n",
    "    print(\"Not eligible for loan\")\n"
   ]
  },
  {
   "cell_type": "code",
   "execution_count": 5,
   "id": "d7eac950-fa5d-4309-899e-3287cb8b79e3",
   "metadata": {},
   "outputs": [
    {
     "name": "stdout",
     "output_type": "stream",
     "text": [
      "It's too hot outside!\n"
     ]
    }
   ],
   "source": [
    "temperature = 35\n",
    "humidity = 90\n",
    "\n",
    "if temperature > 30 or humidity > 80:\n",
    "    print(\"It's too hot outside!\")\n",
    "else:\n",
    "    print(\"Weather is fine.\")\n"
   ]
  },
  {
   "cell_type": "code",
   "execution_count": 7,
   "id": "01643c17-4378-4849-a963-f859e1d20f1d",
   "metadata": {},
   "outputs": [
    {
     "name": "stdout",
     "output_type": "stream",
     "text": [
      "Go outside and enjoy the weather!\n"
     ]
    }
   ],
   "source": [
    "is_raining = False\n",
    "\n",
    "if not is_raining:\n",
    "    print(\"Go outside and enjoy the weather!\")\n",
    "else:\n",
    "    print(\"Better take an umbrella.\")\n"
   ]
  },
  {
   "cell_type": "code",
   "execution_count": 9,
   "id": "646f3b78-afc1-4168-b505-d0427d1c2529",
   "metadata": {},
   "outputs": [
    {
     "name": "stdout",
     "output_type": "stream",
     "text": [
      "1\n",
      "2\n"
     ]
    }
   ],
   "source": [
    "for i in range(1, 6):\n",
    "    if i == 3:\n",
    "        break  # Exits the loop when i == 3\n",
    "    print(i)\n"
   ]
  },
  {
   "cell_type": "code",
   "execution_count": 13,
   "id": "95c30dac-c149-444e-9097-bef0387c9c51",
   "metadata": {},
   "outputs": [
    {
     "name": "stdout",
     "output_type": "stream",
     "text": [
      "1\n",
      "2\n",
      "4\n",
      "5\n"
     ]
    }
   ],
   "source": [
    "for i in range(1, 6):\n",
    "    if i == 3:\n",
    "        continue  # Skips printing 3\n",
    "    print(i)\n"
   ]
  },
  {
   "cell_type": "code",
   "execution_count": 15,
   "id": "31db94cd-0462-4707-b312-a94055bec521",
   "metadata": {},
   "outputs": [
    {
     "name": "stdout",
     "output_type": "stream",
     "text": [
      "1\n",
      "2\n",
      "3\n",
      "4\n",
      "5\n"
     ]
    }
   ],
   "source": [
    "for i in range(1, 6):\n",
    "    if i == 3:\n",
    "        pass  # Placeholder, does nothing\n",
    "    print(i)\n"
   ]
  },
  {
   "cell_type": "code",
   "execution_count": 17,
   "id": "3f8e666c-70a7-4ca1-b5fb-d83b27cf72f5",
   "metadata": {},
   "outputs": [
    {
     "name": "stdout",
     "output_type": "stream",
     "text": [
      "1\n",
      "2\n",
      "3\n",
      "4\n",
      "5\n"
     ]
    }
   ],
   "source": [
    "i = 1\n",
    "while i <= 5:\n",
    "    print(i)\n",
    "    i += 1  # Increment i to avoid infinite loop\n"
   ]
  },
  {
   "cell_type": "code",
   "execution_count": 19,
   "id": "292ba4db-e93d-4f35-bd89-9ef7fdce5bda",
   "metadata": {},
   "outputs": [
    {
     "name": "stdout",
     "output_type": "stream",
     "text": [
      "apple\n",
      "banana\n",
      "cherry\n"
     ]
    }
   ],
   "source": [
    "fruits = [\"apple\", \"banana\", \"cherry\"]\n",
    "\n",
    "for fruit in fruits:\n",
    "    print(fruit)\n"
   ]
  },
  {
   "cell_type": "code",
   "execution_count": 25,
   "id": "76320592-7d94-4718-b553-696f0197c421",
   "metadata": {},
   "outputs": [
    {
     "name": "stdout",
     "output_type": "stream",
     "text": [
      "* * * * \n",
      "* * * * \n",
      "* * * * \n"
     ]
    }
   ],
   "source": [
    "for i in range(3):  # Outer loop (Runs 3 times)\n",
    "    for j in range(4):  # Inner loop (Runs 4 times per outer loop)\n",
    "        print(\"*\", end=\" \")  # Print * on the same line\n",
    "    print()  # Move to the next line\n"
   ]
  },
  {
   "cell_type": "code",
   "execution_count": null,
   "id": "ce2e0bd4-aa54-4f99-9c36-2b7b90186972",
   "metadata": {},
   "outputs": [],
   "source": []
  }
 ],
 "metadata": {
  "kernelspec": {
   "display_name": "Python [conda env:base] *",
   "language": "python",
   "name": "conda-base-py"
  },
  "language_info": {
   "codemirror_mode": {
    "name": "ipython",
    "version": 3
   },
   "file_extension": ".py",
   "mimetype": "text/x-python",
   "name": "python",
   "nbconvert_exporter": "python",
   "pygments_lexer": "ipython3",
   "version": "3.12.7"
  }
 },
 "nbformat": 4,
 "nbformat_minor": 5
}
