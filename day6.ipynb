{
 "cells": [
  {
   "cell_type": "code",
   "execution_count": 23,
   "id": "7cf1d52d-ddd2-492f-aeb1-a411b9af92dd",
   "metadata": {},
   "outputs": [],
   "source": [
    "#Traditional (Procedural) Programming VS  Object-Oriented Programming (OOP)"
   ]
  },
  {
   "cell_type": "code",
   "execution_count": 19,
   "id": "a8da3e7e-fffb-4d89-81fd-3ce1cff20ef7",
   "metadata": {},
   "outputs": [
    {
     "name": "stdout",
     "output_type": "stream",
     "text": [
      "30\n"
     ]
    }
   ],
   "source": [
    "class Addition:\n",
    "    def add(self, num1, num2): \n",
    "        return num1 + num2 \n",
    "\n",
    "obj = Addition()\n",
    "result = obj.add(10, 20)\n",
    "print(result) "
   ]
  },
  {
   "cell_type": "code",
   "execution_count": 27,
   "id": "49155d24-1cba-4fbb-8abe-a71395fbb531",
   "metadata": {},
   "outputs": [
    {
     "name": "stdout",
     "output_type": "stream",
     "text": [
      "Deposited: $500. New Balance: $1500\n"
     ]
    }
   ],
   "source": [
    "class BankAccount:\n",
    "    def __init__(self, balance):\n",
    "        self.balance = balance \n",
    "\n",
    "    def deposit(self, amount):\n",
    "        if amount > 0:\n",
    "            self.balance += amount\n",
    "            print(f\"Deposited: ${amount}. New Balance: ${self.balance}\")\n",
    "        else:\n",
    "            print(\"Deposit amount must be positive.\")\n",
    "\n",
    "# Creating an account with an initial balance\n",
    "account = BankAccount(1000)\n",
    "\n",
    "# Depositing money\n",
    "account.deposit(500) \n"
   ]
  },
  {
   "cell_type": "code",
   "execution_count": 29,
   "id": "bb5e3bf9-2bc5-4b54-91d0-8cd35c0db735",
   "metadata": {},
   "outputs": [
    {
     "name": "stdout",
     "output_type": "stream",
     "text": [
      "Deposited: $500. New Balance: $1500\n",
      "Interest Added: $75.0. New Balance: $1575.0\n"
     ]
    }
   ],
   "source": [
    "#In inheritance, the super() function in Python is used to call the constructor of the parent class from a child class.\n",
    "#This allows the child class to inherit the attributes and methods of the parent class while also adding its own functionality\n",
    "class BankAccount:\n",
    "    def __init__(self, balance):\n",
    "        self.balance = balance \n",
    "    def deposit(self, amount):\n",
    "        if amount > 0:\n",
    "            self.balance += amount\n",
    "            print(f\"Deposited: ${amount}. New Balance: ${self.balance}\")\n",
    "        else:\n",
    "            print(\"Deposit amount must be positive.\")\n",
    "\n",
    "class SavingsAccount(BankAccount):\n",
    "    def __init__(self, balance, interest_rate):\n",
    "        super().__init__(balance)  # Call parent class constructor\n",
    "        self.interest_rate = interest_rate\n",
    "\n",
    "    def add_interest(self):\n",
    "        interest = self.balance * (self.interest_rate / 100)\n",
    "        self.balance += interest\n",
    "        print(f\"Interest Added: ${interest}. New Balance: ${self.balance}\")\n",
    "\n",
    "# Creating an object of SavingsAccount\n",
    "savings = SavingsAccount(1000, 5)  # $1000 balance, 5% interest rate\n",
    "\n",
    "# Using inherited method\n",
    "savings.deposit(500)   # Deposited: $500. New Balance: $1500\n",
    "\n",
    "# Using child class method\n",
    "savings.add_interest() # Interest Added: $75.0. New Balance: $1575.0\n"
   ]
  },
  {
   "cell_type": "code",
   "execution_count": 3,
   "id": "f4421ccf-c715-42ee-977c-889c8539b88b",
   "metadata": {},
   "outputs": [
    {
     "data": {
      "text/plain": [
       "3"
      ]
     },
     "execution_count": 3,
     "metadata": {},
     "output_type": "execute_result"
    }
   ],
   "source": [
    "def add(a,b):\n",
    "    return a + b\n",
    "\n",
    "add(1,2)"
   ]
  }
 ],
 "metadata": {
  "kernelspec": {
   "display_name": "Python [conda env:base] *",
   "language": "python",
   "name": "conda-base-py"
  },
  "language_info": {
   "codemirror_mode": {
    "name": "ipython",
    "version": 3
   },
   "file_extension": ".py",
   "mimetype": "text/x-python",
   "name": "python",
   "nbconvert_exporter": "python",
   "pygments_lexer": "ipython3",
   "version": "3.12.7"
  }
 },
 "nbformat": 4,
 "nbformat_minor": 5
}
