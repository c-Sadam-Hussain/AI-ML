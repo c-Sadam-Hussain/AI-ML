{
 "cells": [
  {
   "cell_type": "code",
   "execution_count": null,
   "id": "5d7c7b02-3b3c-4340-b6e6-ea23802c6a5a",
   "metadata": {},
   "outputs": [],
   "source": [
    "arrays concatination\n",
    "\n",
    "axis 0 = rows\n",
    "axis 1 = columns\n",
    "\n",
    "finding dimention of arrays , 1d , 2d , 3d\n",
    "arr.shape\n",
    "np.reshape\n",
    "see other optional parameters of reshape\n",
    "order c = used to populate row first\n",
    "order f = used to populate column first\n",
    "np.arrange(6)\n",
    "\n",
    "row vector \n",
    "column vector\n",
    "\n",
    "expand dimension\n",
    "\n",
    "indexing and slicing of arary\n",
    "\n",
    "np.vstack(arr1,arr2) = for vertical stack\n",
    "np.hstack(arr1,arr2) = for horizontal stack\n",
    "\n",
    "np.hsplit(arr1,3) = for horizontal split\n",
    "\n",
    "copy arr\n",
    "insert and append\n",
    "sorting array in ascending and decending order\n",
    "NumPy Array Reshaping\n",
    "NumPy Splitting Array\n",
    "NumPy Array Copy vs View\n",
    "\n",
    "deleting element from array"
   ]
  },
  {
   "cell_type": "code",
   "execution_count": 21,
   "id": "585d1ac2-ce12-47c4-bbec-48f262aedec0",
   "metadata": {},
   "outputs": [
    {
     "name": "stdout",
     "output_type": "stream",
     "text": [
      "Original List: [[99, 2, 3], [4, 5, 6]]\n",
      "Shallow Copy: [[99, 2, 3], [4, 5, 6]]\n",
      "Deep Copy: [[99, 2, 3], [4, 88, 6]]\n",
      "\n",
      "========================================\n",
      "\n",
      "Original Array: [99  2  3]\n",
      "Shallow Copy: [99  2  3]\n",
      "Deep Copy: [99 88  3]\n"
     ]
    }
   ],
   "source": [
    "import copy\n",
    "import numpy as np\n",
    "\n",
    "original_list = [[1, 2, 3], [4, 5, 6]]\n",
    "\n",
    "# Shallow Copy\n",
    "shallow_list = copy.copy(original_list)\n",
    "shallow_list[0][0] = 99  # Modifying nested list affects the original\n",
    "\n",
    "# Deep Copy\n",
    "deep_list = copy.deepcopy(original_list)\n",
    "deep_list[1][1] = 88  # No effect on original\n",
    "\n",
    "print(\"Original List:\", original_list)\n",
    "print(\"Shallow Copy:\", shallow_list)\n",
    "print(\"Deep Copy:\", deep_list)\n",
    "\n",
    "print(\"\\n\" + \"=\"*40 + \"\\n\")  # Separator\n",
    "\n",
    "# ====== Shallow vs Deep Copy for NumPy Arrays ======\n",
    "original_array = np.array([1, 2, 3])\n",
    "\n",
    "# Shallow Copy using view()\n",
    "shallow_array = original_array.view()\n",
    "shallow_array[0] = 99  # Affects original array\n",
    "\n",
    "# Deep Copy using copy()\n",
    "deep_array = original_array.copy()\n",
    "deep_array[1] = 88  # Does NOT affect original\n",
    "\n",
    "print(\"Original Array:\", original_array)\n",
    "print(\"Shallow Copy:\", shallow_array)\n",
    "print(\"Deep Copy:\", deep_array)\n"
   ]
  },
  {
   "cell_type": "code",
   "execution_count": null,
   "id": "8d12daaa-eb3c-45f7-8bed-88dade5a9fe9",
   "metadata": {},
   "outputs": [],
   "source": []
  },
  {
   "cell_type": "code",
   "execution_count": 7,
   "id": "9545a8b7-a090-4a94-af1c-03b35f10507f",
   "metadata": {},
   "outputs": [
    {
     "name": "stdout",
     "output_type": "stream",
     "text": [
      "20\n"
     ]
    }
   ],
   "source": [
    "import numpy as np\n",
    "arr = np.array([5, 10, 15, 20, 25]) \n",
    "a = arr[3] \n",
    "print(a)\n"
   ]
  },
  {
   "cell_type": "code",
   "execution_count": 9,
   "id": "0dbada7f-9379-45ee-807d-ce64ea86c629",
   "metadata": {},
   "outputs": [
    {
     "name": "stdout",
     "output_type": "stream",
     "text": [
      "[1 2 3 4]\n"
     ]
    }
   ],
   "source": [
    "import numpy as np\n",
    "arr = np.array([1, 2, 3, 4, 5, 6])\n",
    "sub_array = arr[:4] \n",
    "print(sub_array)\n"
   ]
  },
  {
   "cell_type": "code",
   "execution_count": 11,
   "id": "d49a907e-9f6b-43a9-b3e5-88cbf4291e81",
   "metadata": {},
   "outputs": [
    {
     "name": "stdout",
     "output_type": "stream",
     "text": [
      "[[ 7  8  9 10]]\n",
      "Shape of the array: (1, 4)\n"
     ]
    }
   ],
   "source": [
    "import numpy as np\n",
    "arr = np.array([7, 8, 9, 10])  \n",
    "reshaped_arr = arr.reshape(1, 4) \n",
    "print(reshaped_arr)\n",
    "print(\"Shape of the array:\", reshaped_arr.shape) \n"
   ]
  },
  {
   "cell_type": "code",
   "execution_count": 33,
   "id": "ab110edd-c1ec-41f9-af52-57255a75c690",
   "metadata": {},
   "outputs": [
    {
     "name": "stdout",
     "output_type": "stream",
     "text": [
      "[[11]\n",
      " [12]\n",
      " [13]\n",
      " [14]]\n",
      "Shape of the array: (4, 1)\n"
     ]
    }
   ],
   "source": [
    "import numpy as np\n",
    "arr = np.array([11, 12, 13, 14])  \n",
    "\n",
    "arr_2d = np.expand_dims(arr, axis=1) \n",
    "\n",
    "print(arr_2d)\n",
    "print(\"Shape of the array:\", arr_2d.shape) \n"
   ]
  },
  {
   "cell_type": "code",
   "execution_count": 27,
   "id": "a78a1a03-28f4-476c-ab0a-ed59465418e5",
   "metadata": {},
   "outputs": [
    {
     "name": "stdout",
     "output_type": "stream",
     "text": [
      "[99 24 36 48]\n",
      "[99 24 36 48 60]\n"
     ]
    }
   ],
   "source": [
    "import numpy as np\n",
    "arr = np.array([12,24,36,48,60])\n",
    "sub_array = arr[:4] \n",
    "sub_array[0]=99\n",
    "print(sub_array)\n",
    "print(arr)"
   ]
  },
  {
   "cell_type": "code",
   "execution_count": 29,
   "id": "9c5e2214-db87-4050-aac9-0989a6f9cb1b",
   "metadata": {},
   "outputs": [
    {
     "name": "stdout",
     "output_type": "stream",
     "text": [
      "[1 4 3 5 2 9]\n"
     ]
    }
   ],
   "source": [
    "import numpy as np\n",
    "\n",
    "arr = np.array([1, 3, 5])\n",
    "arr = np.append(arr, [2, 9])  \n",
    "arr = np.insert(arr, 1, 4)   \n",
    "\n",
    "print(arr)\n"
   ]
  },
  {
   "cell_type": "code",
   "execution_count": 43,
   "id": "c2b12627-c9c6-4466-a773-a20cd8c811fe",
   "metadata": {},
   "outputs": [
    {
     "name": "stdout",
     "output_type": "stream",
     "text": [
      "10 sadam\n"
     ]
    }
   ],
   "source": [
    "a=10\n",
    "b=\"sadam\"\n",
    "print(a , b)"
   ]
  },
  {
   "cell_type": "code",
   "execution_count": null,
   "id": "39a7234e-a469-42ce-90f6-d452e1806cd9",
   "metadata": {},
   "outputs": [],
   "source": []
  }
 ],
 "metadata": {
  "kernelspec": {
   "display_name": "Python [conda env:base] *",
   "language": "python",
   "name": "conda-base-py"
  },
  "language_info": {
   "codemirror_mode": {
    "name": "ipython",
    "version": 3
   },
   "file_extension": ".py",
   "mimetype": "text/x-python",
   "name": "python",
   "nbconvert_exporter": "python",
   "pygments_lexer": "ipython3",
   "version": "3.12.7"
  }
 },
 "nbformat": 4,
 "nbformat_minor": 5
}
