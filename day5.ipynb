{
 "cells": [
  {
   "cell_type": "code",
   "execution_count": 1,
   "id": "eaed821d-b011-4779-9aa0-fd69a5d95756",
   "metadata": {},
   "outputs": [
    {
     "data": {
      "text/plain": [
       "12"
      ]
     },
     "execution_count": 1,
     "metadata": {},
     "output_type": "execute_result"
    }
   ],
   "source": [
    "def add(a, b):\n",
    "    return a + b\n",
    "\n",
    "add(5,7)"
   ]
  },
  {
   "cell_type": "code",
   "execution_count": 3,
   "id": "6ded286a-bf97-42af-946c-59a9317cec0b",
   "metadata": {},
   "outputs": [
    {
     "name": "stdout",
     "output_type": "stream",
     "text": [
      "10 is even.\n",
      "7 is odd.\n"
     ]
    }
   ],
   "source": [
    "def check_even_odd(number):\n",
    "    \"\"\"This function checks if a number is even or odd.\"\"\"\n",
    "    if number % 2 == 0:\n",
    "        return f\"{number} is even.\"\n",
    "    else:\n",
    "        return f\"{number} is odd.\"\n",
    "\n",
    "print(check_even_odd(10))  # Even\n",
    "print(check_even_odd(7))   # Odd\n"
   ]
  },
  {
   "cell_type": "code",
   "execution_count": 5,
   "id": "86aad6a5-1cc5-42c3-b30c-bef88975caba",
   "metadata": {},
   "outputs": [
    {
     "name": "stdout",
     "output_type": "stream",
     "text": [
      "Hello, Sadam!\n",
      "Hello, Guest!\n"
     ]
    }
   ],
   "source": [
    "def greet(name=\"Guest\"):\n",
    "    \"\"\"This function greets the user. If no name is provided, it defaults to 'Guest'.\"\"\"\n",
    "    return f\"Hello, {name}!\"\n",
    "\n",
    "print(greet(\"Sadam\"))  # Output: Hello, Sadam!\n",
    "print(greet())         # Output: Hello, Guest!\n"
   ]
  },
  {
   "cell_type": "code",
   "execution_count": 7,
   "id": "d3f0ff77-adc4-4bd3-a2a8-a05c048ac3af",
   "metadata": {},
   "outputs": [
    {
     "name": "stdout",
     "output_type": "stream",
     "text": [
      "My name is Sadam, I am 25 years old, and I am from Pakistan.\n",
      "My name is Ali, I am 30 years old, and I am from Unknown.\n",
      "My name is Aisha, I am 22 years old, and I am from Unknown.\n"
     ]
    }
   ],
   "source": [
    "def introduce(name, age, country=\"Unknown\"):\n",
    "    \"\"\"This function introduces a person with their name, age, and country.\"\"\"\n",
    "    return f\"My name is {name}, I am {age} years old, and I am from {country}.\"\n",
    "\n",
    "# Using keyword arguments\n",
    "print(introduce(name=\"Sadam\", age=25, country=\"Pakistan\"))\n",
    "print(introduce(age=30, name=\"Ali\"))  # Order changed, but works fine\n",
    "print(introduce(name=\"Aisha\", age=22))  # 'country' uses the default value\n"
   ]
  },
  {
   "cell_type": "code",
   "execution_count": 9,
   "id": "7238925b-b088-45e6-b376-c75c8c85ccb8",
   "metadata": {},
   "outputs": [
    {
     "name": "stdout",
     "output_type": "stream",
     "text": [
      "I have a dog named Bruno.\n",
      "I have a cat named Whiskers.\n"
     ]
    }
   ],
   "source": [
    "def describe_pet(animal, name):\n",
    "    \"\"\"This function describes a pet with its type and name.\"\"\"\n",
    "    return f\"I have a {animal} named {name}.\"\n",
    "\n",
    "# Using positional arguments\n",
    "print(describe_pet(\"dog\", \"Bruno\"))\n",
    "print(describe_pet(\"cat\", \"Whiskers\"))\n"
   ]
  },
  {
   "cell_type": "code",
   "execution_count": 11,
   "id": "7b16d5ec-f709-49a1-80c6-187c6f251160",
   "metadata": {},
   "outputs": [
    {
     "name": "stdout",
     "output_type": "stream",
     "text": [
      "10\n",
      "15\n"
     ]
    }
   ],
   "source": [
    "def add_numbers(*args):\n",
    "    \"\"\"This function takes multiple numbers and returns their sum.\"\"\"\n",
    "    return sum(args)\n",
    "\n",
    "print(add_numbers(2, 3, 5))       # Output: 10\n",
    "print(add_numbers(1, 2, 3, 4, 5)) # Output: 15\n"
   ]
  },
  {
   "cell_type": "code",
   "execution_count": 13,
   "id": "072a31b0-1565-4667-b7db-1fc95dd0dee7",
   "metadata": {},
   "outputs": [
    {
     "name": "stdout",
     "output_type": "stream",
     "text": [
      "name: Sadam\n",
      "age: 25\n",
      "country: Pakistan\n"
     ]
    }
   ],
   "source": [
    "def describe_person(**kwargs):\n",
    "    \"\"\"This function prints details about a person.\"\"\"\n",
    "    for key, value in kwargs.items():\n",
    "        print(f\"{key}: {value}\")\n",
    "\n",
    "describe_person(name=\"Sadam\", age=25, country=\"Pakistan\")\n"
   ]
  },
  {
   "cell_type": "code",
   "execution_count": 1,
   "id": "98f3e0cf-6ded-4352-b73a-f10c6a5964af",
   "metadata": {},
   "outputs": [
    {
     "name": "stdout",
     "output_type": "stream",
     "text": [
      "Sum: 8, Product: 15\n"
     ]
    }
   ],
   "source": [
    "def math_operations(a, b):\n",
    "    \"\"\"This function performs math operations using a nested function.\"\"\"\n",
    "    \n",
    "    def add():\n",
    "        return a + b\n",
    "    \n",
    "    def multiply():\n",
    "        return a * b\n",
    "    \n",
    "    return f\"Sum: {add()}, Product: {multiply()}\"\n",
    "\n",
    "print(math_operations(5, 3))\n"
   ]
  },
  {
   "cell_type": "code",
   "execution_count": 7,
   "id": "34ef0d52-54fc-47ef-82f2-0716ee712559",
   "metadata": {},
   "outputs": [
    {
     "name": "stdout",
     "output_type": "stream",
     "text": [
      "[10, 20, 30]\n"
     ]
    }
   ],
   "source": [
    "#Anonymous Function (Lambda Function) in Python(function without name)\n",
    "numbers = [10, 15, 20, 25, 30]\n",
    "even_numbers = list(filter(lambda x: x % 2 == 0, numbers))\n",
    "print(even_numbers)  # Output: [10, 20, 30]\n"
   ]
  },
  {
   "cell_type": "code",
   "execution_count": 20,
   "id": "1476964e-121f-4e50-b721-c7b730c02308",
   "metadata": {},
   "outputs": [
    {
     "name": "stdout",
     "output_type": "stream",
     "text": [
      "6\n"
     ]
    }
   ],
   "source": [
    "def factorial(n):\n",
    "    \"\"\"finding fictorial through recursive function\"\"\"\n",
    "    if n == 0 or n == 1:  # Base case\n",
    "        return 1\n",
    "    else:\n",
    "        return n * factorial(n - 1)  # Recursive case\n",
    "\n",
    "print(factorial(3)) \n"
   ]
  },
  {
   "cell_type": "code",
   "execution_count": 24,
   "id": "55478330-1d9a-401f-9c44-a96e27d68daf",
   "metadata": {},
   "outputs": [
    {
     "name": "stdout",
     "output_type": "stream",
     "text": [
      "120\n"
     ]
    }
   ],
   "source": [
    "def factorial(n):\n",
    "    \"\"\"Finding factorial through traditional way\"\"\"\n",
    "    if n < 0:\n",
    "        return \"Enter whole numbers only\"\n",
    "    \n",
    "    result = 1\n",
    "    for i in range(1, n + 1):\n",
    "        result *= i \n",
    "    return result\n",
    "\n",
    "print(factorial(5))  \n"
   ]
  },
  {
   "cell_type": "code",
   "execution_count": 28,
   "id": "2b4045c6-5f9f-4e0d-9ff7-10fbd8c08545",
   "metadata": {},
   "outputs": [
    {
     "name": "stdout",
     "output_type": "stream",
     "text": [
      "10\n"
     ]
    }
   ],
   "source": [
    "def my_function(x):\n",
    "    x = 10  # Local variable\n",
    "    print(x)  # Accessible inside function\n",
    "\n",
    "my_function(2)\n",
    "# print(x)  # ❌ ERROR: 'x' is not defined outside the function\n"
   ]
  },
  {
   "cell_type": "code",
   "execution_count": 42,
   "id": "833b9fc1-a8e7-460c-8216-e56e209425e2",
   "metadata": {},
   "outputs": [
    {
     "name": "stdout",
     "output_type": "stream",
     "text": [
      "[2, 4, 6, 8, 10]\n"
     ]
    }
   ],
   "source": [
    "#map function\n",
    "def double(n):\n",
    "    return n * 2\n",
    "   # The map() function is used to apply a function to each item in an iterable  \n",
    "   #(like a list or tuple) and return a new iterable (map object).\n",
    "numbers = [1, 2, 3, 4, 5]\n",
    "doubled_numbers = list(map(double, numbers))  # Using map with a function\n",
    "print(doubled_numbers)\n"
   ]
  },
  {
   "cell_type": "code",
   "execution_count": 44,
   "id": "a2853005-abf0-472c-9911-b43bd69a331b",
   "metadata": {},
   "outputs": [
    {
     "name": "stdout",
     "output_type": "stream",
     "text": [
      "[1, 'Hello', [1, 2, 3]]\n"
     ]
    }
   ],
   "source": [
    "#filte function\n",
    "values = [0, 1, '', 'Hello', None, [], [1, 2, 3], False]\n",
    "\n",
    "# Using filter(None, iterable) removes all falsey values\n",
    "filtered_values = filter(None, values)\n",
    "\n",
    "print(list(filtered_values))  \n",
    "# Output: [1, 'Hello', [1, 2, 3]]\n"
   ]
  },
  {
   "cell_type": "code",
   "execution_count": 46,
   "id": "6711aa63-731d-4424-bfdf-a66ca18cf789",
   "metadata": {},
   "outputs": [
    {
     "name": "stdout",
     "output_type": "stream",
     "text": [
      "Sum: 15\n"
     ]
    }
   ],
   "source": [
    "#reduce function\n",
    "from functools import reduce\n",
    "\n",
    "numbers = [1, 2, 3, 4, 5]\n",
    "\n",
    "# Using reduce to sum the numbers\n",
    "result = reduce(lambda x, y: x + y, numbers)\n",
    "\n",
    "print(\"Sum:\", result)  # Output: Sum: 15\n"
   ]
  },
  {
   "cell_type": "code",
   "execution_count": 54,
   "id": "d489cf25-bfd2-43a7-8757-0091ea0593df",
   "metadata": {},
   "outputs": [
    {
     "name": "stdin",
     "output_type": "stream",
     "text": [
      "Enter a number:  0\n"
     ]
    },
    {
     "name": "stdout",
     "output_type": "stream",
     "text": [
      "Error: Cannot divide by zero!\n"
     ]
    }
   ],
   "source": [
    "try:\n",
    "    num = int(input(\"Enter a number: \"))\n",
    "    result = 10 / num  # This might cause an error if num is 0\n",
    "    print(\"Result:\", result)\n",
    "except ZeroDivisionError:\n",
    "    print(\"Error: Cannot divide by zero!\")\n",
    "except ValueError:\n",
    "    print(\"Error: Please enter a valid number!\")\n"
   ]
  },
  {
   "cell_type": "code",
   "execution_count": null,
   "id": "5db99547-b639-4da7-928d-32e2f45eff24",
   "metadata": {},
   "outputs": [],
   "source": [
    "try:\n",
    "    num = int(input(\"Enter a number: \"))\n",
    "    result = 10 / num  # Might raise ZeroDivisionError\n",
    "except ZeroDivisionError:\n",
    "    print(\"Error: Cannot divide by zero!\")\n",
    "except ValueError:\n",
    "    print(\"Error: Invalid input! Please enter a number.\")\n",
    "else:\n",
    "    print(\"Division successful! Result:\", result)  # Runs only if no exception\n",
    "finally:\n",
    "    print(\"This always runs, whether there is an error or not.\")  # Always executes\n"
   ]
  },
  {
   "cell_type": "code",
   "execution_count": 1,
   "id": "e8a013e8-330e-4564-9d2a-169f466324de",
   "metadata": {},
   "outputs": [
    {
     "name": "stdin",
     "output_type": "stream",
     "text": [
      "Enter the numerator:  22\n",
      "Enter the denominator:  22\n"
     ]
    },
    {
     "name": "stdout",
     "output_type": "stream",
     "text": [
      "Result: 1.0\n",
      "Thank you for using the safe divide program.\n"
     ]
    }
   ],
   "source": [
    "def safe_divide():\n",
    "    try:\n",
    "        num1 = float(input(\"Enter the numerator: \"))\n",
    "        num2 = float(input(\"Enter the denominator: \"))\n",
    "        result = num1 / num2  \n",
    "    except ZeroDivisionError:\n",
    "        print(\"Error: Cannot divide by zero!\")\n",
    "    except ValueError:\n",
    "        print(\"Error: Invalid input! Please enter numbers only.\")\n",
    "    else:\n",
    "        print(\"Result:\", result) \n",
    "    finally:\n",
    "        print(\"Thank you for using the safe divide program.\") \n",
    "\n",
    "safe_divide()\n"
   ]
  },
  {
   "cell_type": "code",
   "execution_count": null,
   "id": "a2816784-5407-4957-af17-c2bcf2ae6c9c",
   "metadata": {},
   "outputs": [
    {
     "name": "stdout",
     "output_type": "stream",
     "text": [
      "Welcome to the Safe Division Program!\n"
     ]
    },
    {
     "name": "stdin",
     "output_type": "stream",
     "text": [
      "Enter a positive numerator:  -4\n"
     ]
    },
    {
     "name": "stdout",
     "output_type": "stream",
     "text": [
      "value Error\n"
     ]
    },
    {
     "name": "stdin",
     "output_type": "stream",
     "text": [
      "Enter a positive numerator:  sadam\n"
     ]
    },
    {
     "name": "stdout",
     "output_type": "stream",
     "text": [
      "value Error\n"
     ]
    }
   ],
   "source": [
    "def get_positive_integer(prompt):\n",
    "    \"\"\"Function to get a positive integer from the user.\"\"\"\n",
    "    while True:\n",
    "        try:\n",
    "            num = int(input(prompt))\n",
    "            if num <= 0:\n",
    "                raise ValueError(\"Please enter a positive integer.\")\n",
    "            return num  \n",
    "        except ValueError as e:\n",
    "            print(\"value Error\")\n",
    "\n",
    "def safe_divide():\n",
    "    \"\"\"Function to perform safe division.\"\"\"\n",
    "    print(\"Welcome to the Safe Division Program!\")\n",
    "    \n",
    "    num1 = get_positive_integer(\"Enter a positive numerator: \")\n",
    "    num2 = get_positive_integer(\"Enter a positive denominator: \")\n",
    "\n",
    "    result = num1 / num2  \n",
    "    print(\"Result:\", result)\n",
    "    print(\"Thank you for using the safe divide program.\")\n",
    "\n",
    "\n",
    "safe_divide()\n"
   ]
  },
  {
   "cell_type": "code",
   "execution_count": null,
   "id": "bf608065-0b51-4427-a4ba-330f5fcf8150",
   "metadata": {},
   "outputs": [],
   "source": [
    "def p_num():\n",
    "    try:\n",
    "        num1 = float(input(\"Enter the numerator: \"))\n",
    "        if num1 < 0:\n",
    "            print(\"only enter positive number\")\n",
    "    except ZeroDivisionError:\n",
    "        print(\"Error: Cannot divide by zero!\")\n",
    "    except ValueError:\n",
    "        print(\"Error: Invalid input! Please enter numbers only.\")\n",
    "    else:\n",
    "        print(\"Result:\", num1) \n",
    "    finally:\n",
    "        print(\"Thank you for using the safe divide program.\") \n",
    "\n",
    "p_num()"
   ]
  },
  {
   "cell_type": "code",
   "execution_count": null,
   "id": "28f78996-987c-452f-99f8-5ac7863430a0",
   "metadata": {},
   "outputs": [],
   "source": []
  }
 ],
 "metadata": {
  "kernelspec": {
   "display_name": "Python [conda env:base] *",
   "language": "python",
   "name": "conda-base-py"
  },
  "language_info": {
   "codemirror_mode": {
    "name": "ipython",
    "version": 3
   },
   "file_extension": ".py",
   "mimetype": "text/x-python",
   "name": "python",
   "nbconvert_exporter": "python",
   "pygments_lexer": "ipython3",
   "version": "3.12.7"
  }
 },
 "nbformat": 4,
 "nbformat_minor": 5
}
