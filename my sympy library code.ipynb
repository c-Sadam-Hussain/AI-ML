{
 "cells": [
  {
   "cell_type": "code",
   "execution_count": 16,
   "id": "8ea00f6e-483f-473a-94bb-52fe061be074",
   "metadata": {},
   "outputs": [
    {
     "data": {
      "text/latex": [
       "$\\displaystyle W^{2}$"
      ],
      "text/plain": [
       "W**2"
      ]
     },
     "execution_count": 16,
     "metadata": {},
     "output_type": "execute_result"
    }
   ],
   "source": [
    "import sympy\n",
    "\n",
    "# declaring J and W as symbols\n",
    "\n",
    "J , W = sympy.symbols('J,W')\n",
    "J = W**2\n",
    "J"
   ]
  },
  {
   "cell_type": "code",
   "execution_count": 20,
   "id": "3ab745da-9661-4992-9958-02b34134fe51",
   "metadata": {},
   "outputs": [
    {
     "data": {
      "text/latex": [
       "$\\displaystyle 2 W$"
      ],
      "text/plain": [
       "2*W"
      ]
     },
     "execution_count": 20,
     "metadata": {},
     "output_type": "execute_result"
    }
   ],
   "source": [
    "# taking derivative of J w.r.t W\n",
    "\n",
    "dJ_dW = sympy.diff(J,W)\n",
    "dJ_dW"
   ]
  },
  {
   "cell_type": "code",
   "execution_count": 26,
   "id": "cd472571-3972-4a71-ba86-dcc813a80044",
   "metadata": {},
   "outputs": [
    {
     "data": {
      "text/latex": [
       "$\\displaystyle 4$"
      ],
      "text/plain": [
       "4"
      ]
     },
     "execution_count": 26,
     "metadata": {},
     "output_type": "execute_result"
    }
   ],
   "source": [
    "# plugging value of w = 2\n",
    "\n",
    "dJ_dW.subs([(W,2)])"
   ]
  },
  {
   "cell_type": "code",
   "execution_count": 28,
   "id": "6034b619-e4a7-4d1a-8230-93284f78a1eb",
   "metadata": {},
   "outputs": [
    {
     "data": {
      "text/latex": [
       "$\\displaystyle W^{3}$"
      ],
      "text/plain": [
       "W**3"
      ]
     },
     "execution_count": 28,
     "metadata": {},
     "output_type": "execute_result"
    }
   ],
   "source": [
    "J , W = sympy.symbols('J,W')\n",
    "J = W**3\n",
    "J"
   ]
  },
  {
   "cell_type": "code",
   "execution_count": 30,
   "id": "4db303c7-53de-4e66-94f1-e19fb393f049",
   "metadata": {},
   "outputs": [
    {
     "data": {
      "text/latex": [
       "$\\displaystyle 3 W^{2}$"
      ],
      "text/plain": [
       "3*W**2"
      ]
     },
     "execution_count": 30,
     "metadata": {},
     "output_type": "execute_result"
    }
   ],
   "source": [
    "dJ_dW = sympy.diff(J,W)\n",
    "dJ_dW"
   ]
  },
  {
   "cell_type": "code",
   "execution_count": 32,
   "id": "d34719ca-fa67-4c99-9bb9-d9bb3def002c",
   "metadata": {},
   "outputs": [
    {
     "data": {
      "text/latex": [
       "$\\displaystyle 12$"
      ],
      "text/plain": [
       "12"
      ]
     },
     "execution_count": 32,
     "metadata": {},
     "output_type": "execute_result"
    }
   ],
   "source": [
    "dJ_dW.subs([(W,2)])"
   ]
  },
  {
   "cell_type": "code",
   "execution_count": 34,
   "id": "0ab8781b-458b-4115-9391-6ae32423b24d",
   "metadata": {},
   "outputs": [
    {
     "data": {
      "text/latex": [
       "$\\displaystyle W$"
      ],
      "text/plain": [
       "W"
      ]
     },
     "execution_count": 34,
     "metadata": {},
     "output_type": "execute_result"
    }
   ],
   "source": [
    "J , W = sympy.symbols('J,W')\n",
    "J = W\n",
    "J"
   ]
  },
  {
   "cell_type": "code",
   "execution_count": 36,
   "id": "070d6365-6ef6-4beb-9f0c-ea2f3ad6f5ef",
   "metadata": {},
   "outputs": [
    {
     "data": {
      "text/latex": [
       "$\\displaystyle 1$"
      ],
      "text/plain": [
       "1"
      ]
     },
     "execution_count": 36,
     "metadata": {},
     "output_type": "execute_result"
    }
   ],
   "source": [
    "dJ_dW = sympy.diff(J,W)\n",
    "dJ_dW"
   ]
  },
  {
   "cell_type": "code",
   "execution_count": 38,
   "id": "53c4309e-957f-434c-9da4-8731de2d1740",
   "metadata": {},
   "outputs": [
    {
     "data": {
      "text/latex": [
       "$\\displaystyle \\frac{1}{W}$"
      ],
      "text/plain": [
       "1/W"
      ]
     },
     "execution_count": 38,
     "metadata": {},
     "output_type": "execute_result"
    }
   ],
   "source": [
    "J , W = sympy.symbols('J,W')\n",
    "J = 1/W\n",
    "J"
   ]
  },
  {
   "cell_type": "code",
   "execution_count": 40,
   "id": "06e8785d-b83f-44c1-8066-fe95e022e8c6",
   "metadata": {},
   "outputs": [
    {
     "data": {
      "text/latex": [
       "$\\displaystyle - \\frac{1}{W^{2}}$"
      ],
      "text/plain": [
       "-1/W**2"
      ]
     },
     "execution_count": 40,
     "metadata": {},
     "output_type": "execute_result"
    }
   ],
   "source": [
    "dJ_dW = sympy.diff(J,W)\n",
    "dJ_dW"
   ]
  },
  {
   "cell_type": "code",
   "execution_count": 42,
   "id": "b64f2d1f-e8fd-4e26-863b-8c400644afab",
   "metadata": {},
   "outputs": [
    {
     "data": {
      "text/latex": [
       "$\\displaystyle - \\frac{1}{4}$"
      ],
      "text/plain": [
       "-1/4"
      ]
     },
     "execution_count": 42,
     "metadata": {},
     "output_type": "execute_result"
    }
   ],
   "source": [
    "dJ_dW.subs([(W,2)])"
   ]
  },
  {
   "cell_type": "code",
   "execution_count": null,
   "id": "2a5147ba-d949-4a0a-af52-4d9b2a2fb02c",
   "metadata": {},
   "outputs": [],
   "source": []
  }
 ],
 "metadata": {
  "kernelspec": {
   "display_name": "Python [conda env:base] *",
   "language": "python",
   "name": "conda-base-py"
  },
  "language_info": {
   "codemirror_mode": {
    "name": "ipython",
    "version": 3
   },
   "file_extension": ".py",
   "mimetype": "text/x-python",
   "name": "python",
   "nbconvert_exporter": "python",
   "pygments_lexer": "ipython3",
   "version": "3.12.7"
  }
 },
 "nbformat": 4,
 "nbformat_minor": 5
}
