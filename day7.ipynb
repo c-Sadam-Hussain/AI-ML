{
 "cells": [
  {
   "cell_type": "code",
   "execution_count": 1,
   "id": "d3ede2dd-9572-4a01-9135-dc24c67531e2",
   "metadata": {},
   "outputs": [
    {
     "name": "stdout",
     "output_type": "stream",
     "text": [
      "Alice\n"
     ]
    }
   ],
   "source": [
    "#If you’re looking for an alternative to calling a super constructor in object-oriented programming\n",
    "# it depends on your goal. Here are some alternatives:\n",
    "class Parent:\n",
    "    def __init__(self, name):\n",
    "        self.name = name\n",
    "\n",
    "class Child:\n",
    "    def __init__(self, name):\n",
    "        self.parent = Parent(name)\n",
    "\n",
    "child = Child(\"Alice\")\n",
    "print(child.parent.name)  \n"
   ]
  },
  {
   "cell_type": "code",
   "execution_count": 3,
   "id": "5d995402-e764-4844-a7db-58b2c217a9c0",
   "metadata": {},
   "outputs": [
    {
     "name": "stdout",
     "output_type": "stream",
     "text": [
      "20\n",
      "10\n"
     ]
    }
   ],
   "source": [
    "#stack\n",
    "class Stack:\n",
    "    def __init__(self):\n",
    "        self.stack = []\n",
    "\n",
    "    def push(self, item):\n",
    "        self.stack.append(item)\n",
    "\n",
    "    def pop(self):\n",
    "        if not self.is_empty():\n",
    "            return self.stack.pop()\n",
    "        return \"Stack is empty\"\n",
    "\n",
    "    def peek(self):\n",
    "        return self.stack[-1] if not self.is_empty() else \"Stack is empty\"\n",
    "\n",
    "    def is_empty(self):\n",
    "        return len(self.stack) == 0\n",
    "\n",
    "    def size(self):\n",
    "        return len(self.stack)\n",
    "\n",
    "# Example usage\n",
    "s = Stack()\n",
    "s.push(10)\n",
    "s.push(20)\n",
    "print(s.pop())  \n",
    "print(s.peek()) \n"
   ]
  },
  {
   "cell_type": "code",
   "execution_count": 5,
   "id": "0c724da7-0fa3-4a11-a23b-20b2c4ea14fc",
   "metadata": {},
   "outputs": [
    {
     "name": "stdout",
     "output_type": "stream",
     "text": [
      "Public: 10\n",
      "Protected: 20\n",
      "Private: 30\n",
      "10\n",
      "20\n",
      "30\n",
      "Public: 10\n",
      "Protected: 20\n"
     ]
    }
   ],
   "source": [
    "#access specifier\n",
    "class Example:\n",
    "    def __init__(self):\n",
    "        self.public_var = 10       # Public\n",
    "        self._protected_var = 20   # Protected (convention)\n",
    "        self.__private_var = 30    # Private (name mangling)\n",
    "\n",
    "    def show(self):\n",
    "        print(f\"Public: {self.public_var}\")\n",
    "        print(f\"Protected: {self._protected_var}\")\n",
    "        print(f\"Private: {self.__private_var}\")\n",
    "\n",
    "class SubExample(Example):\n",
    "    def show_sub(self):\n",
    "        print(f\"Public: {self.public_var}\")\n",
    "        print(f\"Protected: {self._protected_var}\")\n",
    "        # print(f\"Private: {self.__private_var}\") # ❌ Not accessible\n",
    "\n",
    "obj = Example()\n",
    "obj.show()\n",
    "print(obj.public_var)      # ✅ Allowed\n",
    "print(obj._protected_var)  # ✅ Allowed but not recommended\n",
    "# print(obj.__private_var) # ❌ Error (Name mangling)\n",
    "print(obj._Example__private_var)  # ✅ Works due to name mangling\n",
    "\n",
    "sub_obj = SubExample()\n",
    "sub_obj.show_sub()\n"
   ]
  },
  {
   "cell_type": "code",
   "execution_count": 18,
   "id": "2d1adc12-e3c1-4409-a441-44dca29a6ff0",
   "metadata": {},
   "outputs": [
    {
     "name": "stdout",
     "output_type": "stream",
     "text": [
      "25\n"
     ]
    }
   ],
   "source": [
    "#Python renames private variables using name mangling. You can access them like this:\n",
    "class Person:\n",
    "    def __init__(self, name, age):\n",
    "        self.name = name\n",
    "        self.__age = age  # Private variable\n",
    "\n",
    "p = Person(\"Alice\", 25)\n",
    "\n",
    "# Access private variable using name mangling\n",
    "print(p._Person__age) "
   ]
  },
  {
   "cell_type": "code",
   "execution_count": 11,
   "id": "0d0e3457-c42a-41ad-9728-172a493c2328",
   "metadata": {},
   "outputs": [
    {
     "name": "stdout",
     "output_type": "stream",
     "text": [
      "10\n",
      "20\n",
      "False\n"
     ]
    }
   ],
   "source": [
    "from collections import deque\n",
    "\n",
    "class Queue:\n",
    "    def __init__(self):\n",
    "        self.queue = deque()\n",
    "\n",
    "    def enqueue(self, item):\n",
    "        self.queue.append(item)\n",
    "\n",
    "    def dequeue(self):\n",
    "        if not self.is_empty():\n",
    "            return self.queue.popleft()\n",
    "        return \"Queue is empty\"\n",
    "\n",
    "    def front(self): \n",
    "        return self.queue[0] if not self.is_empty() else \"Queue is empty\"\n",
    "\n",
    "    def is_empty(self):\n",
    "        return len(self.queue) == 0\n",
    "\n",
    "    def size(self):\n",
    "        return len(self.queue)\n",
    "\n",
    "q = Queue()\n",
    "q.enqueue(10)\n",
    "q.enqueue(20)\n",
    "print(q.dequeue()) \n",
    "print(q.front())   \n",
    "print(q.is_empty())"
   ]
  },
  {
   "cell_type": "code",
   "execution_count": 14,
   "id": "8b8221fe-1a3c-4b62-b127-7929783714f2",
   "metadata": {},
   "outputs": [
    {
     "name": "stdout",
     "output_type": "stream",
     "text": [
      "Error: Queue is empty. Cannot dequeue.\n"
     ]
    }
   ],
   "source": [
    "#raising queuq error\n",
    "from collections import deque\n",
    "\n",
    "class QueueEmptyError(Exception):\n",
    "    \"\"\"Custom exception for empty queue.\"\"\"\n",
    "    pass\n",
    "\n",
    "class Queue:\n",
    "    def __init__(self):\n",
    "        self.queue = deque()\n",
    "\n",
    "    def enqueue(self, item):\n",
    "        self.queue.append(item)\n",
    "\n",
    "    def dequeue(self):\n",
    "        if self.is_empty():\n",
    "            raise QueueEmptyError(\"Queue is empty. Cannot dequeue.\")\n",
    "        return self.queue.popleft()\n",
    "\n",
    "    def front(self):\n",
    "        if self.is_empty():\n",
    "            raise QueueEmptyError(\"Queue is empty. No front element.\")\n",
    "        return self.queue[0]\n",
    "\n",
    "    def is_empty(self):\n",
    "        return len(self.queue) == 0\n",
    "\n",
    "    def size(self):\n",
    "        return len(self.queue)\n",
    "\n",
    "# Example Usage\n",
    "q = Queue()\n",
    "\n",
    "try:\n",
    "    q.dequeue()  # This will raise QueueEmptyError\n",
    "except QueueEmptyError as e:\n",
    "    print(f\"Error: {e}\")"
   ]
  },
  {
   "cell_type": "code",
   "execution_count": 16,
   "id": "cc231234-2732-409a-bc7c-bd8fc876a664",
   "metadata": {},
   "outputs": [
    {
     "name": "stdout",
     "output_type": "stream",
     "text": [
      "{'name': 'Alice', 'age': 25}\n"
     ]
    }
   ],
   "source": [
    "#__dict__ in Python\n",
    "#The __dict__ attribute in Python is a built-in dictionary that stores an object's attributes. \n",
    "#It is useful for introspection, debugging, and dynamic modifications.\n",
    "\n",
    "class Person:\n",
    "    def __init__(self, name, age):\n",
    "        self.name = name\n",
    "        self.age = age\n",
    "\n",
    "# Creating an object\n",
    "p = Person(\"Alice\", 25)\n",
    "\n",
    "# Print object's attributes using __dict__\n",
    "print(p.__dict__)  \n"
   ]
  },
  {
   "cell_type": "code",
   "execution_count": 27,
   "id": "410fbf06-826f-4ce3-9abf-7e467d1b9203",
   "metadata": {},
   "outputs": [
    {
     "name": "stdout",
     "output_type": "stream",
     "text": [
      "File test.txt opened.\n",
      "File closed.\n"
     ]
    }
   ],
   "source": [
    "#destructor\n",
    "class FileHandler:\n",
    "    def __init__(self, filename):\n",
    "        self.file = open(filename, \"w\")\n",
    "        print(f\"File {filename} opened.\")\n",
    "\n",
    "    def __del__(self):    #destructor\n",
    "        self.file.close()\n",
    "        print(\"File closed.\")\n",
    "\n",
    "# Creating an object\n",
    "handler = FileHandler(\"test.txt\")\n",
    "\n",
    "# When program ends or object is deleted, __del__() will be called.\n"
   ]
  },
  {
   "cell_type": "code",
   "execution_count": 9,
   "id": "82a2ebff-1881-498a-90cf-f3f25ea1eb0f",
   "metadata": {},
   "outputs": [
    {
     "name": "stdout",
     "output_type": "stream",
     "text": [
      "2023 Suzuki Mehran: Toyota engine stopped.\n"
     ]
    }
   ],
   "source": [
    "class ToyotaEngine:\n",
    "    def __init__(self, power, fuel_type):\n",
    "        self.power = power\n",
    "        self.fuel= fuel\n",
    "    \n",
    "    def start(self):\n",
    "        return \"Toyota engine started.\"\n",
    "    \n",
    "    def stop(self):\n",
    "        return \"Toyota engine stopped.\"\n",
    "\n",
    "class Car:\n",
    "    def __init__(self, make, model, year, engine):\n",
    "        self.make = make\n",
    "        self.model = model\n",
    "        self.year = year\n",
    "        self.engine = engine\n",
    "    \n",
    "    def start_car(self):\n",
    "        return f\"{self.year} {self.make} {self.model}: \" + self.engine.start()\n",
    "    \n",
    "    def stop_car(self):\n",
    "        return f\"{self.year} {self.make} {self.model}: \" + self.engine.stop()\n",
    "\n",
    "toyota_car = Car(\"Suzuki\", \"Mehran\", 2023, toyota_engine)\n",
    "\n",
    "print(toyota_car.stop_car())\n"
   ]
  },
  {
   "cell_type": "code",
   "execution_count": 34,
   "id": "37455945-60c5-442f-bef6-bc4f531e074a",
   "metadata": {},
   "outputs": [
    {
     "name": "stdout",
     "output_type": "stream",
     "text": [
      "is breathing.\n",
      "gives birth\n",
      "can flying.\n"
     ]
    }
   ],
   "source": [
    "class Animal:\n",
    "    def __init__(self, name):\n",
    "        self.name = name\n",
    "\n",
    "    def breathe(self):\n",
    "        print(\"is breathing.\")\n",
    "\n",
    "class Mammal(Animal):\n",
    "    def __init__(self, name):\n",
    "        super().__init__(name)\n",
    "\n",
    "    def give_birth(self):\n",
    "        print(\"gives birth\")\n",
    "\n",
    "class Bird(Animal):\n",
    "    def __init__(self, name):\n",
    "        super().__init__(name)\n",
    "\n",
    "    def lay_eggs(self):\n",
    "        print(\"lays eggs.\")\n",
    "\n",
    "class Bat(Mammal, Bird):  \n",
    "    def __init__(self, name):\n",
    "        super().__init__(name)\n",
    "\n",
    "    def fly(self):\n",
    "        print(\"can flying.\")\n",
    "\n",
    "bat = Bat(\"Bat\")\n",
    "bat.breathe()    \n",
    "bat.give_birth() \n",
    "bat.fly()        "
   ]
  },
  {
   "cell_type": "code",
   "execution_count": null,
   "id": "93b54458-c6f5-43ea-b745-c6e78d0c29e7",
   "metadata": {},
   "outputs": [],
   "source": []
  }
 ],
 "metadata": {
  "kernelspec": {
   "display_name": "Python [conda env:base] *",
   "language": "python",
   "name": "conda-base-py"
  },
  "language_info": {
   "codemirror_mode": {
    "name": "ipython",
    "version": 3
   },
   "file_extension": ".py",
   "mimetype": "text/x-python",
   "name": "python",
   "nbconvert_exporter": "python",
   "pygments_lexer": "ipython3",
   "version": "3.12.7"
  }
 },
 "nbformat": 4,
 "nbformat_minor": 5
}
