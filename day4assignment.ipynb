{
 "cells": [
  {
   "cell_type": "code",
   "execution_count": null,
   "id": "eed0b544-b761-401e-b346-fbc3a45a7b82",
   "metadata": {},
   "outputs": [],
   "source": [
    "score = int(input(\"enter your marks\"))\n",
    "\n",
    "if score >= 90:\n",
    "    print(\"Grade: A\")\n",
    "elif score >= 80:\n",
    "    print(\"Grade: B\")\n",
    "elif score >= 70:\n",
    "    print(\"Grade: C\")\n",
    "elif score >= 60:\n",
    "    print(\"Grade: D\")\n",
    "else:\n",
    "    print(\"Grade: F\")\n"
   ]
  },
  {
   "cell_type": "code",
   "execution_count": 5,
   "id": "496c50f0-f441-4fcb-a1af-6e46a1a0530f",
   "metadata": {},
   "outputs": [
    {
     "name": "stdin",
     "output_type": "stream",
     "text": [
      "Enter a year:  2003\n"
     ]
    },
    {
     "name": "stdout",
     "output_type": "stream",
     "text": [
      "not a leap year.\n"
     ]
    }
   ],
   "source": [
    "year = int(input(\"Enter a year: \"))\n",
    "\n",
    "if (year % 4 == 0 ):\n",
    "    print(\"leap year.\")\n",
    "else:\n",
    "    print(\"not a leap year.\")\n"
   ]
  },
  {
   "cell_type": "code",
   "execution_count": 4,
   "id": "81427c95-cdb6-4d19-8b55-edf14de70a7e",
   "metadata": {},
   "outputs": [
    {
     "name": "stdin",
     "output_type": "stream",
     "text": [
      "Enter a number:  3\n"
     ]
    },
    {
     "name": "stdout",
     "output_type": "stream",
     "text": [
      "1\n",
      "2\n",
      "3\n"
     ]
    }
   ],
   "source": [
    "n = int(input(\"Enter a number: \"))\n",
    "\n",
    "for i in range(1, n + 1):  # Loop from 1 to n\n",
    "    print(i)  # Corrected: Removed the comma\n"
   ]
  },
  {
   "cell_type": "code",
   "execution_count": null,
   "id": "059ec2e0-77ec-4711-a005-ad332ca350b6",
   "metadata": {},
   "outputs": [],
   "source": [
    "n = int(input(\"Enter a number: \"))\n",
    "\n",
    "for i in range(1, 11):  \n",
    "    print(f\"{n} x {i} = {n * i}\")"
   ]
  },
  {
   "cell_type": "code",
   "execution_count": null,
   "id": "30689181-4739-4913-8650-db2fe86cf564",
   "metadata": {},
   "outputs": [],
   "source": [
    "import random\n",
    "\n",
    "secret_number = random.randint(1, 100)\n",
    "\n",
    "while True:\n",
    "    guess = int(input(\"Guess a number between 1 and 100: \"))\n",
    "    \n",
    "    if guess < secret_number:\n",
    "        print(\"Too low! Try again.\")\n",
    "    elif guess > secret_number:\n",
    "        print(\"Too high! Try again.\")\n",
    "    else:\n",
    "        print(\"Congratulations! You guessed the correct number\")\n"
   ]
  },
  {
   "cell_type": "code",
   "execution_count": null,
   "id": "825a6035-60fb-4ce0-ab5c-7851e57482ca",
   "metadata": {},
   "outputs": [],
   "source": []
  }
 ],
 "metadata": {
  "kernelspec": {
   "display_name": "Python [conda env:base] *",
   "language": "python",
   "name": "conda-base-py"
  },
  "language_info": {
   "codemirror_mode": {
    "name": "ipython",
    "version": 3
   },
   "file_extension": ".py",
   "mimetype": "text/x-python",
   "name": "python",
   "nbconvert_exporter": "python",
   "pygments_lexer": "ipython3",
   "version": "3.12.7"
  }
 },
 "nbformat": 4,
 "nbformat_minor": 5
}
