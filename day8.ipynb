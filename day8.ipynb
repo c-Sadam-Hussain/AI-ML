{
 "cells": [
  {
   "cell_type": "code",
   "execution_count": 1,
   "id": "363a9243-9dcb-4ea7-bfad-0cd95b67c566",
   "metadata": {},
   "outputs": [
    {
     "name": "stdout",
     "output_type": "stream",
     "text": [
      "Meow\n",
      "Woof\n"
     ]
    }
   ],
   "source": [
    "#polymorphism\n",
    "\n",
    "class Cat:\n",
    "    def make_sound(self):\n",
    "        return \"Meow\"\n",
    "\n",
    "class Dog:\n",
    "    def make_sound(self):\n",
    "        return \"Woof\"\n",
    "\n",
    "# Function uses polymorphism\n",
    "def animal_sound(animal):\n",
    "    print(animal.make_sound())\n",
    "\n",
    "# Creating objects\n",
    "cat = Cat()\n",
    "dog = Dog()\n",
    "\n",
    "# Calling the function with different objects\n",
    "animal_sound(cat)  \n",
    "animal_sound(dog)  "
   ]
  },
  {
   "cell_type": "code",
   "execution_count": 5,
   "id": "c7347805-7e76-48e2-a88f-92c8acbaa3b5",
   "metadata": {},
   "outputs": [
    {
     "name": "stdout",
     "output_type": "stream",
     "text": [
      "False\n",
      "True\n"
     ]
    }
   ],
   "source": [
    "#The hasattr() function in Python is used to check if an object has a specific attribute.\n",
    "#It returns True if the attribute exists and False otherwise.\n",
    "class Car:\n",
    "    def __init__(self, brand, model, year, color=None):\n",
    "        self.brand = brand\n",
    "        self.model = model\n",
    "        self.year = year\n",
    "        if color:\n",
    "            self.color = color  # This attribute is optional\n",
    "\n",
    "my_car = Car(\"Toyota\", \"Corolla\", 2022)\n",
    "\n",
    "# Check if 'my_car' has a 'color' attribute\n",
    "print(hasattr(my_car, \"color\"))  # Output: False (because color wasn't set)\n",
    "\n",
    "# Check if 'my_car' has a 'brand' attribute\n",
    "print(hasattr(my_car, \"brand\"))  # Output: True\n"
   ]
  },
  {
   "cell_type": "code",
   "execution_count": 7,
   "id": "15948cac-1b15-4afd-9d70-34277156d169",
   "metadata": {},
   "outputs": [
    {
     "name": "stdout",
     "output_type": "stream",
     "text": [
      "Animal\n"
     ]
    }
   ],
   "source": [
    "#You can find the class name of an object in Python using the __class__ attribute or the type() function.\n",
    "class Animal:\n",
    "    pass\n",
    "\n",
    "a = Animal()\n",
    "print(a.__class__.__name__)  # Output: Animal\n"
   ]
  },
  {
   "cell_type": "code",
   "execution_count": 19,
   "id": "e57a22dc-e56a-4be6-b736-e563867a6421",
   "metadata": {},
   "outputs": [
    {
     "name": "stdout",
     "output_type": "stream",
     "text": [
      "True\n",
      "False\n"
     ]
    }
   ],
   "source": [
    "class ExampleClass:\n",
    "    attr = 1\n",
    "\n",
    "print(hasattr(ExampleClass, 'attr'))  # True\n",
    "print(hasattr(ExampleClass, 'prop'))  # False\n"
   ]
  },
  {
   "cell_type": "code",
   "execution_count": 23,
   "id": "a0cda3ec-7121-457b-b589-c9c060dd0b75",
   "metadata": {},
   "outputs": [
    {
     "name": "stdout",
     "output_type": "stream",
     "text": [
      "<__main__.Person object at 0x000001B0399F31D0>\n"
     ]
    }
   ],
   "source": [
    "#default string representation of object\n",
    "class Person:\n",
    "    def __init__(self, name, age):\n",
    "        self.name = name\n",
    "        self.age = age\n",
    "\n",
    "p = Person(\"Sadam\", 25)\n",
    "print(p)  "
   ]
  },
  {
   "cell_type": "code",
   "execution_count": 21,
   "id": "13733b9c-552e-4d2b-bc63-936d5f4042d1",
   "metadata": {},
   "outputs": [
    {
     "name": "stdout",
     "output_type": "stream",
     "text": [
      "Person: Sadam, Age: 25\n"
     ]
    }
   ],
   "source": [
    "#In Python, you can change the default string representation of an object by overriding the __str__() and __repr__() methods in your class.\n",
    "\n",
    "class Person:\n",
    "    def __init__(self, name, age):\n",
    "        self.name = name\n",
    "        self.age = age\n",
    "\n",
    "    def __str__(self):\n",
    "        return f\"Person: {self.name}, Age: {self.age}\"  # Custom string representation\n",
    "\n",
    "p = Person(\"Sadam\", 25)\n",
    "print(p)  # Output: Person: Sadam, Age: 25\n"
   ]
  },
  {
   "cell_type": "code",
   "execution_count": 25,
   "id": "265ff767-8e71-44cb-918d-9bede46c8b9a",
   "metadata": {},
   "outputs": [
    {
     "name": "stdout",
     "output_type": "stream",
     "text": [
      "{'name': 'Sadam', 'numbers': [1, 2, 3, 4]}\n",
      "{'name': 'Sadam', 'numbers': [1, 2, 3, 4]}\n"
     ]
    }
   ],
   "source": [
    "#shallow copy\n",
    "import copy\n",
    "\n",
    "# Original object with a nested list\n",
    "original = {\"name\": \"Sadam\", \"numbers\": [1, 2, 3]}\n",
    "\n",
    "# Shallow copy\n",
    "shallow = copy.copy(original)\n",
    "\n",
    "# Modifying the nested list\n",
    "shallow[\"numbers\"].append(4)\n",
    "\n",
    "print(original)  # {'name': 'Sadam', 'numbers': [1, 2, 3, 4]}\n",
    "print(shallow)   # {'name': 'Sadam', 'numbers': [1, 2, 3, 4]}"
   ]
  },
  {
   "cell_type": "code",
   "execution_count": 27,
   "id": "ca444b57-f785-4a70-8ae1-961111857ca5",
   "metadata": {},
   "outputs": [
    {
     "name": "stdout",
     "output_type": "stream",
     "text": [
      "{'name': 'Sadam', 'numbers': [1, 2, 3]}\n",
      "{'name': 'Sadam', 'numbers': [1, 2, 3, 4]}\n"
     ]
    }
   ],
   "source": [
    "#deep copy\n",
    "import copy\n",
    "\n",
    "original = {\"name\": \"Sadam\", \"numbers\": [1, 2, 3]}\n",
    "\n",
    "# Deep copy\n",
    "deep = copy.deepcopy(original)\n",
    "\n",
    "# Modifying the nested list\n",
    "deep[\"numbers\"].append(4)\n",
    "\n",
    "print(original)  # {'name': 'Sadam', 'numbers': [1, 2, 3]}\n",
    "print(deep)      # {'name': 'Sadam', 'numbers': [1, 2, 3, 4]}\n"
   ]
  },
  {
   "cell_type": "code",
   "execution_count": 29,
   "id": "fffa4815-4a06-4479-87ef-aa4f65be9770",
   "metadata": {},
   "outputs": [
    {
     "name": "stdout",
     "output_type": "stream",
     "text": [
      "Parent constructor called\n",
      "Child constructor called\n"
     ]
    }
   ],
   "source": [
    "#super constructor\n",
    "class Parent:\n",
    "    def __init__(self, name):\n",
    "        print(\"Parent constructor called\")\n",
    "        self.name = name\n",
    "\n",
    "class Child(Parent):\n",
    "    def __init__(self, name, age):\n",
    "        super().__init__(name)  # Calls Parent's __init__\n",
    "        print(\"Child constructor called\")\n",
    "        self.age = age\n",
    "\n",
    "c = Child(\"Sadam\", 25)"
   ]
  },
  {
   "cell_type": "code",
   "execution_count": 31,
   "id": "0935d216-1860-4cd7-8039-5b87baa63cd6",
   "metadata": {},
   "outputs": [
    {
     "name": "stdout",
     "output_type": "stream",
     "text": [
      "B\n"
     ]
    }
   ],
   "source": [
    "#Method Resolution Order (MRO) in Python Inheritance\n",
    "#in multiple inheritence from left to right\n",
    "#in multiple level inheritance from bottom to top\n",
    "class A:\n",
    "    def show(self):\n",
    "        print(\"A\")\n",
    "\n",
    "class B(A):\n",
    "    def show(self):\n",
    "        print(\"B\")\n",
    "\n",
    "class C(A):\n",
    "    def show(self):\n",
    "        print(\"C\")\n",
    "\n",
    "class D(B, C):  # Multiple Inheritance\n",
    "    pass\n",
    "\n",
    "d = D()\n",
    "d.show()  # Output: B (not ambiguous due to C3 MRO)\n"
   ]
  },
  {
   "cell_type": "code",
   "execution_count": 46,
   "id": "f3262ccd-5ed5-4b6b-adf9-ad3a1670c337",
   "metadata": {},
   "outputs": [
    {
     "name": "stdout",
     "output_type": "stream",
     "text": [
      "Bat is breathing\n",
      "Bat gives birth\n",
      "Bat is flying.\n",
      "Base classes ofBatis(<class '__main__.Mammal'>, <class '__main__.Bird'>)\n"
     ]
    }
   ],
   "source": [
    "class Animal:\n",
    "    def __init__(self, name):\n",
    "        self.name = name\n",
    "\n",
    "    def breathe(self):\n",
    "        print(self.name+\" is breathing\")\n",
    "\n",
    "class Mammal(Animal):\n",
    "    def __init__(self, name):\n",
    "        super().__init__(name)\n",
    "\n",
    "    def give_birth(self):\n",
    "        print(self.name+\" gives birth\")\n",
    "\n",
    "class Bird(Animal):\n",
    "    def __init__(self, name):\n",
    "        super().__init__(name)\n",
    "\n",
    "    def lay_eggs(self):\n",
    "        print(self.name+\" lays eggs.\")\n",
    "\n",
    "class Bat(Mammal, Bird):  \n",
    "    def __init__(self, name):\n",
    "        super().__init__(name)\n",
    "\n",
    "    def fly(self):\n",
    "        print(self.name+\" is flying.\")\n",
    "\n",
    "def printBases(cls):\n",
    "    print(\"Base classes of\" + str(cls.__name__ ) + \"is\" + str(cls.__bases__))\n",
    "\n",
    "bat = Bat(\"Bat\")\n",
    "bat.breathe()    \n",
    "bat.give_birth() \n",
    "bat.fly()\n",
    "\n",
    "printBases(Bat)"
   ]
  },
  {
   "cell_type": "code",
   "execution_count": null,
   "id": "e178862e-46b8-4b3d-b6c5-770bb697119d",
   "metadata": {},
   "outputs": [],
   "source": []
  }
 ],
 "metadata": {
  "kernelspec": {
   "display_name": "Python [conda env:base] *",
   "language": "python",
   "name": "conda-base-py"
  },
  "language_info": {
   "codemirror_mode": {
    "name": "ipython",
    "version": 3
   },
   "file_extension": ".py",
   "mimetype": "text/x-python",
   "name": "python",
   "nbconvert_exporter": "python",
   "pygments_lexer": "ipython3",
   "version": "3.12.7"
  }
 },
 "nbformat": 4,
 "nbformat_minor": 5
}
