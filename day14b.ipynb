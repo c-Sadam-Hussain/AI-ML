{
 "cells": [
  {
   "cell_type": "code",
   "execution_count": 17,
   "id": "5d7c7b02-3b3c-4340-b6e6-ea23802c6a5a",
   "metadata": {},
   "outputs": [
    {
     "ename": "SyntaxError",
     "evalue": "invalid decimal literal (545684866.py, line 6)",
     "output_type": "error",
     "traceback": [
      "\u001b[1;36m  Cell \u001b[1;32mIn[17], line 6\u001b[1;36m\u001b[0m\n\u001b[1;33m    finding dimention of arrays , 1d , 2d , 3d\u001b[0m\n\u001b[1;37m                                  ^\u001b[0m\n\u001b[1;31mSyntaxError\u001b[0m\u001b[1;31m:\u001b[0m invalid decimal literal\n"
     ]
    }
   ],
   "source": [
    "arrays concatination\n",
    "\n",
    "axis 0 = rows\n",
    "axis 1 = columns\n",
    "\n",
    "finding dimention of arrays , 1d , 2d , 3d\n",
    "arr.shape\n",
    "np.reshape\n",
    "see other optional parameters of reshape\n",
    "order c = used to populate row first\n",
    "order f = used to populate column first\n",
    "np.arrange(6)\n",
    "\n",
    "row vector \n",
    "column vector\n",
    "\n",
    "expand dimension\n",
    "\n",
    "indexing and slicing of arary\n",
    "\n",
    "np.vstack(arr1,arr2) = for vertical stack\n",
    "np.hstack(arr1,arr2) = for horizontal stack\n",
    "\n",
    "np.hsplit(arr1,3) = for horizontal split\n",
    "\n",
    "copy arr\n",
    "insert and append\n",
    "sorting array in ascending and decending order\n",
    "NumPy Array Reshaping\n",
    "NumPy Splitting Array\n",
    "NumPy Array Copy vs View\n",
    "\n",
    "deleting element from array\n",
    "\n",
    "generating ones and zeros and random elements in array\n",
    "\n",
    "finding unique values in array through unique function , \n",
    "also can find indices of unique numbers\n",
    "\n",
    "transpose \n",
    "\n",
    "flipfunction use to flip array\n",
    "\n",
    "flatten function converts other dimentions to one dimention array\n",
    "\n",
    "reval()\n",
    "\n",
    "ploting array"
   ]
  },
  {
   "cell_type": "code",
   "execution_count": 21,
   "id": "585d1ac2-ce12-47c4-bbec-48f262aedec0",
   "metadata": {},
   "outputs": [
    {
     "name": "stdout",
     "output_type": "stream",
     "text": [
      "Original List: [[99, 2, 3], [4, 5, 6]]\n",
      "Shallow Copy: [[99, 2, 3], [4, 5, 6]]\n",
      "Deep Copy: [[99, 2, 3], [4, 88, 6]]\n",
      "\n",
      "========================================\n",
      "\n",
      "Original Array: [99  2  3]\n",
      "Shallow Copy: [99  2  3]\n",
      "Deep Copy: [99 88  3]\n"
     ]
    }
   ],
   "source": [
    "import copy\n",
    "import numpy as np\n",
    "\n",
    "original_list = [[1, 2, 3], [4, 5, 6]]\n",
    "\n",
    "# Shallow Copy\n",
    "shallow_list = copy.copy(original_list)\n",
    "shallow_list[0][0] = 99  # Modifying nested list affects the original\n",
    "\n",
    "# Deep Copy\n",
    "deep_list = copy.deepcopy(original_list)\n",
    "deep_list[1][1] = 88  # No effect on original\n",
    "\n",
    "print(\"Original List:\", original_list)\n",
    "print(\"Shallow Copy:\", shallow_list)\n",
    "print(\"Deep Copy:\", deep_list)\n",
    "\n",
    "print(\"\\n\" + \"=\"*40 + \"\\n\")  # Separator\n",
    "\n",
    "# ====== Shallow vs Deep Copy for NumPy Arrays ======\n",
    "original_array = np.array([1, 2, 3])\n",
    "\n",
    "# Shallow Copy using view()\n",
    "shallow_array = original_array.view()\n",
    "shallow_array[0] = 99  # Affects original array\n",
    "\n",
    "# Deep Copy using copy()\n",
    "deep_array = original_array.copy()\n",
    "deep_array[1] = 88  # Does NOT affect original\n",
    "\n",
    "print(\"Original Array:\", original_array)\n",
    "print(\"Shallow Copy:\", shallow_array)\n",
    "print(\"Deep Copy:\", deep_array)\n"
   ]
  },
  {
   "cell_type": "code",
   "execution_count": null,
   "id": "8d12daaa-eb3c-45f7-8bed-88dade5a9fe9",
   "metadata": {},
   "outputs": [],
   "source": []
  },
  {
   "cell_type": "code",
   "execution_count": 15,
   "id": "0c65a1ce-05b8-43d3-b15d-1eea01bab911",
   "metadata": {},
   "outputs": [
    {
     "name": "stdout",
     "output_type": "stream",
     "text": [
      "Numbers greater than 5: [6 7 8 9]\n",
      "Count of numbers greater than 5: 4\n"
     ]
    }
   ],
   "source": [
    "import numpy as np\n",
    "\n",
    "# Define the matrix\n",
    "matrix = np.array([\n",
    "    [1, 2, 3],\n",
    "    [4, 5, 6],\n",
    "    [7, 8, 9]\n",
    "])\n",
    "\n",
    "# Find the numbers greater than 5\n",
    "greater_than_5 = matrix[matrix > 5]\n",
    "\n",
    "# Output the result\n",
    "print(\"Numbers greater than 5:\", greater_than_5)\n",
    "print(\"Count of numbers greater than 5:\", greater_than_5.size)\n"
   ]
  },
  {
   "cell_type": "code",
   "execution_count": 13,
   "id": "49a57dc0-443d-4278-afed-1e711671b5ed",
   "metadata": {},
   "outputs": [
    {
     "name": "stdout",
     "output_type": "stream",
     "text": [
      "Minimum value in each row: [1 4 7]\n"
     ]
    }
   ],
   "source": [
    "import numpy as np\n",
    "\n",
    "# Define the matrix\n",
    "matrix = np.array([\n",
    "    [1, 2, 3],\n",
    "    [4, 5, 6],\n",
    "    [7, 8, 9]\n",
    "])\n",
    "\n",
    "# Find the minimum value in each row\n",
    "row_min = np.min(matrix, axis=1)\n",
    "\n",
    "# Output the result\n",
    "print(\"Minimum value in each row:\", row_min)\n"
   ]
  },
  {
   "cell_type": "code",
   "execution_count": 5,
   "id": "673be1ad-0520-4db1-ac21-3bfafd53115b",
   "metadata": {},
   "outputs": [
    {
     "name": "stdout",
     "output_type": "stream",
     "text": [
      "Row-wise sum: [ 6 15 24]\n",
      "Column-wise sum: [12 15 18]\n"
     ]
    }
   ],
   "source": [
    "import numpy as np\n",
    "\n",
    "# Define the matrix\n",
    "matrix = np.array([\n",
    "    [1, 2, 3],\n",
    "    [4, 5, 6],\n",
    "    [7, 8, 9]\n",
    "])\n",
    "\n",
    "# Row-wise addition\n",
    "row_sum = matrix.sum(axis=1)\n",
    "\n",
    "# Column-wise addition\n",
    "col_sum = matrix.sum(axis=0)\n",
    "\n",
    "# Output results\n",
    "print(\"Row-wise sum:\", row_sum)\n",
    "print(\"Column-wise sum:\", col_sum)\n"
   ]
  },
  {
   "cell_type": "code",
   "execution_count": 11,
   "id": "181ded5e-c4b2-4934-af3a-250216230482",
   "metadata": {},
   "outputs": [
    {
     "name": "stdout",
     "output_type": "stream",
     "text": [
      "Maximum value in each column: [7 8 9]\n"
     ]
    }
   ],
   "source": [
    "import numpy as np\n",
    "\n",
    "# Define the matrix\n",
    "matrix = np.array([\n",
    "    [1, 2, 3],\n",
    "    [4, 5, 6],\n",
    "    [7, 8, 9]\n",
    "])\n",
    "\n",
    "# Find the maximum value in each column\n",
    "column_max = np.max(matrix, axis=0)\n",
    "\n",
    "# Output the result\n",
    "print(\"Maximum value in each column:\", column_max)\n"
   ]
  },
  {
   "cell_type": "code",
   "execution_count": 7,
   "id": "9545a8b7-a090-4a94-af1c-03b35f10507f",
   "metadata": {},
   "outputs": [
    {
     "name": "stdout",
     "output_type": "stream",
     "text": [
      "20\n"
     ]
    }
   ],
   "source": [
    "import numpy as np\n",
    "arr = np.array([5, 10, 15, 20, 25]) \n",
    "a = arr[3] \n",
    "print(a)\n"
   ]
  },
  {
   "cell_type": "code",
   "execution_count": 9,
   "id": "0dbada7f-9379-45ee-807d-ce64ea86c629",
   "metadata": {},
   "outputs": [
    {
     "name": "stdout",
     "output_type": "stream",
     "text": [
      "[1 2 3 4]\n"
     ]
    }
   ],
   "source": [
    "import numpy as np\n",
    "arr = np.array([1, 2, 3, 4, 5, 6])\n",
    "sub_array = arr[:4] \n",
    "print(sub_array)\n"
   ]
  },
  {
   "cell_type": "code",
   "execution_count": 11,
   "id": "d49a907e-9f6b-43a9-b3e5-88cbf4291e81",
   "metadata": {},
   "outputs": [
    {
     "name": "stdout",
     "output_type": "stream",
     "text": [
      "[[ 7  8  9 10]]\n",
      "Shape of the array: (1, 4)\n"
     ]
    }
   ],
   "source": [
    "import numpy as np\n",
    "arr = np.array([7, 8, 9, 10])  \n",
    "reshaped_arr = arr.reshape(1, 4) \n",
    "print(reshaped_arr)\n",
    "print(\"Shape of the array:\", reshaped_arr.shape) \n"
   ]
  },
  {
   "cell_type": "code",
   "execution_count": 33,
   "id": "ab110edd-c1ec-41f9-af52-57255a75c690",
   "metadata": {},
   "outputs": [
    {
     "name": "stdout",
     "output_type": "stream",
     "text": [
      "[[11]\n",
      " [12]\n",
      " [13]\n",
      " [14]]\n",
      "Shape of the array: (4, 1)\n"
     ]
    }
   ],
   "source": [
    "import numpy as np\n",
    "arr = np.array([11, 12, 13, 14])  \n",
    "\n",
    "arr_2d = np.expand_dims(arr, axis=1) \n",
    "\n",
    "print(arr_2d)\n",
    "print(\"Shape of the array:\", arr_2d.shape) \n"
   ]
  },
  {
   "cell_type": "code",
   "execution_count": 27,
   "id": "a78a1a03-28f4-476c-ab0a-ed59465418e5",
   "metadata": {},
   "outputs": [
    {
     "name": "stdout",
     "output_type": "stream",
     "text": [
      "[99 24 36 48]\n",
      "[99 24 36 48 60]\n"
     ]
    }
   ],
   "source": [
    "import numpy as np\n",
    "arr = np.array([12,24,36,48,60])\n",
    "sub_array = arr[:4] \n",
    "sub_array[0]=99\n",
    "print(sub_array)\n",
    "print(arr)"
   ]
  },
  {
   "cell_type": "code",
   "execution_count": 29,
   "id": "9c5e2214-db87-4050-aac9-0989a6f9cb1b",
   "metadata": {},
   "outputs": [
    {
     "name": "stdout",
     "output_type": "stream",
     "text": [
      "[1 4 3 5 2 9]\n"
     ]
    }
   ],
   "source": [
    "import numpy as np\n",
    "\n",
    "arr = np.array([1, 3, 5])\n",
    "arr = np.append(arr, [2, 9])  \n",
    "arr = np.insert(arr, 1, 4)   \n",
    "\n",
    "print(arr)\n"
   ]
  },
  {
   "cell_type": "code",
   "execution_count": 3,
   "id": "c2b12627-c9c6-4466-a773-a20cd8c811fe",
   "metadata": {},
   "outputs": [
    {
     "name": "stdout",
     "output_type": "stream",
     "text": [
      "10 sadam\n"
     ]
    }
   ],
   "source": [
    "a=10\n",
    "b=\"sadam\"\n",
    "print(a , b)"
   ]
  },
  {
   "cell_type": "code",
   "execution_count": 21,
   "id": "d8005002-dc15-4394-ac91-4984fe0f4706",
   "metadata": {},
   "outputs": [
    {
     "name": "stdout",
     "output_type": "stream",
     "text": [
      "Ascending Order: [10 20 30 40 50]\n",
      "Descending Order: [50 40 30 20 10]\n"
     ]
    }
   ],
   "source": [
    "import numpy as np\n",
    "\n",
    "arr = np.array([30, 10, 50, 20, 40])\n",
    "\n",
    "ascending_sorted = np.sort(arr)\n",
    "print(\"Ascending Order:\", ascending_sorted)\n",
    "\n",
    "descending_sorted = np.sort(arr)[::-1]\n",
    "print(\"Descending Order:\", descending_sorted)"
   ]
  },
  {
   "cell_type": "code",
   "execution_count": 25,
   "id": "1df6673b-0499-40d9-953e-c42077dcd711",
   "metadata": {},
   "outputs": [
    {
     "name": "stdout",
     "output_type": "stream",
     "text": [
      "After removing 35: [15 25 45 55]\n",
      "After deleting index 2: [15 25 55]\n"
     ]
    }
   ],
   "source": [
    "import numpy as np\n",
    "\n",
    "arr = np.array([15, 25, 35, 45, 55])\n",
    "\n",
    "arr = arr[arr != 35]\n",
    "print(\"After removing 35:\", arr)\n",
    "\n",
    "arr = np.delete(arr, 2)\n",
    "print(\"After deleting index 2:\", arr)\n"
   ]
  },
  {
   "cell_type": "code",
   "execution_count": 29,
   "id": "f13f0144-1c45-4a5c-886d-a6a2931e7684",
   "metadata": {},
   "outputs": [
    {
     "name": "stdout",
     "output_type": "stream",
     "text": [
      "Concatenated Array: [1 2 3 4 5 6]\n",
      "Concatenated Array: [1 2 3 4 5 6 7 8 9]\n"
     ]
    }
   ],
   "source": [
    "import numpy as np\n",
    "\n",
    "arr1 = np.array([1, 2, 3])\n",
    "arr2 = np.array([4, 5, 6])\n",
    "\n",
    "result1 = np.concatenate((arr1, arr2))\n",
    "print(\"Concatenated Array:\", result)\n",
    "\n",
    "\n",
    "arr3 = np.array([7,8,9])\n",
    "\n",
    "result2 = np.concatenate((result1, arr3))\n",
    "print(\"Concatenated Array:\", result2)"
   ]
  },
  {
   "cell_type": "code",
   "execution_count": 34,
   "id": "03cc6ae2-b0e1-4c6a-b477-d53d925519d1",
   "metadata": {},
   "outputs": [
    {
     "name": "stdout",
     "output_type": "stream",
     "text": [
      "[array([10, 20]), array([30, 40]), array([50, 60])]\n"
     ]
    }
   ],
   "source": [
    "import numpy as np\n",
    "\n",
    "arr1 = np.array([10, 20, 30, 40, 50, 60])\n",
    "\n",
    "split_arrays = np.split(arr1, 3)\n",
    "\n",
    "print(split_arrays)\n"
   ]
  },
  {
   "cell_type": "code",
   "execution_count": 42,
   "id": "18c2b332-5b5f-4f2b-a2c5-f65e747fb7b3",
   "metadata": {},
   "outputs": [
    {
     "name": "stdout",
     "output_type": "stream",
     "text": [
      "Original Array (arr1): [100 200 300 400 500 600]\n",
      "Copied Array (arr2): [100 200 300 400 500  99]\n",
      "Array after appending 700 and 800: [100 200 300 400 500 600 700 800]\n",
      "Final Array: [100 250 200 300 400 500 600 700 800]\n"
     ]
    }
   ],
   "source": [
    "import numpy as np\n",
    "\n",
    "arr1 = np.array([100, 200, 300, 400, 500, 600])\n",
    "\n",
    "arr2 = np.copy(arr1)\n",
    "\n",
    "arr2[-1] = 99\n",
    "\n",
    "print(\"Original Array (arr1):\", arr1)\n",
    "print(\"Copied Array (arr2):\", arr2)\n",
    "\n",
    "arr1 = np.concatenate((arr1, [700, 800]))\n",
    "\n",
    "print(\"Array after appending 700 and 800:\", arr1)\n",
    "\n",
    "arr1 = np.insert(arr1, 1, 250)\n",
    "\n",
    "print(\"Final Array:\", arr1)\n"
   ]
  },
  {
   "cell_type": "code",
   "execution_count": 44,
   "id": "1f6bf9c7-2bfd-4ff4-bf1d-0f5bf3bce239",
   "metadata": {},
   "outputs": [
    {
     "name": "stdout",
     "output_type": "stream",
     "text": [
      "Original Array: [100 250 200 300 400 500 600 700 800]\n",
      "Sorted Array (Ascending): [100 200 250 300 400 500 600 700 800]\n"
     ]
    }
   ],
   "source": [
    "import numpy as np\n",
    "\n",
    "arr1 = np.array([100, 250, 200, 300, 400, 500, 600, 700, 800])\n",
    "\n",
    "\n",
    "print(\"Original Array:\", arr1)\n",
    "\n",
    "arr1_sorted = np.sort(arr1)\n",
    "\n",
    "print(\"Sorted Array (Ascending):\", arr1_sorted)\n"
   ]
  },
  {
   "cell_type": "code",
   "execution_count": 48,
   "id": "7f2fcad6-6540-4d18-a2f0-9461ed917ea4",
   "metadata": {},
   "outputs": [
    {
     "name": "stdout",
     "output_type": "stream",
     "text": [
      "Original Array: [100 200 300 400 500 600]\n",
      "[array([100, 200, 300]), array([400, 500, 600])]\n"
     ]
    }
   ],
   "source": [
    "import numpy as np\n",
    "\n",
    "arr1 = np.array([100, 200, 300, 400, 500, 600])\n",
    "\n",
    "print(\"Original Array:\", arr1)\n",
    "\n",
    "split_arrays = np.split(arr1, 2)\n",
    "\n",
    "print(split_arrays)\n"
   ]
  },
  {
   "cell_type": "code",
   "execution_count": null,
   "id": "7506b6c1-2ef2-4bfc-b18c-66579ba9a1ce",
   "metadata": {},
   "outputs": [],
   "source": []
  }
 ],
 "metadata": {
  "kernelspec": {
   "display_name": "Python [conda env:base] *",
   "language": "python",
   "name": "conda-base-py"
  },
  "language_info": {
   "codemirror_mode": {
    "name": "ipython",
    "version": 3
   },
   "file_extension": ".py",
   "mimetype": "text/x-python",
   "name": "python",
   "nbconvert_exporter": "python",
   "pygments_lexer": "ipython3",
   "version": "3.12.7"
  }
 },
 "nbformat": 4,
 "nbformat_minor": 5
}
