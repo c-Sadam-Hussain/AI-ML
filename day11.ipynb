{
 "cells": [
  {
   "cell_type": "code",
   "execution_count": 23,
   "id": "4015a637-ba2a-4875-b216-063d91461f8e",
   "metadata": {},
   "outputs": [
    {
     "name": "stdout",
     "output_type": "stream",
     "text": [
      "Mean: 3.7142857142857144\n",
      "Median: 4\n",
      "Mode: 5\n"
     ]
    }
   ],
   "source": [
    "from statistics import mean, median, mode\n",
    "\n",
    "# List of numbers\n",
    "numbers = [1, 2, 3, 4, 5, 5, 6]\n",
    "\n",
    "# Calculate Mean\n",
    "mean_value = mean(numbers)\n",
    "\n",
    "# Calculate Median\n",
    "median_value = median(numbers)\n",
    "\n",
    "# Calculate Mode\n",
    "try:\n",
    "    mode_value = mode(numbers)\n",
    "except:\n",
    "    mode_value = \"No unique mode\"\n",
    "\n",
    "# Print the results\n",
    "print(\"Mean:\", mean_value)\n",
    "print(\"Median:\", median_value)\n",
    "print(\"Mode:\", mode_value)\n"
   ]
  },
  {
   "cell_type": "code",
   "execution_count": 25,
   "id": "007d1c88-83ec-4ff5-b254-23b594c6f4c8",
   "metadata": {},
   "outputs": [
    {
     "name": "stdout",
     "output_type": "stream",
     "text": [
      "Mean: 3.0\n",
      "Variance: 2.0\n",
      "Standard Deviation: 1.4142135623730951\n"
     ]
    }
   ],
   "source": [
    "import math\n",
    "\n",
    "def calculate_mean(data):\n",
    "    return sum(data) / len(data)\n",
    "\n",
    "def calculate_variance(data):\n",
    "    mean_value = calculate_mean(data)\n",
    "    variance = sum((x - mean_value) ** 2 for x in data) / len(data)\n",
    "    return variance\n",
    "\n",
    "def calculate_std_dev(data):\n",
    "    variance_value = calculate_variance(data)\n",
    "    return math.sqrt(variance_value)\n",
    "\n",
    "# Example data\n",
    "data = [1, 2, 3, 4, 5]\n",
    "\n",
    "# Calculate and print results\n",
    "mean_value = calculate_mean(data)\n",
    "variance_value = calculate_variance(data)\n",
    "std_dev_value = calculate_std_dev(data)\n",
    "\n",
    "print(\"Mean:\", mean_value)\n",
    "print(\"Variance:\", variance_value)\n",
    "print(\"Standard Deviation:\", std_dev_value)\n"
   ]
  },
  {
   "cell_type": "code",
   "execution_count": 27,
   "id": "34536be4-763b-4fd4-9a9a-6265de7cb633",
   "metadata": {},
   "outputs": [
    {
     "name": "stdout",
     "output_type": "stream",
     "text": [
      "Coefficient of Variation: 48.45%\n",
      "Skewness: -0.2837\n",
      "Kurtosis: -1.2208\n"
     ]
    }
   ],
   "source": [
    "import numpy as np\n",
    "from scipy import stats\n",
    "\n",
    "# Example data\n",
    "data = np.array([1, 2, 3, 4, 5, 5, 6])\n",
    "\n",
    "# Calculate Coefficient of Variation\n",
    "cv = np.std(data, ddof=1) / np.mean(data) * 100\n",
    "print(f\"Coefficient of Variation: {cv:.2f}%\")\n",
    "\n",
    "# Calculate Skewness\n",
    "skewness = stats.skew(data)\n",
    "print(f\"Skewness: {skewness:.4f}\")\n",
    "\n",
    "# Calculate Kurtosis\n",
    "kurtosis = stats.kurtosis(data)\n",
    "print(f\"Kurtosis: {kurtosis:.4f}\")\n"
   ]
  },
  {
   "cell_type": "code",
   "execution_count": 29,
   "id": "385f54bc-b511-4abf-9e32-c4fe4085cfbd",
   "metadata": {},
   "outputs": [
    {
     "name": "stdout",
     "output_type": "stream",
     "text": [
      "Z-Score for 5: 0.7145\n",
      "50th Percentile: 4.0\n",
      "Quartile 1 (Q1): 2.5\n"
     ]
    }
   ],
   "source": [
    "import numpy as np\n",
    "\n",
    "# Function to calculate Z-Score\n",
    "def calculate_z_score(data, value):\n",
    "    mean_value = np.mean(data)\n",
    "    std_dev = np.std(data, ddof=1)  # Sample standard deviation\n",
    "    z_score = (value - mean_value) / std_dev\n",
    "    return z_score\n",
    "\n",
    "# Function to calculate Percentile\n",
    "def calculate_percentile(data, percentile):\n",
    "    return np.percentile(data, percentile)\n",
    "\n",
    "# Function to calculate Quartile\n",
    "def calculate_quartile(data, quartile):\n",
    "    if quartile == 1:  # First Quartile (Q1)\n",
    "        return np.percentile(data, 25)\n",
    "    elif quartile == 3:  # Third Quartile (Q3)\n",
    "        return np.percentile(data, 75)\n",
    "    else:\n",
    "        raise ValueError(\"Quartile must be either 1 (Q1) or 3 (Q3)\")\n",
    "\n",
    "# Example data\n",
    "data = np.array([1, 2, 3, 4, 5, 5, 6])\n",
    "\n",
    "# Example usage\n",
    "value = 5  # Value for Z-Score calculation\n",
    "percentile_value = 50  # Percentile to calculate\n",
    "quartile = 1  # Quartile to calculate (1 for Q1, 3 for Q3)\n",
    "\n",
    "# Calculate and print results\n",
    "z_score = calculate_z_score(data, value)\n",
    "percentile_result = calculate_percentile(data, percentile_value)\n",
    "quartile_result = calculate_quartile(data, quartile)\n",
    "\n",
    "print(f\"Z-Score for {value}: {z_score:.4f}\")\n",
    "print(f\"{percentile_value}th Percentile: {percentile_result}\")\n",
    "print(f\"Quartile {quartile} (Q{quartile}): {quartile_result}\")\n"
   ]
  },
  {
   "cell_type": "code",
   "execution_count": null,
   "id": "f78b4e13-adc6-4e18-a7c8-695c1478dca2",
   "metadata": {},
   "outputs": [],
   "source": []
  }
 ],
 "metadata": {
  "kernelspec": {
   "display_name": "Python [conda env:base] *",
   "language": "python",
   "name": "conda-base-py"
  },
  "language_info": {
   "codemirror_mode": {
    "name": "ipython",
    "version": 3
   },
   "file_extension": ".py",
   "mimetype": "text/x-python",
   "name": "python",
   "nbconvert_exporter": "python",
   "pygments_lexer": "ipython3",
   "version": "3.12.7"
  }
 },
 "nbformat": 4,
 "nbformat_minor": 5
}
