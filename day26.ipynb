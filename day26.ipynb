{
 "cells": [
  {
   "cell_type": "code",
   "execution_count": null,
   "id": "3af0d530-ad4a-4fd6-9b8d-c8bf93c0e1ba",
   "metadata": {},
   "outputs": [],
   "source": [
    "Words as features (BoW model)\n",
    "\n",
    "#BOW model\n",
    "preffered for small documents\n",
    "gives frequency of words in document in vector form\n",
    "\n",
    "features selection and extraction\n",
    "\n",
    "\n",
    "#FEATURE EXTRACTION\n",
    "\n",
    "term frequency (TF)\n",
    "how much time a term repeats in document , TF(t,d)= no. of times terms t appears in document d / totel terms in document d\n",
    "\n",
    "inverse document frequence IDF\n",
    "how rare a word in a document \n",
    "IDF =log (n / 1+df t)\n",
    "\n",
    "#FEATURE SELECTION\n",
    "\n",
    "frequency threasholdining\n",
    "\n"
   ]
  }
 ],
 "metadata": {
  "kernelspec": {
   "display_name": "NLTK_KERNEL",
   "language": "python",
   "name": "nltk_kernel"
  },
  "language_info": {
   "codemirror_mode": {
    "name": "ipython",
    "version": 3
   },
   "file_extension": ".py",
   "mimetype": "text/x-python",
   "name": "python",
   "nbconvert_exporter": "python",
   "pygments_lexer": "ipython3",
   "version": "3.13.1"
  }
 },
 "nbformat": 4,
 "nbformat_minor": 5
}
