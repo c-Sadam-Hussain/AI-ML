{
 "cells": [
  {
   "cell_type": "code",
   "execution_count": 1,
   "id": "275085b4-a853-4cc7-8a1a-7e56bb7b5cc7",
   "metadata": {},
   "outputs": [
    {
     "ename": "SyntaxError",
     "evalue": "invalid character '–' (U+2013) (2401943758.py, line 11)",
     "output_type": "error",
     "traceback": [
      "\u001b[1;36m  Cell \u001b[1;32mIn[1], line 11\u001b[1;36m\u001b[0m\n\u001b[1;33m    Formulate the model – Use equations, functions, or probabilities.\u001b[0m\n\u001b[1;37m                        ^\u001b[0m\n\u001b[1;31mSyntaxError\u001b[0m\u001b[1;31m:\u001b[0m invalid character '–' (U+2013)\n"
     ]
    }
   ],
   "source": [
    "PROBABILITY\n",
    "\n",
    "\n",
    "Mathematical modeling is using math to describe and solve real-world problems. It helps predict outcomes, understand systems, and make decisions.\n",
    "\n",
    "Steps in Mathematical Modeling:\n",
    "Identify the problem – What are we trying to understand or predict?\n",
    "\n",
    "Make assumptions – What simplifications can we make?\n",
    "\n",
    "Formulate the model – Use equations, functions, or probabilities.\n",
    "\n",
    "Solve the model – Apply math to find results.\n",
    "\n",
    "Interpret the results – Do the answers make sense?\n",
    "\n",
    "Refine the model – Adjust if needed based on new data.\n",
    "\n",
    "\n",
    "\n",
    "You said:\n",
    "types\n",
    "\n",
    "\n",
    "ChatGPT said:\n",
    "Mathematical models come in different types depending on what they describe and how they behave. Here are the main types:\n",
    "\n",
    "1. Deterministic vs. Probabilistic\n",
    "Deterministic models – Always give the same output for the same input (e.g., Newton’s laws).\n",
    "\n",
    "Probabilistic (Stochastic) models – Include randomness and uncertainty (e.g., weather prediction).\n",
    "\n",
    "2. Static vs. Dynamic\n",
    "Static models – Do not change over time (e.g., supply and demand graphs).\n",
    "\n",
    "Dynamic models – Change over time (e.g., population growth models).\n",
    "\n",
    "3. Linear vs. Nonlinear\n",
    "Linear models – Have straight-line relationships (e.g., simple interest formula).\n",
    "\n",
    "Nonlinear models – Have curves or complex interactions (e.g., predator-prey models).\n",
    "\n",
    "4. Discrete vs. Continuous\n",
    "Discrete models – Use specific values (e.g., number of people in a city).\n",
    "\n",
    "Continuous models – Use smooth changes (e.g., temperature changes over time).\n",
    "\n",
    "\n",
    "\n",
    "You said:\n",
    "stocastic model\n",
    "\n",
    "\n",
    "ChatGPT said:\n",
    "A stochastic model is a mathematical model that includes randomness or uncertainty. Instead of giving a single fixed outcome, it predicts a range of possible outcomes with different probabilities.\n",
    "\n",
    "Examples of Stochastic Models:\n",
    "Weather Prediction – Uses probability to forecast rain or temperature.\n",
    "\n",
    "Stock Market Models – Predicts stock prices based on random fluctuations.\n",
    "\n",
    "Epidemiology (Disease Spread) – Models virus spread with random interactions.\n",
    "\n",
    "Genetics – Predicts traits in populations with random inheritance.\n",
    "\n",
    "Key Features:\n",
    "Uses random variables (values that change unpredictably).\n",
    "\n",
    "Often involves probability distributions (e.g., normal or Poisson distribution).\n",
    "\n",
    "Helps in decision-making under uncertainty (e.g., risk analysis).\n"
   ]
  },
  {
   "cell_type": "code",
   "execution_count": 3,
   "id": "a9d916da-6e48-4949-80d8-7385f5e1baa2",
   "metadata": {},
   "outputs": [
    {
     "ename": "SyntaxError",
     "evalue": "invalid character '–' (U+2013) (3641669261.py, line 9)",
     "output_type": "error",
     "traceback": [
      "\u001b[1;36m  Cell \u001b[1;32mIn[3], line 9\u001b[1;36m\u001b[0m\n\u001b[1;33m    Rolling a die – You don’t know which number (1–6) will show up.\u001b[0m\n\u001b[1;37m                  ^\u001b[0m\n\u001b[1;31mSyntaxError\u001b[0m\u001b[1;31m:\u001b[0m invalid character '–' (U+2013)\n"
     ]
    }
   ],
   "source": [
    "\n",
    "You said:\n",
    "random experiment \n",
    "\n",
    "\n",
    "ChatGPT said:\n",
    "A random experiment is a process or action where the outcome is uncertain but follows a probability pattern.\n",
    "\n",
    "Examples of Random Experiments:\n",
    "Rolling a die – You don’t know which number (1–6) will show up.\n",
    "\n",
    "Flipping a coin – The result can be heads or tails, but we can’t predict it in advance.\n",
    "\n",
    "Drawing a card from a deck – Any card could be drawn, but each has a known probability.\n",
    "\n",
    "Weather forecasting – We don’t know exactly if it will rain, but we can estimate the chances.\n",
    "\n",
    "Each outcome is called an event, and the set of all possible outcomes is the sample space.\n",
    "\n",
    "\n",
    "\n",
    "You said:\n",
    "sample space\n",
    "\n",
    "\n",
    "ChatGPT said:\n",
    "The sample space is the set of all possible outcomes of a random experiment.\n",
    "\n",
    "Examples of Sample Spaces:\n",
    "Flipping a coin → \n",
    "𝑆\n",
    "=\n",
    "{\n",
    "Heads, Tails\n",
    "}\n",
    "S={Heads, Tails}\n",
    "\n",
    "Rolling a six-sided die → \n",
    "𝑆={1,2,3,4,5,6}\n",
    "S={1,2,3,4,5,6}\n",
    "\n",
    "Drawing a card from a deck → 𝑆={S={ all 52 cards }}\n",
    "\n",
    "Tossing two coins → 𝑆={𝐻𝐻,𝐻𝑇,𝑇𝐻,𝑇𝑇}\n",
    "S={HH,HT,TH,TT}\n"
   ]
  },
  {
   "cell_type": "code",
   "execution_count": 5,
   "id": "8ef475e9-9eab-409a-a032-433f74cf1e83",
   "metadata": {},
   "outputs": [
    {
     "ename": "SyntaxError",
     "evalue": "invalid syntax (1532725445.py, line 2)",
     "output_type": "error",
     "traceback": [
      "\u001b[1;36m  Cell \u001b[1;32mIn[5], line 2\u001b[1;36m\u001b[0m\n\u001b[1;33m    Bernoulli trials are repeated experiments where each trial has only two possible outcomes: success or failure\u001b[0m\n\u001b[1;37m              ^\u001b[0m\n\u001b[1;31mSyntaxError\u001b[0m\u001b[1;31m:\u001b[0m invalid syntax\n"
     ]
    }
   ],
   "source": [
    "\"Bornali trials.\" \n",
    "Bernoulli trials are repeated experiments where each trial has only two possible outcomes: success or failure\n",
    "(e.g., flipping a coin, where heads is success and tails is failure).\n"
   ]
  },
  {
   "cell_type": "code",
   "execution_count": 7,
   "id": "62944939-0a28-4f7b-af47-131307bd9d0c",
   "metadata": {},
   "outputs": [
    {
     "ename": "SyntaxError",
     "evalue": "invalid character '∣' (U+2223) (271169038.py, line 4)",
     "output_type": "error",
     "traceback": [
      "\u001b[1;36m  Cell \u001b[1;32mIn[7], line 4\u001b[1;36m\u001b[0m\n\u001b[1;33m    𝑃(𝐴∣𝐵)=𝑃(𝐴∩𝐵)𝑃(𝐵)P(A∣B)=P(B)P(A∩B)\u001b[0m\n\u001b[1;37m       ^\u001b[0m\n\u001b[1;31mSyntaxError\u001b[0m\u001b[1;31m:\u001b[0m invalid character '∣' (U+2223)\n"
     ]
    }
   ],
   "source": [
    "Conditional probability is the probability of an event occurring given that another event has already happened.\n",
    "\n",
    "Formula:\n",
    "𝑃(𝐴∣𝐵)=𝑃(𝐴∩𝐵)𝑃(𝐵)P(A∣B)=P(B)P(A∩B)\n",
    "​\n",
    " \n",
    "where:\n",
    "\n",
    "𝑃(𝐴∣𝐵)\n",
    "P(A∣B) = Probability of event A happening given that B has happened\n",
    "\n",
    "𝑃(𝐴∩𝐵)\n",
    "P(A∩B) = Probability that both A and B happen\n",
    "\n",
    "𝑃(𝐵)\n",
    "P(B) = Probability that B happens\n",
    "\n",
    "Example:\n",
    "A deck has 52 cards. What is the probability of drawing a King, given that the drawn card is a face card (King, Queen, or Jack)?\n",
    "\n",
    "Solution:\n",
    "Total face cards = 12 (4 Kings, 4 Queens, 4 Jacks)\n",
    "\n",
    "Kings in the deck = 4\n",
    "\n",
    "Conditional probability:\n",
    "\n",
    "𝑃(𝐾𝑖𝑛𝑔∣𝐹𝑎𝑐𝑒𝐶𝑎𝑟𝑑)=𝑃(𝐾𝑖𝑛𝑔∩𝐹𝑎𝑐𝑒)𝑃(𝐹𝑎𝑐𝑒)=4/52 12/52=412=13\n",
    "P(King∣FaceCard)= \n",
    "P(Face)\n",
    "P(King∩Face)​ =12/52 4/52​ =12 4​ = 3 1​\n"
   ]
  },
  {
   "cell_type": "code",
   "execution_count": 9,
   "id": "539595ce-4318-4866-8e34-71ff0fa3bc0a",
   "metadata": {},
   "outputs": [
    {
     "ename": "SyntaxError",
     "evalue": "invalid syntax (3317497006.py, line 1)",
     "output_type": "error",
     "traceback": [
      "\u001b[1;36m  Cell \u001b[1;32mIn[9], line 1\u001b[1;36m\u001b[0m\n\u001b[1;33m    RANDOM VARIABLE\u001b[0m\n\u001b[1;37m           ^\u001b[0m\n\u001b[1;31mSyntaxError\u001b[0m\u001b[1;31m:\u001b[0m invalid syntax\n"
     ]
    }
   ],
   "source": [
    "RANDOM VARIABLE\n",
    "\n",
    "A random variable is a numerical outcome of a random phenomenon or experiment.\n",
    "It is a function that maps each possible outcome of a random process to a real number.\n",
    "\n",
    "There are two main types of random variables:\n",
    "\n",
    "Discrete Random Variable: It takes on a countable number of distinct values.\n",
    "    For example, the roll of a fair die has discrete outcomes: 1, 2, 3, 4, 5, and 6.\n",
    "\n",
    "Continuous Random Variable: It can take on an infinite number of possible values within a given range.\n",
    "    For example, the height of a person or the temperature in a room can be considered continuous variables.\n",
    "\n",
    "A random variable can be described using a probability distribution:\n",
    "\n",
    "Probability mass function (PMF) for discrete random variables.\n",
    "\n",
    "Probability density function (PDF) for continuous random variables."
   ]
  },
  {
   "cell_type": "code",
   "execution_count": 11,
   "id": "a0c8564c-fb36-4665-b9b7-a0267b19e078",
   "metadata": {},
   "outputs": [
    {
     "ename": "SyntaxError",
     "evalue": "unterminated string literal (detected at line 2) (3145113800.py, line 2)",
     "output_type": "error",
     "traceback": [
      "\u001b[1;36m  Cell \u001b[1;32mIn[11], line 2\u001b[1;36m\u001b[0m\n\u001b[1;33m    trials or observations. Here's how to find the expected value for different types of random variables:\u001b[0m\n\u001b[1;37m                                ^\u001b[0m\n\u001b[1;31mSyntaxError\u001b[0m\u001b[1;31m:\u001b[0m unterminated string literal (detected at line 2)\n"
     ]
    }
   ],
   "source": [
    "The expected value (also called the mean) of a random variable is a measure of the center or \"average\" value it would take on over many \n",
    "trials or observations. Here's how to find the expected value for different types of random variables:\n",
    "\n",
    "1. For Discrete Random Variables:\n",
    "The expected value \n",
    "𝐸(𝑋)\n",
    "E(X) of a discrete random variable \n",
    "𝑋\n",
    "X is calculated by summing the product of each possible value of the random variable and its corresponding probability.\n",
    "\n",
    "\n",
    "2. For Continuous Random Variables:\n",
    "The expected value of a continuous random variable \n",
    "𝑋\n",
    "X is computed by integrating the product of the random variable and its probability density function (PDF) over all possible values of \n",
    "𝑋\n",
    "X.\n",
    "\n",
    "Key Points:\n",
    "The expected value represents the \"long-term average\" of the random variable.\n",
    "\n",
    "For a discrete random variable, you sum over all possible values, weighted by their probabilities.\n",
    "\n",
    "For a continuous random variable, you integrate over the range, weighting by the probability density function."
   ]
  },
  {
   "cell_type": "code",
   "execution_count": 13,
   "id": "26308e9f-1895-4e60-861b-c3526905aac3",
   "metadata": {},
   "outputs": [
    {
     "ename": "SyntaxError",
     "evalue": "invalid character '’' (U+2019) (3882522923.py, line 2)",
     "output_type": "error",
     "traceback": [
      "\u001b[1;36m  Cell \u001b[1;32mIn[13], line 2\u001b[1;36m\u001b[0m\n\u001b[1;33m    It tells us the \"spread\" or \"dispersion\" of the random variable’s values around the expected value. Here's how to find the variance:\u001b[0m\n\u001b[1;37m                                                                   ^\u001b[0m\n\u001b[1;31mSyntaxError\u001b[0m\u001b[1;31m:\u001b[0m invalid character '’' (U+2019)\n"
     ]
    }
   ],
   "source": [
    "Variance is a measure of how much the values of a random variable differ from the expected value (mean). \n",
    "It tells us the \"spread\" or \"dispersion\" of the random variable’s values around the expected value. Here's how to find the variance:\n",
    "\n",
    "1. For Discrete Random Variables:\n",
    "The variance Var(𝑋)\n",
    "Var(X) of a discrete random variable 𝑋\n",
    "X is calculated as the expected value of the squared difference between the random variable and its expected value.\n",
    "\n",
    "2. For Continuous Random Variables:\n",
    "The variance Var(𝑋)\n",
    "Var(X) of a continuous random variable 𝑋\n",
    "X is calculated in a similar way to the discrete case, but using integrals instead of sums."
   ]
  },
  {
   "cell_type": "code",
   "execution_count": 15,
   "id": "d7a74f5a-c301-44f5-a478-7324fcbd5f65",
   "metadata": {},
   "outputs": [
    {
     "ename": "SyntaxError",
     "evalue": "invalid character '…' (U+2026) (2423523494.py, line 17)",
     "output_type": "error",
     "traceback": [
      "\u001b[1;36m  Cell \u001b[1;32mIn[15], line 17\u001b[1;36m\u001b[0m\n\u001b[1;33m    0 ,1,2,3,…\u001b[0m\n\u001b[1;37m             ^\u001b[0m\n\u001b[1;31mSyntaxError\u001b[0m\u001b[1;31m:\u001b[0m invalid character '…' (U+2026)\n"
     ]
    }
   ],
   "source": [
    "The Poisson distribution is a discrete probability distribution that describes the number of events that occur within a fixed interval of time or space,\n",
    "given that these events occur with a known constant rate and are independent of each other.\n",
    "It is commonly used for modeling rare events, such as the number of phone calls received at a call center in an hour, \n",
    "or the number of accidents at a traffic intersection in a day.\n",
    "\n",
    "Key Properties of the Poisson Distribution:\n",
    "Parameter: The Poisson distribution has a single parameter, \n",
    "𝜆 \n",
    "λ (lambda), which represents the average number of events that occur in the given interval.\n",
    "\n",
    "Events: The events are assumed to happen independently and at a constant rate \n",
    "𝜆\n",
    "λ.\n",
    "\n",
    "Non-negative integers: The random variable 𝑋 \n",
    "X, representing the number of events, can only take non-negative integer values: \n",
    "0 ,1,2,3,…\n",
    "Poisson Probability Mass Function (PMF):\n",
    "The probability of observing 𝑘 events in a fixed interval is given by the Poisson distribution's PMF:\n",
    "\n",
    "Applications of the Poisson Distribution:\n",
    "Queuing problems: Number of customers arriving at a service point (e.g., a bank, a shop).\n",
    "\n",
    "Natural phenomena: Number of earthquakes, lightning strikes, or car accidents in a region within a given time frame.\n",
    "\n",
    "Traffic analysis: Number of cars passing a certain point in a fixed period.\n"
   ]
  },
  {
   "cell_type": "code",
   "execution_count": null,
   "id": "b6a63bbe-4bbd-4e4e-80bb-90baef84af29",
   "metadata": {},
   "outputs": [],
   "source": [
    "probability mas  function\n",
    "\n",
    "\n",
    "ChatGPT said:\n",
    "The Probability Mass Function (PMF) is a function that gives the probability of each possible outcome of a discrete random variable. It is used to describe discrete probability distributions, and it is particularly relevant when dealing with random variables that take on a countable number of distinct values.\n",
    "\n",
    "For a discrete random variable \n",
    "𝑋\n",
    "X, the PMF, denoted as \n",
    "𝑃(𝑋=𝑥)\n",
    "P(X=x), is defined as the probability that the random variable 𝑋\n",
    "X takes the value x.\n",
    "\n",
    "\n",
    "\n",
    "CDF\n",
    "\n",
    "\n",
    "ChatGPT said:\n",
    "The Cumulative Distribution Function (CDF) is a function that provides the cumulative probability that a random variable \n",
    "𝑋\n",
    "X takes a value less than or equal to a particular value \n",
    "𝑥\n",
    "x. In other words, the CDF gives the probability that the random variable is less than or equal to a specific value."
   ]
  }
 ],
 "metadata": {
  "kernelspec": {
   "display_name": "Python [conda env:base] *",
   "language": "python",
   "name": "conda-base-py"
  },
  "language_info": {
   "codemirror_mode": {
    "name": "ipython",
    "version": 3
   },
   "file_extension": ".py",
   "mimetype": "text/x-python",
   "name": "python",
   "nbconvert_exporter": "python",
   "pygments_lexer": "ipython3",
   "version": "3.12.7"
  }
 },
 "nbformat": 4,
 "nbformat_minor": 5
}
