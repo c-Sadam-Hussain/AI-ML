{
 "cells": [
  {
   "cell_type": "code",
   "execution_count": 1,
   "id": "07dc8ad9-4bdf-47c0-a995-2823da898fe2",
   "metadata": {},
   "outputs": [
    {
     "ename": "SyntaxError",
     "evalue": "invalid syntax (3436364396.py, line 1)",
     "output_type": "error",
     "traceback": [
      "\u001b[1;36m  Cell \u001b[1;32mIn[1], line 1\u001b[1;36m\u001b[0m\n\u001b[1;33m    NumPy is essential for performing high-performance numerical computations.\u001b[0m\n\u001b[1;37m                       ^\u001b[0m\n\u001b[1;31mSyntaxError\u001b[0m\u001b[1;31m:\u001b[0m invalid syntax\n"
     ]
    }
   ],
   "source": [
    "NumPy is essential for performing high-performance numerical computations.\n",
    "\n",
    "It provides a powerful N-dimensional array object, making it easier to manipulate large datasets and perform mathematical operations.\n",
    "\n",
    "Its vectorization capabilities and memory efficiency make it the go-to library for scientific computing and data science.\n",
    "\n",
    "It integrates well with other libraries like Pandas, SciPy, and Scikit-learn, which are widely used in data analysis and machine learning."
   ]
  },
  {
   "cell_type": "code",
   "execution_count": 59,
   "id": "1f6ad8b8-a9ad-4ebd-bf39-ee56f95256c2",
   "metadata": {},
   "outputs": [
    {
     "name": "stdout",
     "output_type": "stream",
     "text": [
      "[1 2 3 4 5]\n"
     ]
    }
   ],
   "source": [
    "import numpy as np\n",
    "a = np.array([1, 2, 3, 4, 5])\n",
    "print(a)\n"
   ]
  },
  {
   "cell_type": "code",
   "execution_count": 5,
   "id": "b706c01d-d4dc-41c4-b2d1-6816b852d128",
   "metadata": {},
   "outputs": [
    {
     "name": "stdout",
     "output_type": "stream",
     "text": [
      "[[1 2 3]\n",
      " [4 5 6]]\n"
     ]
    }
   ],
   "source": [
    "import numpy as np\n",
    "b = np.array([[1, 2, 3], [4, 5, 6]])\n",
    "print(b)"
   ]
  },
  {
   "cell_type": "code",
   "execution_count": 57,
   "id": "5fac30ee-afcf-474f-9b9d-c44e097d9cd3",
   "metadata": {},
   "outputs": [
    {
     "name": "stdout",
     "output_type": "stream",
     "text": [
      "[[0. 0. 0.]\n",
      " [0. 0. 0.]]\n"
     ]
    }
   ],
   "source": [
    "import numpy as np\n",
    "c = np.zeros((2, 3)) \n",
    "print(c)\n"
   ]
  },
  {
   "cell_type": "code",
   "execution_count": 11,
   "id": "52c299db-b037-4550-b5e9-3b9f10b521b7",
   "metadata": {},
   "outputs": [
    {
     "name": "stdout",
     "output_type": "stream",
     "text": [
      "[[1. 1.]\n",
      " [1. 1.]\n",
      " [1. 1.]]\n"
     ]
    }
   ],
   "source": [
    "import numpy as np\n",
    "d = np.ones((3, 2))  # Creates a 3x2 array of ones\n",
    "print(d)\n"
   ]
  },
  {
   "cell_type": "code",
   "execution_count": 13,
   "id": "d2913c22-50b8-4a13-8722-28a0c3aacfc0",
   "metadata": {},
   "outputs": [
    {
     "name": "stdout",
     "output_type": "stream",
     "text": [
      "[0 2 4 6 8]\n"
     ]
    }
   ],
   "source": [
    "import numpy as np\n",
    "e = np.arange(0, 10, 2)  # Creates an array with values from 0 to 10, stepping by 2\n",
    "print(e)\n"
   ]
  },
  {
   "cell_type": "code",
   "execution_count": 15,
   "id": "ac71b980-3d50-4d4b-8d4e-509c82850764",
   "metadata": {},
   "outputs": [
    {
     "name": "stdout",
     "output_type": "stream",
     "text": [
      "[0.   0.25 0.5  0.75 1.  ]\n"
     ]
    }
   ],
   "source": [
    "import numpy as np\n",
    "f = np.linspace(0, 1, 5)  # Creates an array of 5 evenly spaced values between 0 and 1\n",
    "print(f)\n"
   ]
  },
  {
   "cell_type": "code",
   "execution_count": 17,
   "id": "4d6c5906-909b-46df-808d-433cd844989b",
   "metadata": {},
   "outputs": [
    {
     "name": "stdout",
     "output_type": "stream",
     "text": [
      "[5 7 9]\n",
      "[-3 -3 -3]\n",
      "[ 4 10 18]\n",
      "[0.25 0.4  0.5 ]\n"
     ]
    }
   ],
   "source": [
    "import numpy as np\n",
    "x = np.array([1, 2, 3])\n",
    "y = np.array([4, 5, 6])\n",
    "\n",
    "# Addition\n",
    "print(x + y)\n",
    "\n",
    "# Subtraction\n",
    "print(x - y)\n",
    "\n",
    "# Element-wise multiplication\n",
    "print(x * y)\n",
    "\n",
    "# Element-wise division\n",
    "print(x / y)\n"
   ]
  },
  {
   "cell_type": "code",
   "execution_count": 19,
   "id": "24d84067-aefb-4e66-91c8-7cb9fdd86db8",
   "metadata": {},
   "outputs": [
    {
     "name": "stdout",
     "output_type": "stream",
     "text": [
      "[6 7 8]\n",
      "[3 6 9]\n"
     ]
    }
   ],
   "source": [
    "import numpy as np\n",
    "x = np.array([1, 2, 3])\n",
    "y = np.array([4, 5, 6])\n",
    "# Adding a scalar value to an array\n",
    "print(x + 5)\n",
    "\n",
    "# Multiplying an array by a scalar\n",
    "print(x * 3)\n"
   ]
  },
  {
   "cell_type": "code",
   "execution_count": 21,
   "id": "93d1eb90-9e17-4520-9912-770bbb317fd7",
   "metadata": {},
   "outputs": [
    {
     "name": "stdout",
     "output_type": "stream",
     "text": [
      "[[1 2 3]\n",
      " [4 5 6]]\n"
     ]
    }
   ],
   "source": [
    "g = np.array([1, 2, 3, 4, 5, 6])\n",
    "reshaped = g.reshape(2, 3)  # Reshape to 2 rows and 3 columns\n",
    "print(reshaped)\n"
   ]
  },
  {
   "cell_type": "code",
   "execution_count": 23,
   "id": "0e5b5738-81ae-41db-a02b-3f8f094bb367",
   "metadata": {},
   "outputs": [
    {
     "name": "stdout",
     "output_type": "stream",
     "text": [
      "[1 2 3 4 5 6]\n"
     ]
    }
   ],
   "source": [
    "h = np.array([[1, 2, 3], [4, 5, 6]])\n",
    "flattened = h.flatten()  # Convert the 2D array to a 1D array\n",
    "print(flattened)\n"
   ]
  },
  {
   "cell_type": "code",
   "execution_count": 25,
   "id": "d57e67fd-eec2-4e3e-b266-5cefbc11d1a1",
   "metadata": {},
   "outputs": [
    {
     "name": "stdout",
     "output_type": "stream",
     "text": [
      "[[1 3 5]\n",
      " [2 4 6]]\n"
     ]
    }
   ],
   "source": [
    "i = np.array([[1, 2], [3, 4], [5, 6]])\n",
    "transposed = i.T  # Transpose of the matrix (flip rows and columns)\n",
    "print(transposed)\n"
   ]
  },
  {
   "cell_type": "code",
   "execution_count": 27,
   "id": "7aa63b2a-77f1-4277-8312-30e9e0637dd2",
   "metadata": {},
   "outputs": [
    {
     "name": "stdout",
     "output_type": "stream",
     "text": [
      "3\n"
     ]
    }
   ],
   "source": [
    "a = np.array([1, 2, 3, 4, 5])\n",
    "print(a[2])  # Access the third element\n"
   ]
  },
  {
   "cell_type": "code",
   "execution_count": 29,
   "id": "9b26ff06-d062-40d7-9464-4563e2cfa47f",
   "metadata": {},
   "outputs": [
    {
     "name": "stdout",
     "output_type": "stream",
     "text": [
      "2\n"
     ]
    }
   ],
   "source": [
    "b = np.array([[1, 2, 3], [4, 5, 6]])\n",
    "print(b[0, 1])  # Access element in the first row, second column\n"
   ]
  },
  {
   "cell_type": "code",
   "execution_count": 31,
   "id": "211c5a26-b15b-481f-95cd-9316666a9aa8",
   "metadata": {},
   "outputs": [
    {
     "name": "stdout",
     "output_type": "stream",
     "text": [
      "[2 3 4]\n"
     ]
    }
   ],
   "source": [
    "c = np.array([1, 2, 3, 4, 5])\n",
    "print(c[1:4])  # Get a slice of the array from index 1 to 3\n"
   ]
  },
  {
   "cell_type": "code",
   "execution_count": 33,
   "id": "20cb4b5a-b366-43dc-9199-0ebeec1e26f5",
   "metadata": {},
   "outputs": [
    {
     "name": "stdout",
     "output_type": "stream",
     "text": [
      "[[2 3]\n",
      " [5 6]]\n"
     ]
    }
   ],
   "source": [
    "d = np.array([[1, 2, 3], [4, 5, 6], [7, 8, 9]])\n",
    "print(d[0:2, 1:3])  # Slice the first two rows and the second and third columns\n"
   ]
  },
  {
   "cell_type": "code",
   "execution_count": 35,
   "id": "824339ff-669f-4d83-9423-3167b75293de",
   "metadata": {},
   "outputs": [
    {
     "name": "stdout",
     "output_type": "stream",
     "text": [
      "10\n"
     ]
    }
   ],
   "source": [
    "e = np.array([1, 2, 3, 4])\n",
    "print(np.sum(e))  # Sum of all elements\n"
   ]
  },
  {
   "cell_type": "code",
   "execution_count": 37,
   "id": "bbd5719c-e48a-4116-8f62-0e93034b867b",
   "metadata": {},
   "outputs": [
    {
     "name": "stdout",
     "output_type": "stream",
     "text": [
      "3.0\n",
      "1.4142135623730951\n"
     ]
    }
   ],
   "source": [
    "f = np.array([1, 2, 3, 4, 5])\n",
    "print(np.mean(f))  # Mean of the array\n",
    "print(np.std(f))  # Standard deviation of the array\n"
   ]
  },
  {
   "cell_type": "code",
   "execution_count": 39,
   "id": "718a4523-0cab-426f-bc94-69069dfdc3a8",
   "metadata": {},
   "outputs": [
    {
     "name": "stdout",
     "output_type": "stream",
     "text": [
      "[[19 22]\n",
      " [43 50]]\n"
     ]
    }
   ],
   "source": [
    "g = np.array([[1, 2], [3, 4]])\n",
    "h = np.array([[5, 6], [7, 8]])\n",
    "print(np.dot(g, h))  # Matrix multiplication\n"
   ]
  },
  {
   "cell_type": "code",
   "execution_count": 41,
   "id": "da9f448d-1a1f-4e58-afd1-9e6f4af357d2",
   "metadata": {},
   "outputs": [
    {
     "name": "stdout",
     "output_type": "stream",
     "text": [
      "[1. 2. 3. 4.]\n"
     ]
    }
   ],
   "source": [
    "i = np.array([1, 4, 9, 16])\n",
    "print(np.sqrt(i))  # Square root of each element\n"
   ]
  },
  {
   "cell_type": "code",
   "execution_count": 43,
   "id": "49ad0413-7f54-4c66-be70-84c0758acedf",
   "metadata": {},
   "outputs": [
    {
     "name": "stdout",
     "output_type": "stream",
     "text": [
      "[0.88927824 0.56743712 0.70809181]\n"
     ]
    }
   ],
   "source": [
    "j = np.random.rand(3)  # Generate 3 random numbers between 0 and 1\n",
    "print(j)\n"
   ]
  },
  {
   "cell_type": "code",
   "execution_count": 45,
   "id": "6938a6e5-b764-48e7-9a11-a3ee93f1d769",
   "metadata": {},
   "outputs": [
    {
     "name": "stdout",
     "output_type": "stream",
     "text": [
      "[[7 3 5]\n",
      " [4 5 5]]\n"
     ]
    }
   ],
   "source": [
    "k = np.random.randint(0, 10, size=(2, 3))  # Generate random integers between 0 and 10 in a 2x3 array\n",
    "print(k)\n"
   ]
  },
  {
   "cell_type": "code",
   "execution_count": 47,
   "id": "72d1b4e7-4a34-4cb8-b017-e03200db73bb",
   "metadata": {},
   "outputs": [
    {
     "name": "stdout",
     "output_type": "stream",
     "text": [
      "[[-0.37144322  0.59626353]\n",
      " [-0.49461208  0.73166685]\n",
      " [-0.28999389 -0.05428357]]\n"
     ]
    }
   ],
   "source": [
    "l = np.random.randn(3, 2)  # Generate 3x2 array from a normal distribution\n",
    "print(l)\n"
   ]
  },
  {
   "cell_type": "code",
   "execution_count": 49,
   "id": "08f41e49-a8ec-46ec-9d3b-ce5890d7aeda",
   "metadata": {},
   "outputs": [
    {
     "name": "stdout",
     "output_type": "stream",
     "text": [
      "1\n",
      "5\n",
      "4\n",
      "0\n"
     ]
    }
   ],
   "source": [
    "m = np.array([1, 2, 3, 4, 5])\n",
    "print(np.min(m))  # Minimum value\n",
    "print(np.max(m))  # Maximum value\n",
    "print(np.argmax(m))  # Index of the maximum value\n",
    "print(np.argmin(m))  # Index of the minimum value\n"
   ]
  },
  {
   "cell_type": "code",
   "execution_count": 51,
   "id": "7fa507f1-3889-45ee-9482-fd66df5d1817",
   "metadata": {},
   "outputs": [
    {
     "name": "stdout",
     "output_type": "stream",
     "text": [
      "[ 9 12]\n",
      "[ 3  7 11]\n"
     ]
    }
   ],
   "source": [
    "n = np.array([[1, 2], [3, 4], [5, 6]])\n",
    "print(np.sum(n, axis=0))  # Sum along the columns\n",
    "print(np.sum(n, axis=1))  # Sum along the rows\n"
   ]
  },
  {
   "cell_type": "code",
   "execution_count": 53,
   "id": "9bf096e9-07ae-4230-b090-46577f1b5e36",
   "metadata": {},
   "outputs": [
    {
     "name": "stdout",
     "output_type": "stream",
     "text": [
      "[[-2.   1. ]\n",
      " [ 1.5 -0.5]]\n"
     ]
    }
   ],
   "source": [
    "o = np.array([[1, 2], [3, 4]])\n",
    "print(np.linalg.inv(o))  # Inverse of a matrix\n"
   ]
  },
  {
   "cell_type": "code",
   "execution_count": 55,
   "id": "e29dc700-55b8-420b-94e7-b8a6bc8ff6f1",
   "metadata": {},
   "outputs": [
    {
     "name": "stdout",
     "output_type": "stream",
     "text": [
      "[2. 3.]\n"
     ]
    }
   ],
   "source": [
    "A = np.array([[3, 1], [1, 2]])\n",
    "b = np.array([9, 8])\n",
    "x = np.linalg.solve(A, b)  # Solve Ax = b\n",
    "print(x)\n"
   ]
  },
  {
   "cell_type": "code",
   "execution_count": 61,
   "id": "b8843e06-8d9e-4458-a8a7-54e8b1e4f81e",
   "metadata": {},
   "outputs": [
    {
     "name": "stdout",
     "output_type": "stream",
     "text": [
      "5\n",
      "6\n",
      "8\n"
     ]
    }
   ],
   "source": [
    "# 1D array\n",
    "a = np.array([1, 2, 3, 4, 5])\n",
    "print(a.size)  # Output: 5 (5 elements in the array)\n",
    "\n",
    "# 2D array\n",
    "b = np.array([[1, 2, 3], [4, 5, 6]])\n",
    "print(b.size)  # Output: 6 (6 elements in total)\n",
    "\n",
    "# 3D array\n",
    "c = np.array([[[1, 2], [3, 4]], [[5, 6], [7, 8]]])\n",
    "print(c.size)  # Output: 12 (12 elements in total)\n"
   ]
  },
  {
   "cell_type": "code",
   "execution_count": 63,
   "id": "d62cc6fe-140e-4cc6-9f25-b99c9ce1e818",
   "metadata": {},
   "outputs": [
    {
     "name": "stdout",
     "output_type": "stream",
     "text": [
      "(5,)\n",
      "(2, 3)\n",
      "(2, 2, 2)\n"
     ]
    }
   ],
   "source": [
    "# 1D array\n",
    "a = np.array([1, 2, 3, 4, 5])\n",
    "print(a.shape)  # Output: (5,) (5 elements in 1D)\n",
    "\n",
    "# 2D array\n",
    "b = np.array([[1, 2, 3], [4, 5, 6]])\n",
    "print(b.shape)  # Output: (2, 3) (2 rows, 3 columns)\n",
    "\n",
    "# 3D array\n",
    "c = np.array([[[1, 2], [3, 4]], [[5, 6], [7, 8]]])\n",
    "print(c.shape)  # Output: (2, 2, 2) (2 matrices, 2 rows, 2 columns in each)\n"
   ]
  },
  {
   "cell_type": "code",
   "execution_count": 65,
   "id": "f4ad3ab9-9b86-4f8e-ac33-961529df32a4",
   "metadata": {},
   "outputs": [
    {
     "name": "stdout",
     "output_type": "stream",
     "text": [
      "int32\n",
      "float64\n",
      "complex128\n"
     ]
    }
   ],
   "source": [
    "# 1D array with integers\n",
    "a = np.array([1, 2, 3, 4, 5])\n",
    "print(a.dtype)  # Output: int64 (depends on the system architecture)\n",
    "\n",
    "# 1D array with floating point numbers\n",
    "b = np.array([1.0, 2.5, 3.8, 4.2])\n",
    "print(b.dtype)  # Output: float64\n",
    "\n",
    "# 1D array with complex numbers\n",
    "c = np.array([1+2j, 3+4j, 5+6j])\n",
    "print(c.dtype)  # Output: complex128\n"
   ]
  },
  {
   "cell_type": "code",
   "execution_count": null,
   "id": "1f26a3b0-8307-4eb0-8b82-3cb9f3de8e60",
   "metadata": {},
   "outputs": [],
   "source": []
  }
 ],
 "metadata": {
  "kernelspec": {
   "display_name": "Python [conda env:base] *",
   "language": "python",
   "name": "conda-base-py"
  },
  "language_info": {
   "codemirror_mode": {
    "name": "ipython",
    "version": 3
   },
   "file_extension": ".py",
   "mimetype": "text/x-python",
   "name": "python",
   "nbconvert_exporter": "python",
   "pygments_lexer": "ipython3",
   "version": "3.12.7"
  }
 },
 "nbformat": 4,
 "nbformat_minor": 5
}
