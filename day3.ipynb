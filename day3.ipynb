{
 "cells": [
  {
   "cell_type": "code",
   "execution_count": 7,
   "id": "c5aa1ede-6c9a-400f-9ec6-9b3cc845b7b3",
   "metadata": {},
   "outputs": [
    {
     "name": "stdout",
     "output_type": "stream",
     "text": [
      "Sadam\n",
      "99\n"
     ]
    }
   ],
   "source": [
    "students = {\n",
    "    \"Alice\": 85,\n",
    "    \"Bob\": 90,\n",
    "    \"Charlie\": 78\n",
    "}\n",
    "\n",
    "students[\"Sadam\"] = 99\n",
    "students[\"Bob\"] = 95  # Updating Bob’s score\n",
    "\n",
    "# student with the highest score\n",
    "highest_scorer = max(students, key=students.get)\n",
    "highest_score = students[highest_scorer]\n",
    "\n",
    "print(highest_scorer)  \n",
    "print(highest_score)   \n"
   ]
  },
  {
   "cell_type": "code",
   "execution_count": null,
   "id": "7d90e33b-c60a-4e10-b14a-09591e7ff41e",
   "metadata": {},
   "outputs": [],
   "source": []
  }
 ],
 "metadata": {
  "kernelspec": {
   "display_name": "Python [conda env:base] *",
   "language": "python",
   "name": "conda-base-py"
  },
  "language_info": {
   "codemirror_mode": {
    "name": "ipython",
    "version": 3
   },
   "file_extension": ".py",
   "mimetype": "text/x-python",
   "name": "python",
   "nbconvert_exporter": "python",
   "pygments_lexer": "ipython3",
   "version": "3.12.7"
  }
 },
 "nbformat": 4,
 "nbformat_minor": 5
}
