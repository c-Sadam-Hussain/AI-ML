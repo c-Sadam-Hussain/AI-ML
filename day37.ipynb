{
 "cells": [
  {
   "cell_type": "code",
   "execution_count": 1,
   "id": "38da131f-2efb-4fd1-8326-7fb394276042",
   "metadata": {},
   "outputs": [
    {
     "name": "stdout",
     "output_type": "stream",
     "text": [
      " quiz.\n"
     ]
    }
   ],
   "source": [
    "class Super:\n",
    "    def __init__(self, name):\n",
    "        self.name = name\n",
    "\n",
    "    def __str__(self):\n",
    "        return \" \" + self.name + \".\"\n",
    "\n",
    "\n",
    "class Sub(Super):\n",
    "    def __init__(self, name):\n",
    "        Super.__init__(self, name)\n",
    "\n",
    "\n",
    "obj = Sub(\"quiz\")\n",
    "\n",
    "print(obj)"
   ]
  },
  {
   "cell_type": "code",
   "execution_count": 3,
   "id": "c4b830ad-8595-4561-92bd-6fef28e710c6",
   "metadata": {},
   "outputs": [
    {
     "name": "stdout",
     "output_type": "stream",
     "text": [
      "1\n"
     ]
    }
   ],
   "source": [
    "class Super:\n",
    "    supVar = 1\n",
    "\n",
    "\n",
    "class Sub(Super):\n",
    "    subVar = 2\n",
    "\n",
    "\n",
    "obj = Sub()\n",
    "\n",
    "print(obj.supVar)\n"
   ]
  },
  {
   "cell_type": "code",
   "execution_count": 28,
   "id": "5fcc8d7d-a6fc-42e3-b658-4132881dd596",
   "metadata": {},
   "outputs": [
    {
     "name": "stdout",
     "output_type": "stream",
     "text": [
      "[10.]\n"
     ]
    }
   ],
   "source": [
    "from sklearn.linear_model import LinearRegression\n",
    "import numpy as np\n",
    "\n",
    "X = np.array([[1], [2], [3], [4]])\n",
    "y = np.array([2, 4, 6, 8])\n",
    "\n",
    "model = LinearRegression()\n",
    "model.fit(X, y)\n",
    "print(model.predict([[5]]))"
   ]
  },
  {
   "cell_type": "code",
   "execution_count": null,
   "id": "4290991d-1327-456a-9fbc-ed731e7d4dcb",
   "metadata": {},
   "outputs": [],
   "source": []
  }
 ],
 "metadata": {
  "kernelspec": {
   "display_name": "Python [conda env:base] *",
   "language": "python",
   "name": "conda-base-py"
  },
  "language_info": {
   "codemirror_mode": {
    "name": "ipython",
    "version": 3
   },
   "file_extension": ".py",
   "mimetype": "text/x-python",
   "name": "python",
   "nbconvert_exporter": "python",
   "pygments_lexer": "ipython3",
   "version": "3.12.7"
  }
 },
 "nbformat": 4,
 "nbformat_minor": 5
}
