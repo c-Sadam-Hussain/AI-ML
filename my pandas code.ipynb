{
 "cells": [
  {
   "cell_type": "code",
   "execution_count": 1,
   "id": "712fd67b-07e6-4be4-9b17-af3c2f408f4c",
   "metadata": {},
   "outputs": [
    {
     "name": "stdout",
     "output_type": "stream",
     "text": [
      "Pandas is installed\n"
     ]
    }
   ],
   "source": [
    "try:\n",
    "    import pandas\n",
    "    print(\"Pandas is installed\")\n",
    "except ImportError:\n",
    "    print(\"Pandas is NOT installed\")\n"
   ]
  },
  {
   "cell_type": "code",
   "execution_count": null,
   "id": "c2a19e0a-b9be-4a57-befa-c559f192203e",
   "metadata": {},
   "outputs": [],
   "source": [
    "# CSV stands for Comma Separated File\n",
    "pandas have two main types :\n",
    "\n",
    "1.DataFrames (df) (2D + labeled)\n",
    "2.Series (1D labeled array)"
   ]
  },
  {
   "cell_type": "code",
   "execution_count": 37,
   "id": "1f5d00f9-65a4-434c-9179-fa47e8d852a6",
   "metadata": {},
   "outputs": [
    {
     "name": "stdout",
     "output_type": "stream",
     "text": [
      "      Name  Age   Country\n",
      "0    Sadam   30      Iraq\n",
      "1   Afridi   23  Pakistan\n",
      "2  Hussain   33      Iran\n"
     ]
    }
   ],
   "source": [
    "import pandas as pd\n",
    "data = {\n",
    "    'Name': ['Sadam','Afridi','Hussain'],\n",
    "    'Age' : [30,23,33],\n",
    "    'Country': ['Iraq','Pakistan','Iran']\n",
    "}\n",
    "\n",
    "#LOAD DATA FROM DICTIONARY\n",
    "df = pd.DataFrame(data)\n",
    "\n",
    "print(df)"
   ]
  },
  {
   "cell_type": "code",
   "execution_count": 51,
   "id": "1dde29f7-1b94-4e4e-af4b-0c610dd7d6b1",
   "metadata": {},
   "outputs": [
    {
     "data": {
      "text/html": [
       "<div>\n",
       "<style scoped>\n",
       "    .dataframe tbody tr th:only-of-type {\n",
       "        vertical-align: middle;\n",
       "    }\n",
       "\n",
       "    .dataframe tbody tr th {\n",
       "        vertical-align: top;\n",
       "    }\n",
       "\n",
       "    .dataframe thead th {\n",
       "        text-align: right;\n",
       "    }\n",
       "</style>\n",
       "<table border=\"1\" class=\"dataframe\">\n",
       "  <thead>\n",
       "    <tr style=\"text-align: right;\">\n",
       "      <th></th>\n",
       "      <th>constructorStandingsId</th>\n",
       "      <th>raceId</th>\n",
       "      <th>constructorId</th>\n",
       "      <th>points</th>\n",
       "      <th>position</th>\n",
       "      <th>positionText</th>\n",
       "      <th>wins</th>\n",
       "    </tr>\n",
       "  </thead>\n",
       "  <tbody>\n",
       "    <tr>\n",
       "      <th>0</th>\n",
       "      <td>1</td>\n",
       "      <td>18</td>\n",
       "      <td>1</td>\n",
       "      <td>14.0</td>\n",
       "      <td>1</td>\n",
       "      <td>1</td>\n",
       "      <td>1</td>\n",
       "    </tr>\n",
       "    <tr>\n",
       "      <th>1</th>\n",
       "      <td>2</td>\n",
       "      <td>18</td>\n",
       "      <td>2</td>\n",
       "      <td>8.0</td>\n",
       "      <td>3</td>\n",
       "      <td>3</td>\n",
       "      <td>0</td>\n",
       "    </tr>\n",
       "    <tr>\n",
       "      <th>2</th>\n",
       "      <td>3</td>\n",
       "      <td>18</td>\n",
       "      <td>3</td>\n",
       "      <td>9.0</td>\n",
       "      <td>2</td>\n",
       "      <td>2</td>\n",
       "      <td>0</td>\n",
       "    </tr>\n",
       "    <tr>\n",
       "      <th>3</th>\n",
       "      <td>4</td>\n",
       "      <td>18</td>\n",
       "      <td>4</td>\n",
       "      <td>5.0</td>\n",
       "      <td>4</td>\n",
       "      <td>4</td>\n",
       "      <td>0</td>\n",
       "    </tr>\n",
       "    <tr>\n",
       "      <th>4</th>\n",
       "      <td>5</td>\n",
       "      <td>18</td>\n",
       "      <td>5</td>\n",
       "      <td>2.0</td>\n",
       "      <td>5</td>\n",
       "      <td>5</td>\n",
       "      <td>0</td>\n",
       "    </tr>\n",
       "    <tr>\n",
       "      <th>...</th>\n",
       "      <td>...</td>\n",
       "      <td>...</td>\n",
       "      <td>...</td>\n",
       "      <td>...</td>\n",
       "      <td>...</td>\n",
       "      <td>...</td>\n",
       "      <td>...</td>\n",
       "    </tr>\n",
       "    <tr>\n",
       "      <th>13386</th>\n",
       "      <td>28978</td>\n",
       "      <td>1144</td>\n",
       "      <td>15</td>\n",
       "      <td>4.0</td>\n",
       "      <td>10</td>\n",
       "      <td>10</td>\n",
       "      <td>0</td>\n",
       "    </tr>\n",
       "    <tr>\n",
       "      <th>13387</th>\n",
       "      <td>28979</td>\n",
       "      <td>1144</td>\n",
       "      <td>210</td>\n",
       "      <td>58.0</td>\n",
       "      <td>7</td>\n",
       "      <td>7</td>\n",
       "      <td>0</td>\n",
       "    </tr>\n",
       "    <tr>\n",
       "      <th>13388</th>\n",
       "      <td>28980</td>\n",
       "      <td>1144</td>\n",
       "      <td>215</td>\n",
       "      <td>46.0</td>\n",
       "      <td>8</td>\n",
       "      <td>8</td>\n",
       "      <td>0</td>\n",
       "    </tr>\n",
       "    <tr>\n",
       "      <th>13389</th>\n",
       "      <td>28981</td>\n",
       "      <td>1144</td>\n",
       "      <td>3</td>\n",
       "      <td>17.0</td>\n",
       "      <td>9</td>\n",
       "      <td>9</td>\n",
       "      <td>0</td>\n",
       "    </tr>\n",
       "    <tr>\n",
       "      <th>13390</th>\n",
       "      <td>28982</td>\n",
       "      <td>1144</td>\n",
       "      <td>214</td>\n",
       "      <td>65.0</td>\n",
       "      <td>6</td>\n",
       "      <td>6</td>\n",
       "      <td>0</td>\n",
       "    </tr>\n",
       "  </tbody>\n",
       "</table>\n",
       "<p>13391 rows × 7 columns</p>\n",
       "</div>"
      ],
      "text/plain": [
       "       constructorStandingsId  raceId  constructorId  points  position  \\\n",
       "0                           1      18              1    14.0         1   \n",
       "1                           2      18              2     8.0         3   \n",
       "2                           3      18              3     9.0         2   \n",
       "3                           4      18              4     5.0         4   \n",
       "4                           5      18              5     2.0         5   \n",
       "...                       ...     ...            ...     ...       ...   \n",
       "13386                   28978    1144             15     4.0        10   \n",
       "13387                   28979    1144            210    58.0         7   \n",
       "13388                   28980    1144            215    46.0         8   \n",
       "13389                   28981    1144              3    17.0         9   \n",
       "13390                   28982    1144            214    65.0         6   \n",
       "\n",
       "      positionText  wins  \n",
       "0                1     1  \n",
       "1                3     0  \n",
       "2                2     0  \n",
       "3                4     0  \n",
       "4                5     0  \n",
       "...            ...   ...  \n",
       "13386           10     0  \n",
       "13387            7     0  \n",
       "13388            8     0  \n",
       "13389            9     0  \n",
       "13390            6     0  \n",
       "\n",
       "[13391 rows x 7 columns]"
      ]
     },
     "execution_count": 51,
     "metadata": {},
     "output_type": "execute_result"
    }
   ],
   "source": [
    "# data frames (2d labeled data structure)\n",
    "import pandas as pd\n",
    "\n",
    "#LOAD DATA FROM EXCEL\n",
    "# df = pd.read_excel(\"constructor_standings.xlsx\")\n",
    "\n",
    "#LOAD DATA FROM CSV\n",
    "df = pd.read_csv(\"constructor_standings.csv\")\n",
    "df"
   ]
  },
  {
   "cell_type": "code",
   "execution_count": 49,
   "id": "e308400b-1a6f-453b-8195-c9a85f1361ed",
   "metadata": {},
   "outputs": [
    {
     "data": {
      "text/html": [
       "<div>\n",
       "<style scoped>\n",
       "    .dataframe tbody tr th:only-of-type {\n",
       "        vertical-align: middle;\n",
       "    }\n",
       "\n",
       "    .dataframe tbody tr th {\n",
       "        vertical-align: top;\n",
       "    }\n",
       "\n",
       "    .dataframe thead th {\n",
       "        text-align: right;\n",
       "    }\n",
       "</style>\n",
       "<table border=\"1\" class=\"dataframe\">\n",
       "  <thead>\n",
       "    <tr style=\"text-align: right;\">\n",
       "      <th></th>\n",
       "      <th>constructorStandingsId</th>\n",
       "      <th>raceId</th>\n",
       "      <th>constructorId</th>\n",
       "      <th>points</th>\n",
       "      <th>position</th>\n",
       "      <th>positionText</th>\n",
       "      <th>wins</th>\n",
       "    </tr>\n",
       "  </thead>\n",
       "  <tbody>\n",
       "    <tr>\n",
       "      <th>0</th>\n",
       "      <td>1</td>\n",
       "      <td>18</td>\n",
       "      <td>1</td>\n",
       "      <td>14.0</td>\n",
       "      <td>1</td>\n",
       "      <td>1</td>\n",
       "      <td>1</td>\n",
       "    </tr>\n",
       "    <tr>\n",
       "      <th>1</th>\n",
       "      <td>2</td>\n",
       "      <td>18</td>\n",
       "      <td>2</td>\n",
       "      <td>8.0</td>\n",
       "      <td>3</td>\n",
       "      <td>3</td>\n",
       "      <td>0</td>\n",
       "    </tr>\n",
       "    <tr>\n",
       "      <th>2</th>\n",
       "      <td>3</td>\n",
       "      <td>18</td>\n",
       "      <td>3</td>\n",
       "      <td>9.0</td>\n",
       "      <td>2</td>\n",
       "      <td>2</td>\n",
       "      <td>0</td>\n",
       "    </tr>\n",
       "    <tr>\n",
       "      <th>3</th>\n",
       "      <td>4</td>\n",
       "      <td>18</td>\n",
       "      <td>4</td>\n",
       "      <td>5.0</td>\n",
       "      <td>4</td>\n",
       "      <td>4</td>\n",
       "      <td>0</td>\n",
       "    </tr>\n",
       "    <tr>\n",
       "      <th>4</th>\n",
       "      <td>5</td>\n",
       "      <td>18</td>\n",
       "      <td>5</td>\n",
       "      <td>2.0</td>\n",
       "      <td>5</td>\n",
       "      <td>5</td>\n",
       "      <td>0</td>\n",
       "    </tr>\n",
       "  </tbody>\n",
       "</table>\n",
       "</div>"
      ],
      "text/plain": [
       "   constructorStandingsId  raceId  constructorId  points  position  \\\n",
       "0                       1      18              1    14.0         1   \n",
       "1                       2      18              2     8.0         3   \n",
       "2                       3      18              3     9.0         2   \n",
       "3                       4      18              4     5.0         4   \n",
       "4                       5      18              5     2.0         5   \n",
       "\n",
       "  positionText  wins  \n",
       "0            1     1  \n",
       "1            3     0  \n",
       "2            2     0  \n",
       "3            4     0  \n",
       "4            5     0  "
      ]
     },
     "execution_count": 49,
     "metadata": {},
     "output_type": "execute_result"
    }
   ],
   "source": [
    "# EXPLORING DATAFRAMES\n",
    "\n",
    "df = pd.read_csv(\"constructor_standings.csv\")\n",
    "\n",
    "df.head()  # it print first five rows"
   ]
  },
  {
   "cell_type": "code",
   "execution_count": 53,
   "id": "28ced366-5e02-42d0-8d63-4c9bbc4110ae",
   "metadata": {},
   "outputs": [
    {
     "data": {
      "text/html": [
       "<div>\n",
       "<style scoped>\n",
       "    .dataframe tbody tr th:only-of-type {\n",
       "        vertical-align: middle;\n",
       "    }\n",
       "\n",
       "    .dataframe tbody tr th {\n",
       "        vertical-align: top;\n",
       "    }\n",
       "\n",
       "    .dataframe thead th {\n",
       "        text-align: right;\n",
       "    }\n",
       "</style>\n",
       "<table border=\"1\" class=\"dataframe\">\n",
       "  <thead>\n",
       "    <tr style=\"text-align: right;\">\n",
       "      <th></th>\n",
       "      <th>constructorStandingsId</th>\n",
       "      <th>raceId</th>\n",
       "      <th>constructorId</th>\n",
       "      <th>points</th>\n",
       "      <th>position</th>\n",
       "      <th>positionText</th>\n",
       "      <th>wins</th>\n",
       "    </tr>\n",
       "  </thead>\n",
       "  <tbody>\n",
       "    <tr>\n",
       "      <th>13386</th>\n",
       "      <td>28978</td>\n",
       "      <td>1144</td>\n",
       "      <td>15</td>\n",
       "      <td>4.0</td>\n",
       "      <td>10</td>\n",
       "      <td>10</td>\n",
       "      <td>0</td>\n",
       "    </tr>\n",
       "    <tr>\n",
       "      <th>13387</th>\n",
       "      <td>28979</td>\n",
       "      <td>1144</td>\n",
       "      <td>210</td>\n",
       "      <td>58.0</td>\n",
       "      <td>7</td>\n",
       "      <td>7</td>\n",
       "      <td>0</td>\n",
       "    </tr>\n",
       "    <tr>\n",
       "      <th>13388</th>\n",
       "      <td>28980</td>\n",
       "      <td>1144</td>\n",
       "      <td>215</td>\n",
       "      <td>46.0</td>\n",
       "      <td>8</td>\n",
       "      <td>8</td>\n",
       "      <td>0</td>\n",
       "    </tr>\n",
       "    <tr>\n",
       "      <th>13389</th>\n",
       "      <td>28981</td>\n",
       "      <td>1144</td>\n",
       "      <td>3</td>\n",
       "      <td>17.0</td>\n",
       "      <td>9</td>\n",
       "      <td>9</td>\n",
       "      <td>0</td>\n",
       "    </tr>\n",
       "    <tr>\n",
       "      <th>13390</th>\n",
       "      <td>28982</td>\n",
       "      <td>1144</td>\n",
       "      <td>214</td>\n",
       "      <td>65.0</td>\n",
       "      <td>6</td>\n",
       "      <td>6</td>\n",
       "      <td>0</td>\n",
       "    </tr>\n",
       "  </tbody>\n",
       "</table>\n",
       "</div>"
      ],
      "text/plain": [
       "       constructorStandingsId  raceId  constructorId  points  position  \\\n",
       "13386                   28978    1144             15     4.0        10   \n",
       "13387                   28979    1144            210    58.0         7   \n",
       "13388                   28980    1144            215    46.0         8   \n",
       "13389                   28981    1144              3    17.0         9   \n",
       "13390                   28982    1144            214    65.0         6   \n",
       "\n",
       "      positionText  wins  \n",
       "13386           10     0  \n",
       "13387            7     0  \n",
       "13388            8     0  \n",
       "13389            9     0  \n",
       "13390            6     0  "
      ]
     },
     "execution_count": 53,
     "metadata": {},
     "output_type": "execute_result"
    }
   ],
   "source": [
    "df = pd.read_csv(\"constructor_standings.csv\")\n",
    "\n",
    "df.tail()  # it print last five rows"
   ]
  },
  {
   "cell_type": "code",
   "execution_count": 55,
   "id": "c34bccf6-55f6-482e-bedc-a217d8dc8557",
   "metadata": {},
   "outputs": [
    {
     "name": "stdout",
     "output_type": "stream",
     "text": [
      "<class 'pandas.core.frame.DataFrame'>\n",
      "RangeIndex: 13391 entries, 0 to 13390\n",
      "Data columns (total 7 columns):\n",
      " #   Column                  Non-Null Count  Dtype  \n",
      "---  ------                  --------------  -----  \n",
      " 0   constructorStandingsId  13391 non-null  int64  \n",
      " 1   raceId                  13391 non-null  int64  \n",
      " 2   constructorId           13391 non-null  int64  \n",
      " 3   points                  13391 non-null  float64\n",
      " 4   position                13391 non-null  int64  \n",
      " 5   positionText            13391 non-null  object \n",
      " 6   wins                    13391 non-null  int64  \n",
      "dtypes: float64(1), int64(5), object(1)\n",
      "memory usage: 732.4+ KB\n"
     ]
    }
   ],
   "source": [
    "df = pd.read_csv(\"constructor_standings.csv\")\n",
    "\n",
    "df.info()  # it gives you general information on the data frame"
   ]
  },
  {
   "cell_type": "code",
   "execution_count": 57,
   "id": "eb7fe6a0-af4d-449b-88a4-c19677cfb82e",
   "metadata": {},
   "outputs": [
    {
     "data": {
      "text/html": [
       "<div>\n",
       "<style scoped>\n",
       "    .dataframe tbody tr th:only-of-type {\n",
       "        vertical-align: middle;\n",
       "    }\n",
       "\n",
       "    .dataframe tbody tr th {\n",
       "        vertical-align: top;\n",
       "    }\n",
       "\n",
       "    .dataframe thead th {\n",
       "        text-align: right;\n",
       "    }\n",
       "</style>\n",
       "<table border=\"1\" class=\"dataframe\">\n",
       "  <thead>\n",
       "    <tr style=\"text-align: right;\">\n",
       "      <th></th>\n",
       "      <th>constructorStandingsId</th>\n",
       "      <th>raceId</th>\n",
       "      <th>constructorId</th>\n",
       "      <th>points</th>\n",
       "      <th>position</th>\n",
       "      <th>wins</th>\n",
       "    </tr>\n",
       "  </thead>\n",
       "  <tbody>\n",
       "    <tr>\n",
       "      <th>count</th>\n",
       "      <td>13391.000000</td>\n",
       "      <td>13391.000000</td>\n",
       "      <td>13391.000000</td>\n",
       "      <td>13391.000000</td>\n",
       "      <td>13391.000000</td>\n",
       "      <td>13391.000000</td>\n",
       "    </tr>\n",
       "    <tr>\n",
       "      <th>mean</th>\n",
       "      <td>16982.110821</td>\n",
       "      <td>535.399821</td>\n",
       "      <td>49.603390</td>\n",
       "      <td>37.178515</td>\n",
       "      <td>7.226047</td>\n",
       "      <td>0.697409</td>\n",
       "    </tr>\n",
       "    <tr>\n",
       "      <th>std</th>\n",
       "      <td>8868.446172</td>\n",
       "      <td>307.705928</td>\n",
       "      <td>61.213953</td>\n",
       "      <td>84.346048</td>\n",
       "      <td>4.355923</td>\n",
       "      <td>1.879569</td>\n",
       "    </tr>\n",
       "    <tr>\n",
       "      <th>min</th>\n",
       "      <td>1.000000</td>\n",
       "      <td>1.000000</td>\n",
       "      <td>1.000000</td>\n",
       "      <td>0.000000</td>\n",
       "      <td>1.000000</td>\n",
       "      <td>0.000000</td>\n",
       "    </tr>\n",
       "    <tr>\n",
       "      <th>25%</th>\n",
       "      <td>8883.500000</td>\n",
       "      <td>302.000000</td>\n",
       "      <td>6.000000</td>\n",
       "      <td>0.000000</td>\n",
       "      <td>4.000000</td>\n",
       "      <td>0.000000</td>\n",
       "    </tr>\n",
       "    <tr>\n",
       "      <th>50%</th>\n",
       "      <td>20634.000000</td>\n",
       "      <td>508.000000</td>\n",
       "      <td>25.000000</td>\n",
       "      <td>7.000000</td>\n",
       "      <td>7.000000</td>\n",
       "      <td>0.000000</td>\n",
       "    </tr>\n",
       "    <tr>\n",
       "      <th>75%</th>\n",
       "      <td>25047.500000</td>\n",
       "      <td>740.000000</td>\n",
       "      <td>58.000000</td>\n",
       "      <td>33.000000</td>\n",
       "      <td>10.000000</td>\n",
       "      <td>0.000000</td>\n",
       "    </tr>\n",
       "    <tr>\n",
       "      <th>max</th>\n",
       "      <td>28982.000000</td>\n",
       "      <td>1144.000000</td>\n",
       "      <td>215.000000</td>\n",
       "      <td>860.000000</td>\n",
       "      <td>22.000000</td>\n",
       "      <td>21.000000</td>\n",
       "    </tr>\n",
       "  </tbody>\n",
       "</table>\n",
       "</div>"
      ],
      "text/plain": [
       "       constructorStandingsId        raceId  constructorId        points  \\\n",
       "count            13391.000000  13391.000000   13391.000000  13391.000000   \n",
       "mean             16982.110821    535.399821      49.603390     37.178515   \n",
       "std               8868.446172    307.705928      61.213953     84.346048   \n",
       "min                  1.000000      1.000000       1.000000      0.000000   \n",
       "25%               8883.500000    302.000000       6.000000      0.000000   \n",
       "50%              20634.000000    508.000000      25.000000      7.000000   \n",
       "75%              25047.500000    740.000000      58.000000     33.000000   \n",
       "max              28982.000000   1144.000000     215.000000    860.000000   \n",
       "\n",
       "           position          wins  \n",
       "count  13391.000000  13391.000000  \n",
       "mean       7.226047      0.697409  \n",
       "std        4.355923      1.879569  \n",
       "min        1.000000      0.000000  \n",
       "25%        4.000000      0.000000  \n",
       "50%        7.000000      0.000000  \n",
       "75%       10.000000      0.000000  \n",
       "max       22.000000     21.000000  "
      ]
     },
     "execution_count": 57,
     "metadata": {},
     "output_type": "execute_result"
    }
   ],
   "source": [
    "df = pd.read_csv(\"constructor_standings.csv\")\n",
    "\n",
    "df.describe()  # generate descriptive statistics"
   ]
  },
  {
   "cell_type": "code",
   "execution_count": 61,
   "id": "230b22b7-4984-4c09-8bc0-c12b8b91c2f3",
   "metadata": {},
   "outputs": [
    {
     "data": {
      "text/plain": [
       "Index(['constructorStandingsId', 'raceId', 'constructorId', 'points',\n",
       "       'position', 'positionText', 'wins'],\n",
       "      dtype='object')"
      ]
     },
     "execution_count": 61,
     "metadata": {},
     "output_type": "execute_result"
    }
   ],
   "source": [
    "df = pd.read_csv(\"constructor_standings.csv\")\n",
    "\n",
    "df.columns  # display columns name"
   ]
  },
  {
   "cell_type": "code",
   "execution_count": 63,
   "id": "d30dc8b1-5704-41f7-b001-f2a2dfd75c32",
   "metadata": {},
   "outputs": [
    {
     "data": {
      "text/plain": [
       "RangeIndex(start=0, stop=13391, step=1)"
      ]
     },
     "execution_count": 63,
     "metadata": {},
     "output_type": "execute_result"
    }
   ],
   "source": [
    "df = pd.read_csv(\"constructor_standings.csv\")\n",
    "\n",
    "df.index               # gives us starting and ending index , also steps"
   ]
  },
  {
   "cell_type": "code",
   "execution_count": 65,
   "id": "da96a35e-6981-4023-bed9-ef54eea5ed1b",
   "metadata": {},
   "outputs": [
    {
     "data": {
      "text/plain": [
       "0          18\n",
       "1          18\n",
       "2          18\n",
       "3          18\n",
       "4          18\n",
       "         ... \n",
       "13386    1144\n",
       "13387    1144\n",
       "13388    1144\n",
       "13389    1144\n",
       "13390    1144\n",
       "Name: raceId, Length: 13391, dtype: int64"
      ]
     },
     "execution_count": 65,
     "metadata": {},
     "output_type": "execute_result"
    }
   ],
   "source": [
    "# Series ( 1D array or a column)\n",
    "\n",
    "df = pd.read_csv(\"constructor_standings.csv\")\n",
    "\n",
    "df[\"raceId\"]"
   ]
  },
  {
   "cell_type": "code",
   "execution_count": 67,
   "id": "aa8ef1c7-c2e9-4027-a900-27e17fe2a2ca",
   "metadata": {},
   "outputs": [
    {
     "data": {
      "text/plain": [
       "13391"
      ]
     },
     "execution_count": 67,
     "metadata": {},
     "output_type": "execute_result"
    }
   ],
   "source": [
    "df = pd.read_csv(\"constructor_standings.csv\")\n",
    "\n",
    "len(df[\"raceId\"])   # displaying length "
   ]
  },
  {
   "cell_type": "code",
   "execution_count": 69,
   "id": "e94a2aaf-0869-488b-94cf-16ba863edbb4",
   "metadata": {},
   "outputs": [
    {
     "data": {
      "text/plain": [
       "{0, 1, 2, 3, 4, 5, 6, 7, 8, 9, 10, 11, 12, 13, 14, 15, 16, 17, 18, 19, 20, 21}"
      ]
     },
     "execution_count": 69,
     "metadata": {},
     "output_type": "execute_result"
    }
   ],
   "source": [
    "df = pd.read_csv(\"constructor_standings.csv\")\n",
    "\n",
    "set(df[\"wins\"])   # displaying unique values"
   ]
  },
  {
   "cell_type": "code",
   "execution_count": 75,
   "id": "74e0cfa2-2157-45bd-ac72-4cc91e960962",
   "metadata": {},
   "outputs": [
    {
     "data": {
      "text/html": [
       "<div>\n",
       "<style scoped>\n",
       "    .dataframe tbody tr th:only-of-type {\n",
       "        vertical-align: middle;\n",
       "    }\n",
       "\n",
       "    .dataframe tbody tr th {\n",
       "        vertical-align: top;\n",
       "    }\n",
       "\n",
       "    .dataframe thead th {\n",
       "        text-align: right;\n",
       "    }\n",
       "</style>\n",
       "<table border=\"1\" class=\"dataframe\">\n",
       "  <thead>\n",
       "    <tr style=\"text-align: right;\">\n",
       "      <th></th>\n",
       "      <th>raceId</th>\n",
       "      <th>wins</th>\n",
       "    </tr>\n",
       "  </thead>\n",
       "  <tbody>\n",
       "    <tr>\n",
       "      <th>0</th>\n",
       "      <td>18</td>\n",
       "      <td>1</td>\n",
       "    </tr>\n",
       "    <tr>\n",
       "      <th>1</th>\n",
       "      <td>18</td>\n",
       "      <td>0</td>\n",
       "    </tr>\n",
       "    <tr>\n",
       "      <th>2</th>\n",
       "      <td>18</td>\n",
       "      <td>0</td>\n",
       "    </tr>\n",
       "    <tr>\n",
       "      <th>3</th>\n",
       "      <td>18</td>\n",
       "      <td>0</td>\n",
       "    </tr>\n",
       "    <tr>\n",
       "      <th>4</th>\n",
       "      <td>18</td>\n",
       "      <td>0</td>\n",
       "    </tr>\n",
       "    <tr>\n",
       "      <th>...</th>\n",
       "      <td>...</td>\n",
       "      <td>...</td>\n",
       "    </tr>\n",
       "    <tr>\n",
       "      <th>13386</th>\n",
       "      <td>1144</td>\n",
       "      <td>0</td>\n",
       "    </tr>\n",
       "    <tr>\n",
       "      <th>13387</th>\n",
       "      <td>1144</td>\n",
       "      <td>0</td>\n",
       "    </tr>\n",
       "    <tr>\n",
       "      <th>13388</th>\n",
       "      <td>1144</td>\n",
       "      <td>0</td>\n",
       "    </tr>\n",
       "    <tr>\n",
       "      <th>13389</th>\n",
       "      <td>1144</td>\n",
       "      <td>0</td>\n",
       "    </tr>\n",
       "    <tr>\n",
       "      <th>13390</th>\n",
       "      <td>1144</td>\n",
       "      <td>0</td>\n",
       "    </tr>\n",
       "  </tbody>\n",
       "</table>\n",
       "<p>13391 rows × 2 columns</p>\n",
       "</div>"
      ],
      "text/plain": [
       "       raceId  wins\n",
       "0          18     1\n",
       "1          18     0\n",
       "2          18     0\n",
       "3          18     0\n",
       "4          18     0\n",
       "...       ...   ...\n",
       "13386    1144     0\n",
       "13387    1144     0\n",
       "13388    1144     0\n",
       "13389    1144     0\n",
       "13390    1144     0\n",
       "\n",
       "[13391 rows x 2 columns]"
      ]
     },
     "execution_count": 75,
     "metadata": {},
     "output_type": "execute_result"
    }
   ],
   "source": [
    "df = pd.read_csv(\"constructor_standings.csv\")\n",
    "\n",
    "df[[\"raceId\",\"wins\"]]"
   ]
  },
  {
   "cell_type": "code",
   "execution_count": 79,
   "id": "ff671dc1-8b1c-4818-88c3-faf1c8da1bdf",
   "metadata": {},
   "outputs": [
    {
     "data": {
      "text/plain": [
       "constructorStandingsId     10\n",
       "raceId                     19\n",
       "constructorId               4\n",
       "points                    6.0\n",
       "position                    5\n",
       "positionText                5\n",
       "wins                        0\n",
       "Name: 9, dtype: object"
      ]
     },
     "execution_count": 79,
     "metadata": {},
     "output_type": "execute_result"
    }
   ],
   "source": [
    "df = pd.read_csv(\"constructor_standings.csv\")\n",
    "\n",
    "df.iloc[9]                # index location (accessing 10th row)"
   ]
  },
  {
   "cell_type": "code",
   "execution_count": 25,
   "id": "4a69f37d-bfb8-4031-abe6-033bf999c212",
   "metadata": {},
   "outputs": [
    {
     "data": {
      "text/plain": [
       "constructorStandingsId       1\n",
       "raceId                      18\n",
       "constructorId                1\n",
       "points                    14.0\n",
       "position                     1\n",
       "positionText                 1\n",
       "wins                         1\n",
       "Name: 0, dtype: object"
      ]
     },
     "execution_count": 25,
     "metadata": {},
     "output_type": "execute_result"
    }
   ],
   "source": [
    "import pandas as pd\n",
    "\n",
    "df = pd.read_csv(\"constructor_standings.csv\")\n",
    "\n",
    "df.iloc[0]          # index location (accessing 1st row)"
   ]
  },
  {
   "cell_type": "code",
   "execution_count": 27,
   "id": "4880ec85-bd89-463c-a7f7-da4a6d83906e",
   "metadata": {},
   "outputs": [
    {
     "data": {
      "text/plain": [
       "[10, 19, 4, 6.0, 5, '5', 0]"
      ]
     },
     "execution_count": 27,
     "metadata": {},
     "output_type": "execute_result"
    }
   ],
   "source": [
    "df = pd.read_csv(\"constructor_standings.csv\")\n",
    "\n",
    "list (df.iloc[9] )               # converting 10th row into list"
   ]
  },
  {
   "cell_type": "code",
   "execution_count": 41,
   "id": "d67cc697-e168-4f00-80dc-4509b7009b6b",
   "metadata": {},
   "outputs": [
    {
     "data": {
      "text/html": [
       "<div>\n",
       "<style scoped>\n",
       "    .dataframe tbody tr th:only-of-type {\n",
       "        vertical-align: middle;\n",
       "    }\n",
       "\n",
       "    .dataframe tbody tr th {\n",
       "        vertical-align: top;\n",
       "    }\n",
       "\n",
       "    .dataframe thead th {\n",
       "        text-align: right;\n",
       "    }\n",
       "</style>\n",
       "<table border=\"1\" class=\"dataframe\">\n",
       "  <thead>\n",
       "    <tr style=\"text-align: right;\">\n",
       "      <th></th>\n",
       "      <th>constructorStandingsId</th>\n",
       "      <th>raceId</th>\n",
       "      <th>constructorId</th>\n",
       "      <th>points</th>\n",
       "      <th>position</th>\n",
       "      <th>positionText</th>\n",
       "      <th>wins</th>\n",
       "    </tr>\n",
       "  </thead>\n",
       "  <tbody>\n",
       "    <tr>\n",
       "      <th>0</th>\n",
       "      <td>1</td>\n",
       "      <td>18</td>\n",
       "      <td>1</td>\n",
       "      <td>14.0</td>\n",
       "      <td>1</td>\n",
       "      <td>1</td>\n",
       "      <td>1</td>\n",
       "    </tr>\n",
       "    <tr>\n",
       "      <th>1</th>\n",
       "      <td>2</td>\n",
       "      <td>18</td>\n",
       "      <td>2</td>\n",
       "      <td>8.0</td>\n",
       "      <td>3</td>\n",
       "      <td>3</td>\n",
       "      <td>0</td>\n",
       "    </tr>\n",
       "    <tr>\n",
       "      <th>2</th>\n",
       "      <td>3</td>\n",
       "      <td>18</td>\n",
       "      <td>3</td>\n",
       "      <td>9.0</td>\n",
       "      <td>2</td>\n",
       "      <td>2</td>\n",
       "      <td>0</td>\n",
       "    </tr>\n",
       "    <tr>\n",
       "      <th>3</th>\n",
       "      <td>4</td>\n",
       "      <td>18</td>\n",
       "      <td>4</td>\n",
       "      <td>5.0</td>\n",
       "      <td>4</td>\n",
       "      <td>4</td>\n",
       "      <td>0</td>\n",
       "    </tr>\n",
       "    <tr>\n",
       "      <th>4</th>\n",
       "      <td>5</td>\n",
       "      <td>18</td>\n",
       "      <td>5</td>\n",
       "      <td>2.0</td>\n",
       "      <td>5</td>\n",
       "      <td>5</td>\n",
       "      <td>0</td>\n",
       "    </tr>\n",
       "    <tr>\n",
       "      <th>5</th>\n",
       "      <td>6</td>\n",
       "      <td>18</td>\n",
       "      <td>6</td>\n",
       "      <td>1.0</td>\n",
       "      <td>6</td>\n",
       "      <td>6</td>\n",
       "      <td>0</td>\n",
       "    </tr>\n",
       "  </tbody>\n",
       "</table>\n",
       "</div>"
      ],
      "text/plain": [
       "   constructorStandingsId  raceId  constructorId  points  position  \\\n",
       "0                       1      18              1    14.0         1   \n",
       "1                       2      18              2     8.0         3   \n",
       "2                       3      18              3     9.0         2   \n",
       "3                       4      18              4     5.0         4   \n",
       "4                       5      18              5     2.0         5   \n",
       "5                       6      18              6     1.0         6   \n",
       "\n",
       "  positionText  wins  \n",
       "0            1     1  \n",
       "1            3     0  \n",
       "2            2     0  \n",
       "3            4     0  \n",
       "4            5     0  \n",
       "5            6     0  "
      ]
     },
     "execution_count": 41,
     "metadata": {},
     "output_type": "execute_result"
    }
   ],
   "source": [
    "# APPLYING FILTERS\n",
    "\n",
    "df = pd.read_csv(\"constructor_standings.csv\")\n",
    "\n",
    "df[df[\"raceId\"]==18]    # printing all the columns having raceid equal to 18"
   ]
  },
  {
   "cell_type": "code",
   "execution_count": 47,
   "id": "722051d6-23ac-4dd8-b683-1777275cfa2c",
   "metadata": {},
   "outputs": [
    {
     "data": {
      "text/html": [
       "<div>\n",
       "<style scoped>\n",
       "    .dataframe tbody tr th:only-of-type {\n",
       "        vertical-align: middle;\n",
       "    }\n",
       "\n",
       "    .dataframe tbody tr th {\n",
       "        vertical-align: top;\n",
       "    }\n",
       "\n",
       "    .dataframe thead th {\n",
       "        text-align: right;\n",
       "    }\n",
       "</style>\n",
       "<table border=\"1\" class=\"dataframe\">\n",
       "  <thead>\n",
       "    <tr style=\"text-align: right;\">\n",
       "      <th></th>\n",
       "      <th>constructorStandingsId</th>\n",
       "      <th>raceId</th>\n",
       "      <th>constructorId</th>\n",
       "      <th>points</th>\n",
       "      <th>position</th>\n",
       "      <th>positionText</th>\n",
       "      <th>wins</th>\n",
       "    </tr>\n",
       "  </thead>\n",
       "  <tbody>\n",
       "    <tr>\n",
       "      <th>0</th>\n",
       "      <td>1</td>\n",
       "      <td>18</td>\n",
       "      <td>1</td>\n",
       "      <td>14.0</td>\n",
       "      <td>1</td>\n",
       "      <td>1</td>\n",
       "      <td>1</td>\n",
       "    </tr>\n",
       "  </tbody>\n",
       "</table>\n",
       "</div>"
      ],
      "text/plain": [
       "   constructorStandingsId  raceId  constructorId  points  position  \\\n",
       "0                       1      18              1    14.0         1   \n",
       "\n",
       "  positionText  wins  \n",
       "0            1     1  "
      ]
     },
     "execution_count": 47,
     "metadata": {},
     "output_type": "execute_result"
    }
   ],
   "source": [
    "# APPLYING  MULTIPLE FILTERS\n",
    "\n",
    "df = pd.read_csv(\"constructor_standings.csv\")\n",
    "\n",
    "df[(df[\"raceId\"]==18) & (df[\"position\"]==1)]     # printing all the columns having raceid equal to 18 AND position equal to 1\n"
   ]
  },
  {
   "cell_type": "code",
   "execution_count": 49,
   "id": "9d5995e3-c053-40de-b08f-88e8975715cd",
   "metadata": {},
   "outputs": [
    {
     "data": {
      "text/html": [
       "<div>\n",
       "<style scoped>\n",
       "    .dataframe tbody tr th:only-of-type {\n",
       "        vertical-align: middle;\n",
       "    }\n",
       "\n",
       "    .dataframe tbody tr th {\n",
       "        vertical-align: top;\n",
       "    }\n",
       "\n",
       "    .dataframe thead th {\n",
       "        text-align: right;\n",
       "    }\n",
       "</style>\n",
       "<table border=\"1\" class=\"dataframe\">\n",
       "  <thead>\n",
       "    <tr style=\"text-align: right;\">\n",
       "      <th></th>\n",
       "      <th>constructorStandingsId</th>\n",
       "      <th>raceId</th>\n",
       "      <th>constructorId</th>\n",
       "      <th>points</th>\n",
       "      <th>position</th>\n",
       "      <th>positionText</th>\n",
       "      <th>wins</th>\n",
       "    </tr>\n",
       "  </thead>\n",
       "  <tbody>\n",
       "    <tr>\n",
       "      <th>0</th>\n",
       "      <td>1</td>\n",
       "      <td>18</td>\n",
       "      <td>1</td>\n",
       "      <td>14.0</td>\n",
       "      <td>1</td>\n",
       "      <td>1</td>\n",
       "      <td>1</td>\n",
       "    </tr>\n",
       "    <tr>\n",
       "      <th>1</th>\n",
       "      <td>2</td>\n",
       "      <td>18</td>\n",
       "      <td>2</td>\n",
       "      <td>8.0</td>\n",
       "      <td>3</td>\n",
       "      <td>3</td>\n",
       "      <td>0</td>\n",
       "    </tr>\n",
       "    <tr>\n",
       "      <th>2</th>\n",
       "      <td>3</td>\n",
       "      <td>18</td>\n",
       "      <td>3</td>\n",
       "      <td>9.0</td>\n",
       "      <td>2</td>\n",
       "      <td>2</td>\n",
       "      <td>0</td>\n",
       "    </tr>\n",
       "    <tr>\n",
       "      <th>3</th>\n",
       "      <td>4</td>\n",
       "      <td>18</td>\n",
       "      <td>4</td>\n",
       "      <td>5.0</td>\n",
       "      <td>4</td>\n",
       "      <td>4</td>\n",
       "      <td>0</td>\n",
       "    </tr>\n",
       "    <tr>\n",
       "      <th>4</th>\n",
       "      <td>5</td>\n",
       "      <td>18</td>\n",
       "      <td>5</td>\n",
       "      <td>2.0</td>\n",
       "      <td>5</td>\n",
       "      <td>5</td>\n",
       "      <td>0</td>\n",
       "    </tr>\n",
       "    <tr>\n",
       "      <th>...</th>\n",
       "      <td>...</td>\n",
       "      <td>...</td>\n",
       "      <td>...</td>\n",
       "      <td>...</td>\n",
       "      <td>...</td>\n",
       "      <td>...</td>\n",
       "      <td>...</td>\n",
       "    </tr>\n",
       "    <tr>\n",
       "      <th>13344</th>\n",
       "      <td>28936</td>\n",
       "      <td>1140</td>\n",
       "      <td>1</td>\n",
       "      <td>566.0</td>\n",
       "      <td>1</td>\n",
       "      <td>1</td>\n",
       "      <td>5</td>\n",
       "    </tr>\n",
       "    <tr>\n",
       "      <th>13354</th>\n",
       "      <td>28946</td>\n",
       "      <td>1141</td>\n",
       "      <td>1</td>\n",
       "      <td>593.0</td>\n",
       "      <td>1</td>\n",
       "      <td>1</td>\n",
       "      <td>5</td>\n",
       "    </tr>\n",
       "    <tr>\n",
       "      <th>13364</th>\n",
       "      <td>28956</td>\n",
       "      <td>1142</td>\n",
       "      <td>1</td>\n",
       "      <td>608.0</td>\n",
       "      <td>1</td>\n",
       "      <td>1</td>\n",
       "      <td>5</td>\n",
       "    </tr>\n",
       "    <tr>\n",
       "      <th>13374</th>\n",
       "      <td>28966</td>\n",
       "      <td>1143</td>\n",
       "      <td>1</td>\n",
       "      <td>640.0</td>\n",
       "      <td>1</td>\n",
       "      <td>1</td>\n",
       "      <td>5</td>\n",
       "    </tr>\n",
       "    <tr>\n",
       "      <th>13384</th>\n",
       "      <td>28976</td>\n",
       "      <td>1144</td>\n",
       "      <td>1</td>\n",
       "      <td>666.0</td>\n",
       "      <td>1</td>\n",
       "      <td>1</td>\n",
       "      <td>6</td>\n",
       "    </tr>\n",
       "  </tbody>\n",
       "</table>\n",
       "<p>1066 rows × 7 columns</p>\n",
       "</div>"
      ],
      "text/plain": [
       "       constructorStandingsId  raceId  constructorId  points  position  \\\n",
       "0                           1      18              1    14.0         1   \n",
       "1                           2      18              2     8.0         3   \n",
       "2                           3      18              3     9.0         2   \n",
       "3                           4      18              4     5.0         4   \n",
       "4                           5      18              5     2.0         5   \n",
       "...                       ...     ...            ...     ...       ...   \n",
       "13344                   28936    1140              1   566.0         1   \n",
       "13354                   28946    1141              1   593.0         1   \n",
       "13364                   28956    1142              1   608.0         1   \n",
       "13374                   28966    1143              1   640.0         1   \n",
       "13384                   28976    1144              1   666.0         1   \n",
       "\n",
       "      positionText  wins  \n",
       "0                1     1  \n",
       "1                3     0  \n",
       "2                2     0  \n",
       "3                4     0  \n",
       "4                5     0  \n",
       "...            ...   ...  \n",
       "13344            1     5  \n",
       "13354            1     5  \n",
       "13364            1     5  \n",
       "13374            1     5  \n",
       "13384            1     6  \n",
       "\n",
       "[1066 rows x 7 columns]"
      ]
     },
     "execution_count": 49,
     "metadata": {},
     "output_type": "execute_result"
    }
   ],
   "source": [
    "# APPLYING  MULTIPLE FILTERS\n",
    "\n",
    "df = pd.read_csv(\"constructor_standings.csv\")\n",
    "\n",
    "df[(df[\"raceId\"]==18) | (df[\"position\"]==1)]     # printing all the columns having raceid equal to 18 OR position equal to 1\n"
   ]
  },
  {
   "cell_type": "code",
   "execution_count": 59,
   "id": "19c9a1fb-136b-421f-baa0-1e2c64662def",
   "metadata": {},
   "outputs": [
    {
     "data": {
      "text/html": [
       "<div>\n",
       "<style scoped>\n",
       "    .dataframe tbody tr th:only-of-type {\n",
       "        vertical-align: middle;\n",
       "    }\n",
       "\n",
       "    .dataframe tbody tr th {\n",
       "        vertical-align: top;\n",
       "    }\n",
       "\n",
       "    .dataframe thead th {\n",
       "        text-align: right;\n",
       "    }\n",
       "</style>\n",
       "<table border=\"1\" class=\"dataframe\">\n",
       "  <thead>\n",
       "    <tr style=\"text-align: right;\">\n",
       "      <th></th>\n",
       "      <th>constructorStandingsId</th>\n",
       "      <th>raceId</th>\n",
       "      <th>constructorId</th>\n",
       "      <th>points</th>\n",
       "      <th>position</th>\n",
       "      <th>positionText</th>\n",
       "      <th>wins</th>\n",
       "    </tr>\n",
       "  </thead>\n",
       "  <tbody>\n",
       "    <tr>\n",
       "      <th>13131</th>\n",
       "      <td>28693</td>\n",
       "      <td>1119</td>\n",
       "      <td>9</td>\n",
       "      <td>822.0</td>\n",
       "      <td>1</td>\n",
       "      <td>1</td>\n",
       "      <td>20</td>\n",
       "    </tr>\n",
       "    <tr>\n",
       "      <th>13141</th>\n",
       "      <td>28703</td>\n",
       "      <td>1120</td>\n",
       "      <td>9</td>\n",
       "      <td>860.0</td>\n",
       "      <td>1</td>\n",
       "      <td>1</td>\n",
       "      <td>21</td>\n",
       "    </tr>\n",
       "  </tbody>\n",
       "</table>\n",
       "</div>"
      ],
      "text/plain": [
       "       constructorStandingsId  raceId  constructorId  points  position  \\\n",
       "13131                   28693    1119              9   822.0         1   \n",
       "13141                   28703    1120              9   860.0         1   \n",
       "\n",
       "      positionText  wins  \n",
       "13131            1    20  \n",
       "13141            1    21  "
      ]
     },
     "execution_count": 59,
     "metadata": {},
     "output_type": "execute_result"
    }
   ],
   "source": [
    "# APPLYING FILTERS\n",
    "\n",
    "df = pd.read_csv(\"constructor_standings.csv\")\n",
    "\n",
    "df[df[\"points\"]> 800]    # printing all the columns have points greater than 800"
   ]
  },
  {
   "cell_type": "code",
   "execution_count": 65,
   "id": "0080829b-17af-4e60-bfba-90bcfcf4f084",
   "metadata": {},
   "outputs": [
    {
     "data": {
      "text/html": [
       "<div>\n",
       "<style scoped>\n",
       "    .dataframe tbody tr th:only-of-type {\n",
       "        vertical-align: middle;\n",
       "    }\n",
       "\n",
       "    .dataframe tbody tr th {\n",
       "        vertical-align: top;\n",
       "    }\n",
       "\n",
       "    .dataframe thead th {\n",
       "        text-align: right;\n",
       "    }\n",
       "</style>\n",
       "<table border=\"1\" class=\"dataframe\">\n",
       "  <thead>\n",
       "    <tr style=\"text-align: right;\">\n",
       "      <th></th>\n",
       "      <th>Name</th>\n",
       "      <th>Age</th>\n",
       "      <th>Country</th>\n",
       "    </tr>\n",
       "  </thead>\n",
       "  <tbody>\n",
       "    <tr>\n",
       "      <th>0</th>\n",
       "      <td>Sadam</td>\n",
       "      <td>30</td>\n",
       "      <td>Iraq</td>\n",
       "    </tr>\n",
       "    <tr>\n",
       "      <th>3</th>\n",
       "      <td>Sairaj</td>\n",
       "      <td>22</td>\n",
       "      <td>Pakistan</td>\n",
       "    </tr>\n",
       "  </tbody>\n",
       "</table>\n",
       "</div>"
      ],
      "text/plain": [
       "     Name  Age   Country\n",
       "0   Sadam   30      Iraq\n",
       "3  Sairaj   22  Pakistan"
      ]
     },
     "execution_count": 65,
     "metadata": {},
     "output_type": "execute_result"
    }
   ],
   "source": [
    "# ADVANCE FILTERING\n",
    "\n",
    "import pandas as pd\n",
    "data = {\n",
    "    'Name': ['Sadam','Afridi','Hussain','Sairaj'],\n",
    "    'Age' : [30,23,33,22],\n",
    "    'Country': ['Iraq','Pakistan','Iran','Pakistan']\n",
    "}\n",
    "\n",
    "df = pd.DataFrame(data)\n",
    "\n",
    "df[df[\"Name\"].str.startswith(\"S\")]   # give me all rows whose name starts with \"s\""
   ]
  },
  {
   "cell_type": "code",
   "execution_count": 67,
   "id": "13d0262c-a7c4-4f7c-adc8-3b7114f9e36c",
   "metadata": {},
   "outputs": [
    {
     "data": {
      "text/html": [
       "<div>\n",
       "<style scoped>\n",
       "    .dataframe tbody tr th:only-of-type {\n",
       "        vertical-align: middle;\n",
       "    }\n",
       "\n",
       "    .dataframe tbody tr th {\n",
       "        vertical-align: top;\n",
       "    }\n",
       "\n",
       "    .dataframe thead th {\n",
       "        text-align: right;\n",
       "    }\n",
       "</style>\n",
       "<table border=\"1\" class=\"dataframe\">\n",
       "  <thead>\n",
       "    <tr style=\"text-align: right;\">\n",
       "      <th></th>\n",
       "      <th>Name</th>\n",
       "      <th>Age</th>\n",
       "      <th>Country</th>\n",
       "    </tr>\n",
       "  </thead>\n",
       "  <tbody>\n",
       "    <tr>\n",
       "      <th>2</th>\n",
       "      <td>Hussain</td>\n",
       "      <td>33</td>\n",
       "      <td>Iran</td>\n",
       "    </tr>\n",
       "  </tbody>\n",
       "</table>\n",
       "</div>"
      ],
      "text/plain": [
       "      Name  Age Country\n",
       "2  Hussain   33    Iran"
      ]
     },
     "execution_count": 67,
     "metadata": {},
     "output_type": "execute_result"
    }
   ],
   "source": [
    "# ADVANCE FILTERING\n",
    "\n",
    "import pandas as pd\n",
    "data = {\n",
    "    'Name': ['Sadam','Afridi','Hussain','Sairaj'],\n",
    "    'Age' : [30,23,33,22],\n",
    "    'Country': ['Iraq','Pakistan','Iran','Pakistan']\n",
    "}\n",
    "\n",
    "df = pd.DataFrame(data)\n",
    "\n",
    "df[df[\"Name\"].str.endswith(\"n\")]   # give me all rows whose name starts with \"n\""
   ]
  },
  {
   "cell_type": "code",
   "execution_count": 83,
   "id": "8ec89425-37c9-4979-b53f-ee575fbe99c4",
   "metadata": {},
   "outputs": [
    {
     "data": {
      "text/html": [
       "<div>\n",
       "<style scoped>\n",
       "    .dataframe tbody tr th:only-of-type {\n",
       "        vertical-align: middle;\n",
       "    }\n",
       "\n",
       "    .dataframe tbody tr th {\n",
       "        vertical-align: top;\n",
       "    }\n",
       "\n",
       "    .dataframe thead th {\n",
       "        text-align: right;\n",
       "    }\n",
       "</style>\n",
       "<table border=\"1\" class=\"dataframe\">\n",
       "  <thead>\n",
       "    <tr style=\"text-align: right;\">\n",
       "      <th></th>\n",
       "      <th>Name</th>\n",
       "      <th>Age</th>\n",
       "      <th>Country</th>\n",
       "    </tr>\n",
       "  </thead>\n",
       "  <tbody>\n",
       "    <tr>\n",
       "      <th>1</th>\n",
       "      <td>Afridi</td>\n",
       "      <td>23</td>\n",
       "      <td>Pakistan</td>\n",
       "    </tr>\n",
       "    <tr>\n",
       "      <th>2</th>\n",
       "      <td>Hussain</td>\n",
       "      <td>33</td>\n",
       "      <td>Iran</td>\n",
       "    </tr>\n",
       "    <tr>\n",
       "      <th>3</th>\n",
       "      <td>Sairaj</td>\n",
       "      <td>22</td>\n",
       "      <td>Pakistan</td>\n",
       "    </tr>\n",
       "  </tbody>\n",
       "</table>\n",
       "</div>"
      ],
      "text/plain": [
       "      Name  Age   Country\n",
       "1   Afridi   23  Pakistan\n",
       "2  Hussain   33      Iran\n",
       "3   Sairaj   22  Pakistan"
      ]
     },
     "execution_count": 83,
     "metadata": {},
     "output_type": "execute_result"
    }
   ],
   "source": [
    "# ADVANCE FILTERING\n",
    "\n",
    "import pandas as pd\n",
    "data = {\n",
    "    'Name': ['Sadam','Afridi','Hussain','Sairaj'],\n",
    "    'Age' : [30,23,33,22],\n",
    "    'Country': ['Iraq','Pakistan','Iran','Pakistan']\n",
    "}\n",
    "\n",
    "df = pd.DataFrame(data)\n",
    "\n",
    "df[df[\"Country\"].isin([\"Pakistan\",\"Iran\"])]   # give me all rows having country pakistan or iran "
   ]
  },
  {
   "cell_type": "code",
   "execution_count": 85,
   "id": "6f58b568-45df-45c2-a97e-42b66ab8dd27",
   "metadata": {},
   "outputs": [
    {
     "data": {
      "text/html": [
       "<div>\n",
       "<style scoped>\n",
       "    .dataframe tbody tr th:only-of-type {\n",
       "        vertical-align: middle;\n",
       "    }\n",
       "\n",
       "    .dataframe tbody tr th {\n",
       "        vertical-align: top;\n",
       "    }\n",
       "\n",
       "    .dataframe thead th {\n",
       "        text-align: right;\n",
       "    }\n",
       "</style>\n",
       "<table border=\"1\" class=\"dataframe\">\n",
       "  <thead>\n",
       "    <tr style=\"text-align: right;\">\n",
       "      <th></th>\n",
       "      <th>Name</th>\n",
       "      <th>Age</th>\n",
       "      <th>Country</th>\n",
       "    </tr>\n",
       "  </thead>\n",
       "  <tbody>\n",
       "    <tr>\n",
       "      <th>0</th>\n",
       "      <td>Sadam</td>\n",
       "      <td>30</td>\n",
       "      <td>Iraq</td>\n",
       "    </tr>\n",
       "  </tbody>\n",
       "</table>\n",
       "</div>"
      ],
      "text/plain": [
       "    Name  Age Country\n",
       "0  Sadam   30    Iraq"
      ]
     },
     "execution_count": 85,
     "metadata": {},
     "output_type": "execute_result"
    }
   ],
   "source": [
    "# ADVANCE FILTERING\n",
    "\n",
    "import pandas as pd\n",
    "data = {\n",
    "    'Name': ['Sadam','Afridi','Hussain','Sairaj'],\n",
    "    'Age' : [30,23,33,22],\n",
    "    'Country': ['Iraq','Pakistan','Iran','Pakistan']\n",
    "}\n",
    "\n",
    "df = pd.DataFrame(data)\n",
    "\n",
    "df[~df[\"Country\"].isin([\"Pakistan\",\"Iran\"])]   # give me all rows not having country pakistan or iran (~) not operator"
   ]
  },
  {
   "cell_type": "code",
   "execution_count": 87,
   "id": "2a21dcbe-dfdd-4953-bb21-a620ebf65abd",
   "metadata": {},
   "outputs": [
    {
     "data": {
      "text/html": [
       "<div>\n",
       "<style scoped>\n",
       "    .dataframe tbody tr th:only-of-type {\n",
       "        vertical-align: middle;\n",
       "    }\n",
       "\n",
       "    .dataframe tbody tr th {\n",
       "        vertical-align: top;\n",
       "    }\n",
       "\n",
       "    .dataframe thead th {\n",
       "        text-align: right;\n",
       "    }\n",
       "</style>\n",
       "<table border=\"1\" class=\"dataframe\">\n",
       "  <thead>\n",
       "    <tr style=\"text-align: right;\">\n",
       "      <th></th>\n",
       "      <th>Name</th>\n",
       "      <th>Age</th>\n",
       "      <th>Country</th>\n",
       "    </tr>\n",
       "  </thead>\n",
       "  <tbody>\n",
       "    <tr>\n",
       "      <th>1</th>\n",
       "      <td>Afridi</td>\n",
       "      <td>23</td>\n",
       "      <td>Pakistan</td>\n",
       "    </tr>\n",
       "    <tr>\n",
       "      <th>3</th>\n",
       "      <td>Sairaj</td>\n",
       "      <td>22</td>\n",
       "      <td>Pakistan</td>\n",
       "    </tr>\n",
       "  </tbody>\n",
       "</table>\n",
       "</div>"
      ],
      "text/plain": [
       "     Name  Age   Country\n",
       "1  Afridi   23  Pakistan\n",
       "3  Sairaj   22  Pakistan"
      ]
     },
     "execution_count": 87,
     "metadata": {},
     "output_type": "execute_result"
    }
   ],
   "source": [
    "# UPDATING DATA\n",
    "\n",
    "import pandas as pd\n",
    "data = {\n",
    "    'Name': ['Sadam','Afridi','Hussain','Sairaj'],\n",
    "    'Age' : [30,23,33,22],\n",
    "    'Country': ['Iraq','Pakistan','Iran','Pakistan']\n",
    "}\n",
    "\n",
    "df = pd.DataFrame(data)\n",
    "\n",
    "df.loc[df[\"Country\"] == \"Pakistan\"]  # locate the row where country is pakistan"
   ]
  },
  {
   "cell_type": "code",
   "execution_count": 97,
   "id": "dca0b9bf-a2ca-42f2-b6ee-c9f61dd15e03",
   "metadata": {},
   "outputs": [
    {
     "data": {
      "text/html": [
       "<div>\n",
       "<style scoped>\n",
       "    .dataframe tbody tr th:only-of-type {\n",
       "        vertical-align: middle;\n",
       "    }\n",
       "\n",
       "    .dataframe tbody tr th {\n",
       "        vertical-align: top;\n",
       "    }\n",
       "\n",
       "    .dataframe thead th {\n",
       "        text-align: right;\n",
       "    }\n",
       "</style>\n",
       "<table border=\"1\" class=\"dataframe\">\n",
       "  <thead>\n",
       "    <tr style=\"text-align: right;\">\n",
       "      <th></th>\n",
       "      <th>Name</th>\n",
       "      <th>Age</th>\n",
       "      <th>Country</th>\n",
       "    </tr>\n",
       "  </thead>\n",
       "  <tbody>\n",
       "    <tr>\n",
       "      <th>0</th>\n",
       "      <td>Sadam Hussain</td>\n",
       "      <td>30</td>\n",
       "      <td>Iraq</td>\n",
       "    </tr>\n",
       "  </tbody>\n",
       "</table>\n",
       "</div>"
      ],
      "text/plain": [
       "            Name  Age Country\n",
       "0  Sadam Hussain   30    Iraq"
      ]
     },
     "execution_count": 97,
     "metadata": {},
     "output_type": "execute_result"
    }
   ],
   "source": [
    "# UPDATING DATA\n",
    "\n",
    "import pandas as pd\n",
    "data = {\n",
    "    'Name': ['Sadam','Afridi','Hussain','Sairaj'],\n",
    "    'Age' : [30,23,33,22],\n",
    "    'Country': ['Iraq','Pakistan','Iran','Pakistan']\n",
    "}\n",
    "\n",
    "df = pd.DataFrame(data)\n",
    "\n",
    "df.loc[df[\"Country\" ] == \"Iraq\" , \"Name\"] = \"Sadam Hussain\"   # locate the row where country is iran and update name to sadam hussain \n",
    "\n",
    "df.loc[df[\"Country\"] == \"Iraq\"] "
   ]
  },
  {
   "cell_type": "code",
   "execution_count": 101,
   "id": "e90459d6-d96b-40d6-8251-62500f90fbee",
   "metadata": {},
   "outputs": [
    {
     "data": {
      "text/html": [
       "<div>\n",
       "<style scoped>\n",
       "    .dataframe tbody tr th:only-of-type {\n",
       "        vertical-align: middle;\n",
       "    }\n",
       "\n",
       "    .dataframe tbody tr th {\n",
       "        vertical-align: top;\n",
       "    }\n",
       "\n",
       "    .dataframe thead th {\n",
       "        text-align: right;\n",
       "    }\n",
       "</style>\n",
       "<table border=\"1\" class=\"dataframe\">\n",
       "  <thead>\n",
       "    <tr style=\"text-align: right;\">\n",
       "      <th></th>\n",
       "      <th>Name</th>\n",
       "      <th>Age</th>\n",
       "      <th>Country</th>\n",
       "    </tr>\n",
       "  </thead>\n",
       "  <tbody>\n",
       "    <tr>\n",
       "      <th>1</th>\n",
       "      <td>Afridi</td>\n",
       "      <td>23</td>\n",
       "      <td>United Pakistan</td>\n",
       "    </tr>\n",
       "    <tr>\n",
       "      <th>3</th>\n",
       "      <td>Sairaj</td>\n",
       "      <td>22</td>\n",
       "      <td>United Pakistan</td>\n",
       "    </tr>\n",
       "  </tbody>\n",
       "</table>\n",
       "</div>"
      ],
      "text/plain": [
       "     Name  Age          Country\n",
       "1  Afridi   23  United Pakistan\n",
       "3  Sairaj   22  United Pakistan"
      ]
     },
     "execution_count": 101,
     "metadata": {},
     "output_type": "execute_result"
    }
   ],
   "source": [
    "import pandas as pd\n",
    "data = {\n",
    "    'Name': ['Sadam','Afridi','Hussain','Sairaj'],\n",
    "    'Age' : [30,23,33,22],\n",
    "    'Country': ['Iraq','Pakistan','Iran','Pakistan']\n",
    "}\n",
    "\n",
    "df = pd.DataFrame(data)\n",
    "\n",
    "df.loc[df[\"Country\" ] == \"Pakistan\" , \"Country\"] = \"United Pakistan\"   # locate the row where country is pakistan and update it to united pakistan \n",
    "\n",
    "df.loc[df[\"Country\"] == \"United Pakistan\"] "
   ]
  },
  {
   "cell_type": "code",
   "execution_count": 105,
   "id": "05ad7065-bdc7-455e-b94c-226cdae76dbe",
   "metadata": {},
   "outputs": [
    {
     "data": {
      "text/html": [
       "<div>\n",
       "<style scoped>\n",
       "    .dataframe tbody tr th:only-of-type {\n",
       "        vertical-align: middle;\n",
       "    }\n",
       "\n",
       "    .dataframe tbody tr th {\n",
       "        vertical-align: top;\n",
       "    }\n",
       "\n",
       "    .dataframe thead th {\n",
       "        text-align: right;\n",
       "    }\n",
       "</style>\n",
       "<table border=\"1\" class=\"dataframe\">\n",
       "  <thead>\n",
       "    <tr style=\"text-align: right;\">\n",
       "      <th></th>\n",
       "      <th>Name</th>\n",
       "      <th>Age</th>\n",
       "      <th>Country</th>\n",
       "    </tr>\n",
       "  </thead>\n",
       "  <tbody>\n",
       "    <tr>\n",
       "      <th>0</th>\n",
       "      <td>Sadam</td>\n",
       "      <td>30</td>\n",
       "      <td>IRAQ</td>\n",
       "    </tr>\n",
       "    <tr>\n",
       "      <th>1</th>\n",
       "      <td>Afridi</td>\n",
       "      <td>23</td>\n",
       "      <td>PAKISTAN</td>\n",
       "    </tr>\n",
       "    <tr>\n",
       "      <th>2</th>\n",
       "      <td>Hussain</td>\n",
       "      <td>33</td>\n",
       "      <td>IRAN</td>\n",
       "    </tr>\n",
       "    <tr>\n",
       "      <th>3</th>\n",
       "      <td>Sairaj</td>\n",
       "      <td>22</td>\n",
       "      <td>PAKISTAN</td>\n",
       "    </tr>\n",
       "  </tbody>\n",
       "</table>\n",
       "</div>"
      ],
      "text/plain": [
       "      Name  Age   Country\n",
       "0    Sadam   30      IRAQ\n",
       "1   Afridi   23  PAKISTAN\n",
       "2  Hussain   33      IRAN\n",
       "3   Sairaj   22  PAKISTAN"
      ]
     },
     "execution_count": 105,
     "metadata": {},
     "output_type": "execute_result"
    }
   ],
   "source": [
    "import pandas as pd\n",
    "data = {\n",
    "    'Name': ['Sadam','Afridi','Hussain','Sairaj'],\n",
    "    'Age' : [30,23,33,22],\n",
    "    'Country': ['Iraq','Pakistan','Iran','Pakistan']\n",
    "}\n",
    "\n",
    "df = pd.DataFrame(data)\n",
    "\n",
    "df[\"Country\"] = df[\"Country\"].str.upper()  # upper case countries \n",
    "\n",
    "df.head()"
   ]
  },
  {
   "cell_type": "code",
   "execution_count": 111,
   "id": "f6cf8c45-5327-4f4e-8e5c-057fa3125b65",
   "metadata": {},
   "outputs": [
    {
     "data": {
      "text/html": [
       "<div>\n",
       "<style scoped>\n",
       "    .dataframe tbody tr th:only-of-type {\n",
       "        vertical-align: middle;\n",
       "    }\n",
       "\n",
       "    .dataframe tbody tr th {\n",
       "        vertical-align: top;\n",
       "    }\n",
       "\n",
       "    .dataframe thead th {\n",
       "        text-align: right;\n",
       "    }\n",
       "</style>\n",
       "<table border=\"1\" class=\"dataframe\">\n",
       "  <thead>\n",
       "    <tr style=\"text-align: right;\">\n",
       "      <th></th>\n",
       "      <th>Name</th>\n",
       "      <th>Age</th>\n",
       "      <th>Country</th>\n",
       "    </tr>\n",
       "  </thead>\n",
       "  <tbody>\n",
       "    <tr>\n",
       "      <th>0</th>\n",
       "      <td>sadam</td>\n",
       "      <td>30</td>\n",
       "      <td>Iraq</td>\n",
       "    </tr>\n",
       "    <tr>\n",
       "      <th>1</th>\n",
       "      <td>afridi</td>\n",
       "      <td>23</td>\n",
       "      <td>Pakistan</td>\n",
       "    </tr>\n",
       "    <tr>\n",
       "      <th>2</th>\n",
       "      <td>hussain</td>\n",
       "      <td>33</td>\n",
       "      <td>Iran</td>\n",
       "    </tr>\n",
       "    <tr>\n",
       "      <th>3</th>\n",
       "      <td>sairaj</td>\n",
       "      <td>22</td>\n",
       "      <td>Pakistan</td>\n",
       "    </tr>\n",
       "  </tbody>\n",
       "</table>\n",
       "</div>"
      ],
      "text/plain": [
       "      Name  Age   Country\n",
       "0    sadam   30      Iraq\n",
       "1   afridi   23  Pakistan\n",
       "2  hussain   33      Iran\n",
       "3   sairaj   22  Pakistan"
      ]
     },
     "execution_count": 111,
     "metadata": {},
     "output_type": "execute_result"
    }
   ],
   "source": [
    "import pandas as pd\n",
    "data = {\n",
    "    'Name': ['Sadam','Afridi','Hussain','Sairaj'],\n",
    "    'Age' : [30,23,33,22],\n",
    "    'Country': ['Iraq','Pakistan','Iran','Pakistan']\n",
    "}\n",
    "\n",
    "df = pd.DataFrame(data)\n",
    "\n",
    "df[\"Name\"] = df[\"Name\"].str.lower()   # lower case names \n",
    "\n",
    "df.head()"
   ]
  },
  {
   "cell_type": "code",
   "execution_count": 119,
   "id": "ac40a9a5-4186-40a2-b0c3-c911f7ba2615",
   "metadata": {},
   "outputs": [
    {
     "data": {
      "text/html": [
       "<div>\n",
       "<style scoped>\n",
       "    .dataframe tbody tr th:only-of-type {\n",
       "        vertical-align: middle;\n",
       "    }\n",
       "\n",
       "    .dataframe tbody tr th {\n",
       "        vertical-align: top;\n",
       "    }\n",
       "\n",
       "    .dataframe thead th {\n",
       "        text-align: right;\n",
       "    }\n",
       "</style>\n",
       "<table border=\"1\" class=\"dataframe\">\n",
       "  <thead>\n",
       "    <tr style=\"text-align: right;\">\n",
       "      <th></th>\n",
       "      <th>Name</th>\n",
       "      <th>Age</th>\n",
       "      <th>Country</th>\n",
       "    </tr>\n",
       "  </thead>\n",
       "  <tbody>\n",
       "    <tr>\n",
       "      <th>0</th>\n",
       "      <td>Sadam</td>\n",
       "      <td>30</td>\n",
       "      <td>Iraq</td>\n",
       "    </tr>\n",
       "    <tr>\n",
       "      <th>1</th>\n",
       "      <td>Afridi</td>\n",
       "      <td>23</td>\n",
       "      <td>Pakistan</td>\n",
       "    </tr>\n",
       "    <tr>\n",
       "      <th>3</th>\n",
       "      <td>Sairaj</td>\n",
       "      <td>22</td>\n",
       "      <td>Pakistan</td>\n",
       "    </tr>\n",
       "  </tbody>\n",
       "</table>\n",
       "</div>"
      ],
      "text/plain": [
       "     Name  Age   Country\n",
       "0   Sadam   30      Iraq\n",
       "1  Afridi   23  Pakistan\n",
       "3  Sairaj   22  Pakistan"
      ]
     },
     "execution_count": 119,
     "metadata": {},
     "output_type": "execute_result"
    }
   ],
   "source": [
    "# DELETING DATA\n",
    "\n",
    "import pandas as pd\n",
    "data = {\n",
    "    'Name': ['Sadam','Afridi','Hussain','Sairaj'],\n",
    "    'Age' : [30,23,33,22],\n",
    "    'Country': ['Iraq','Pakistan','Iran','Pakistan']\n",
    "}\n",
    "df = pd.DataFrame(data)\n",
    "df=df.drop(2)   # dropping row 2 (3rd)\n",
    "\n",
    "df.head()\n"
   ]
  },
  {
   "cell_type": "code",
   "execution_count": 121,
   "id": "744d1e7e-d599-43b0-ab82-37863b8c3a32",
   "metadata": {},
   "outputs": [
    {
     "data": {
      "text/html": [
       "<div>\n",
       "<style scoped>\n",
       "    .dataframe tbody tr th:only-of-type {\n",
       "        vertical-align: middle;\n",
       "    }\n",
       "\n",
       "    .dataframe tbody tr th {\n",
       "        vertical-align: top;\n",
       "    }\n",
       "\n",
       "    .dataframe thead th {\n",
       "        text-align: right;\n",
       "    }\n",
       "</style>\n",
       "<table border=\"1\" class=\"dataframe\">\n",
       "  <thead>\n",
       "    <tr style=\"text-align: right;\">\n",
       "      <th></th>\n",
       "      <th>Name</th>\n",
       "      <th>Age</th>\n",
       "      <th>Country</th>\n",
       "    </tr>\n",
       "  </thead>\n",
       "  <tbody>\n",
       "    <tr>\n",
       "      <th>0</th>\n",
       "      <td>Sadam</td>\n",
       "      <td>30</td>\n",
       "      <td>Iraq</td>\n",
       "    </tr>\n",
       "    <tr>\n",
       "      <th>1</th>\n",
       "      <td>Afridi</td>\n",
       "      <td>23</td>\n",
       "      <td>Pakistan</td>\n",
       "    </tr>\n",
       "    <tr>\n",
       "      <th>2</th>\n",
       "      <td>Hussain</td>\n",
       "      <td>33</td>\n",
       "      <td>Iran</td>\n",
       "    </tr>\n",
       "    <tr>\n",
       "      <th>3</th>\n",
       "      <td>Sairaj</td>\n",
       "      <td>22</td>\n",
       "      <td>Pakistan</td>\n",
       "    </tr>\n",
       "    <tr>\n",
       "      <th>4</th>\n",
       "      <td>jan</td>\n",
       "      <td>0</td>\n",
       "      <td></td>\n",
       "    </tr>\n",
       "  </tbody>\n",
       "</table>\n",
       "</div>"
      ],
      "text/plain": [
       "      Name  Age   Country\n",
       "0    Sadam   30      Iraq\n",
       "1   Afridi   23  Pakistan\n",
       "2  Hussain   33      Iran\n",
       "3   Sairaj   22  Pakistan\n",
       "4      jan    0          "
      ]
     },
     "execution_count": 121,
     "metadata": {},
     "output_type": "execute_result"
    }
   ],
   "source": [
    "# CLEANING DATA\n",
    "\n",
    "import pandas as pd\n",
    "data = {\n",
    "    'Name': ['Sadam','Afridi','Hussain','Sairaj','jan'],\n",
    "    'Age' : [30,23,33,22,0],\n",
    "    'Country': ['Iraq','Pakistan','Iran','Pakistan','']\n",
    "}\n",
    "df = pd.DataFrame(data)\n",
    "df.head()\n"
   ]
  },
  {
   "cell_type": "code",
   "execution_count": 159,
   "id": "97f04fff-0982-4817-ac0e-4193fe6da616",
   "metadata": {},
   "outputs": [
    {
     "data": {
      "text/html": [
       "<div>\n",
       "<style scoped>\n",
       "    .dataframe tbody tr th:only-of-type {\n",
       "        vertical-align: middle;\n",
       "    }\n",
       "\n",
       "    .dataframe tbody tr th {\n",
       "        vertical-align: top;\n",
       "    }\n",
       "\n",
       "    .dataframe thead th {\n",
       "        text-align: right;\n",
       "    }\n",
       "</style>\n",
       "<table border=\"1\" class=\"dataframe\">\n",
       "  <thead>\n",
       "    <tr style=\"text-align: right;\">\n",
       "      <th></th>\n",
       "      <th>Name</th>\n",
       "      <th>Age</th>\n",
       "      <th>Country</th>\n",
       "    </tr>\n",
       "  </thead>\n",
       "  <tbody>\n",
       "    <tr>\n",
       "      <th>0</th>\n",
       "      <td>Sadam</td>\n",
       "      <td>30.0</td>\n",
       "      <td>Iraq</td>\n",
       "    </tr>\n",
       "    <tr>\n",
       "      <th>1</th>\n",
       "      <td>Afridi</td>\n",
       "      <td>23.0</td>\n",
       "      <td>Pakistan</td>\n",
       "    </tr>\n",
       "    <tr>\n",
       "      <th>2</th>\n",
       "      <td>Hussain</td>\n",
       "      <td>33.0</td>\n",
       "      <td>Iran</td>\n",
       "    </tr>\n",
       "    <tr>\n",
       "      <th>3</th>\n",
       "      <td>Sairaj</td>\n",
       "      <td>22.0</td>\n",
       "      <td>Pakistan</td>\n",
       "    </tr>\n",
       "  </tbody>\n",
       "</table>\n",
       "</div>"
      ],
      "text/plain": [
       "      Name   Age   Country\n",
       "0    Sadam  30.0      Iraq\n",
       "1   Afridi  23.0  Pakistan\n",
       "2  Hussain  33.0      Iran\n",
       "3   Sairaj  22.0  Pakistan"
      ]
     },
     "execution_count": 159,
     "metadata": {},
     "output_type": "execute_result"
    }
   ],
   "source": [
    "# CLEANING DATA\n",
    "import numpy as np\n",
    "import pandas as pd\n",
    "data = {\n",
    "    'Name': ['Sadam','Afridi','Hussain','Sairaj','jan'],\n",
    "    'Age' : [30,23,33,22,np.nan],\n",
    "    'Country': ['Iraq','Pakistan','Iran','Pakistan','']\n",
    "}\n",
    "df = pd.DataFrame(data)\n",
    "df.dropna()    # dropping rows having empty cells or NaN"
   ]
  },
  {
   "cell_type": "code",
   "execution_count": 169,
   "id": "103ac52a-dd07-42db-bf4d-3ceac277fcf5",
   "metadata": {},
   "outputs": [
    {
     "data": {
      "text/html": [
       "<div>\n",
       "<style scoped>\n",
       "    .dataframe tbody tr th:only-of-type {\n",
       "        vertical-align: middle;\n",
       "    }\n",
       "\n",
       "    .dataframe tbody tr th {\n",
       "        vertical-align: top;\n",
       "    }\n",
       "\n",
       "    .dataframe thead th {\n",
       "        text-align: right;\n",
       "    }\n",
       "</style>\n",
       "<table border=\"1\" class=\"dataframe\">\n",
       "  <thead>\n",
       "    <tr style=\"text-align: right;\">\n",
       "      <th></th>\n",
       "      <th>Name</th>\n",
       "      <th>Age</th>\n",
       "      <th>Country</th>\n",
       "    </tr>\n",
       "  </thead>\n",
       "  <tbody>\n",
       "    <tr>\n",
       "      <th>0</th>\n",
       "      <td>Sadam</td>\n",
       "      <td>30</td>\n",
       "      <td>Iraq</td>\n",
       "    </tr>\n",
       "    <tr>\n",
       "      <th>1</th>\n",
       "      <td>Afridi</td>\n",
       "      <td>23</td>\n",
       "      <td>Pakistan</td>\n",
       "    </tr>\n",
       "    <tr>\n",
       "      <th>2</th>\n",
       "      <td>Hussain</td>\n",
       "      <td>33</td>\n",
       "      <td>Iran</td>\n",
       "    </tr>\n",
       "    <tr>\n",
       "      <th>3</th>\n",
       "      <td>Sairaj</td>\n",
       "      <td>22</td>\n",
       "      <td>Pakistan</td>\n",
       "    </tr>\n",
       "    <tr>\n",
       "      <th>4</th>\n",
       "      <td>jan</td>\n",
       "      <td>0</td>\n",
       "      <td></td>\n",
       "    </tr>\n",
       "  </tbody>\n",
       "</table>\n",
       "</div>"
      ],
      "text/plain": [
       "      Name  Age   Country\n",
       "0    Sadam   30      Iraq\n",
       "1   Afridi   23  Pakistan\n",
       "2  Hussain   33      Iran\n",
       "3   Sairaj   22  Pakistan\n",
       "4      jan    0          "
      ]
     },
     "execution_count": 169,
     "metadata": {},
     "output_type": "execute_result"
    }
   ],
   "source": [
    "# CLEANING DATA\n",
    "\n",
    "import pandas as pd\n",
    "data = {\n",
    "    'Name': ['Sadam','Afridi','Hussain','Sairaj','jan'],\n",
    "    'Age' : [30,23,33,22,np.nan],\n",
    "    'Country': ['Iraq','Pakistan','Iran','Pakistan','']\n",
    "}\n",
    "df.fillna(0, inplace=True)    # filling nat a number by 0\n",
    "df.head()"
   ]
  },
  {
   "cell_type": "code",
   "execution_count": 171,
   "id": "13c05afd-1420-42d2-9342-c44d54fcf077",
   "metadata": {},
   "outputs": [
    {
     "data": {
      "text/html": [
       "<div>\n",
       "<style scoped>\n",
       "    .dataframe tbody tr th:only-of-type {\n",
       "        vertical-align: middle;\n",
       "    }\n",
       "\n",
       "    .dataframe tbody tr th {\n",
       "        vertical-align: top;\n",
       "    }\n",
       "\n",
       "    .dataframe thead th {\n",
       "        text-align: right;\n",
       "    }\n",
       "</style>\n",
       "<table border=\"1\" class=\"dataframe\">\n",
       "  <thead>\n",
       "    <tr style=\"text-align: right;\">\n",
       "      <th></th>\n",
       "      <th>Full_Name</th>\n",
       "      <th>Age</th>\n",
       "      <th>Your_Country</th>\n",
       "    </tr>\n",
       "  </thead>\n",
       "  <tbody>\n",
       "    <tr>\n",
       "      <th>0</th>\n",
       "      <td>Sadam</td>\n",
       "      <td>30</td>\n",
       "      <td>Iraq</td>\n",
       "    </tr>\n",
       "    <tr>\n",
       "      <th>1</th>\n",
       "      <td>Afridi</td>\n",
       "      <td>23</td>\n",
       "      <td>Pakistan</td>\n",
       "    </tr>\n",
       "    <tr>\n",
       "      <th>2</th>\n",
       "      <td>Hussain</td>\n",
       "      <td>33</td>\n",
       "      <td>Iran</td>\n",
       "    </tr>\n",
       "    <tr>\n",
       "      <th>3</th>\n",
       "      <td>Sairaj</td>\n",
       "      <td>22</td>\n",
       "      <td>Pakistan</td>\n",
       "    </tr>\n",
       "    <tr>\n",
       "      <th>4</th>\n",
       "      <td>jan</td>\n",
       "      <td>0</td>\n",
       "      <td></td>\n",
       "    </tr>\n",
       "  </tbody>\n",
       "</table>\n",
       "</div>"
      ],
      "text/plain": [
       "  Full_Name  Age Your_Country\n",
       "0     Sadam   30         Iraq\n",
       "1    Afridi   23     Pakistan\n",
       "2   Hussain   33         Iran\n",
       "3    Sairaj   22     Pakistan\n",
       "4       jan    0             "
      ]
     },
     "execution_count": 171,
     "metadata": {},
     "output_type": "execute_result"
    }
   ],
   "source": [
    "# RENAMING COLUMNS\n",
    "import pandas as pd\n",
    "data = {\n",
    "    'Name': ['Sadam','Afridi','Hussain','Sairaj','jan'],\n",
    "    'Age' : [30,23,33,22,0],\n",
    "    'Country': ['Iraq','Pakistan','Iran','Pakistan','']\n",
    "}\n",
    "df = pd.DataFrame(data)\n",
    "df.rename(columns={'Name': 'Full_Name', 'Country': 'Your_Country'}, inplace=True)\n",
    "df.head()"
   ]
  },
  {
   "cell_type": "code",
   "execution_count": 23,
   "id": "917e2c58-2b98-46ba-9d66-2a9d2b241c2b",
   "metadata": {},
   "outputs": [
    {
     "data": {
      "text/plain": [
       "Age\n",
       "30    2\n",
       "23    1\n",
       "33    1\n",
       "22    1\n",
       "Name: count, dtype: int64"
      ]
     },
     "execution_count": 23,
     "metadata": {},
     "output_type": "execute_result"
    }
   ],
   "source": [
    "# ANALYZING DATA\n",
    "import pandas as pd\n",
    "data = {\n",
    "    'Name': ['Sadam','Afridi','Hussain','Sairaj','jan'],\n",
    "    'Age' : [30,23,33,22,30],\n",
    "    'Country': ['Iraq','Pakistan','Iran','Pakistan','']\n",
    "}\n",
    "df = pd.DataFrame(data)\n",
    "\n",
    "df[\"Age\"].value_counts()"
   ]
  },
  {
   "cell_type": "code",
   "execution_count": 25,
   "id": "6dc1ed8d-4bcc-4398-b253-fc3affd6f57c",
   "metadata": {},
   "outputs": [
    {
     "data": {
      "text/plain": [
       "array([30, 23, 33, 22], dtype=int64)"
      ]
     },
     "execution_count": 25,
     "metadata": {},
     "output_type": "execute_result"
    }
   ],
   "source": [
    "df[\"Age\"].unique()"
   ]
  },
  {
   "cell_type": "code",
   "execution_count": 27,
   "id": "452033c1-dcd2-467a-adcf-d84c7787da4b",
   "metadata": {},
   "outputs": [
    {
     "data": {
      "text/plain": [
       "4"
      ]
     },
     "execution_count": 27,
     "metadata": {},
     "output_type": "execute_result"
    }
   ],
   "source": [
    "df[\"Age\"].nunique()"
   ]
  },
  {
   "cell_type": "code",
   "execution_count": 29,
   "id": "8e3b14c1-b0fe-4793-b65d-20137da14a85",
   "metadata": {},
   "outputs": [
    {
     "data": {
      "text/plain": [
       "5"
      ]
     },
     "execution_count": 29,
     "metadata": {},
     "output_type": "execute_result"
    }
   ],
   "source": [
    "df[\"Age\"].count()"
   ]
  },
  {
   "cell_type": "code",
   "execution_count": 31,
   "id": "b692e953-f327-43ee-9e25-0cb0529dffd4",
   "metadata": {},
   "outputs": [
    {
     "data": {
      "text/plain": [
       "27.6"
      ]
     },
     "execution_count": 31,
     "metadata": {},
     "output_type": "execute_result"
    }
   ],
   "source": [
    "df[\"Age\"].mean()"
   ]
  },
  {
   "cell_type": "code",
   "execution_count": 33,
   "id": "ff0567fc-c7d0-4111-b080-0ecc26764c1c",
   "metadata": {},
   "outputs": [
    {
     "data": {
      "text/plain": [
       "30.0"
      ]
     },
     "execution_count": 33,
     "metadata": {},
     "output_type": "execute_result"
    }
   ],
   "source": [
    "df[\"Age\"].median()"
   ]
  },
  {
   "cell_type": "code",
   "execution_count": 35,
   "id": "8415660f-1b54-42c0-9ca4-3b0124d968a1",
   "metadata": {},
   "outputs": [
    {
     "data": {
      "text/plain": [
       "0    30\n",
       "Name: Age, dtype: int64"
      ]
     },
     "execution_count": 35,
     "metadata": {},
     "output_type": "execute_result"
    }
   ],
   "source": [
    "df[\"Age\"].mode()"
   ]
  },
  {
   "cell_type": "code",
   "execution_count": 37,
   "id": "42e27d75-b3ac-455f-b3b1-fb34ac19d846",
   "metadata": {},
   "outputs": [
    {
     "data": {
      "text/plain": [
       "4.8270073544588685"
      ]
     },
     "execution_count": 37,
     "metadata": {},
     "output_type": "execute_result"
    }
   ],
   "source": [
    "df[\"Age\"].std()"
   ]
  },
  {
   "cell_type": "code",
   "execution_count": 39,
   "id": "b737d8dd-bd62-4621-b98d-34b35cd053ba",
   "metadata": {},
   "outputs": [
    {
     "data": {
      "text/plain": [
       "23.3"
      ]
     },
     "execution_count": 39,
     "metadata": {},
     "output_type": "execute_result"
    }
   ],
   "source": [
    "df[\"Age\"].var()"
   ]
  },
  {
   "cell_type": "code",
   "execution_count": 41,
   "id": "f9cbc35a-affc-4075-bcb9-f0c4a0903fb3",
   "metadata": {},
   "outputs": [
    {
     "data": {
      "text/plain": [
       "22"
      ]
     },
     "execution_count": 41,
     "metadata": {},
     "output_type": "execute_result"
    }
   ],
   "source": [
    "df[\"Age\"].min()"
   ]
  },
  {
   "cell_type": "code",
   "execution_count": 43,
   "id": "986a17d5-6db0-45b9-9819-868a46cbe12b",
   "metadata": {},
   "outputs": [
    {
     "data": {
      "text/plain": [
       "33"
      ]
     },
     "execution_count": 43,
     "metadata": {},
     "output_type": "execute_result"
    }
   ],
   "source": [
    "df[\"Age\"].max()"
   ]
  },
  {
   "cell_type": "code",
   "execution_count": 45,
   "id": "bb12b8ff-9580-46ab-a551-1cc734ad347a",
   "metadata": {},
   "outputs": [
    {
     "data": {
      "text/plain": [
       "Country\n",
       "            30\n",
       "Iran        33\n",
       "Iraq        30\n",
       "Pakistan    45\n",
       "Name: Age, dtype: int64"
      ]
     },
     "execution_count": 45,
     "metadata": {},
     "output_type": "execute_result"
    }
   ],
   "source": [
    "df.groupby(\"Country\")[\"Age\"].sum()   "
   ]
  },
  {
   "cell_type": "code",
   "execution_count": 53,
   "id": "b8b9a780-d0d6-460e-8996-a58dc038977f",
   "metadata": {},
   "outputs": [
    {
     "data": {
      "text/html": [
       "<div>\n",
       "<style scoped>\n",
       "    .dataframe tbody tr th:only-of-type {\n",
       "        vertical-align: middle;\n",
       "    }\n",
       "\n",
       "    .dataframe tbody tr th {\n",
       "        vertical-align: top;\n",
       "    }\n",
       "\n",
       "    .dataframe thead th {\n",
       "        text-align: right;\n",
       "    }\n",
       "</style>\n",
       "<table border=\"1\" class=\"dataframe\">\n",
       "  <thead>\n",
       "    <tr style=\"text-align: right;\">\n",
       "      <th></th>\n",
       "      <th>Name</th>\n",
       "      <th>Age</th>\n",
       "      <th>Country</th>\n",
       "    </tr>\n",
       "  </thead>\n",
       "  <tbody>\n",
       "    <tr>\n",
       "      <th>3</th>\n",
       "      <td>Sairaj</td>\n",
       "      <td>22</td>\n",
       "      <td>Pakistan</td>\n",
       "    </tr>\n",
       "    <tr>\n",
       "      <th>1</th>\n",
       "      <td>Afridi</td>\n",
       "      <td>23</td>\n",
       "      <td>Pakistan</td>\n",
       "    </tr>\n",
       "    <tr>\n",
       "      <th>0</th>\n",
       "      <td>Sadam</td>\n",
       "      <td>30</td>\n",
       "      <td>Iraq</td>\n",
       "    </tr>\n",
       "    <tr>\n",
       "      <th>4</th>\n",
       "      <td>jan</td>\n",
       "      <td>30</td>\n",
       "      <td></td>\n",
       "    </tr>\n",
       "    <tr>\n",
       "      <th>2</th>\n",
       "      <td>Hussain</td>\n",
       "      <td>33</td>\n",
       "      <td>Iran</td>\n",
       "    </tr>\n",
       "  </tbody>\n",
       "</table>\n",
       "</div>"
      ],
      "text/plain": [
       "      Name  Age   Country\n",
       "3   Sairaj   22  Pakistan\n",
       "1   Afridi   23  Pakistan\n",
       "0    Sadam   30      Iraq\n",
       "4      jan   30          \n",
       "2  Hussain   33      Iran"
      ]
     },
     "execution_count": 53,
     "metadata": {},
     "output_type": "execute_result"
    }
   ],
   "source": [
    "df.sort_values(\"Age\", ascending=True)"
   ]
  },
  {
   "cell_type": "code",
   "execution_count": 55,
   "id": "ccfc59cc-f42f-4e9d-9832-7913659865d8",
   "metadata": {},
   "outputs": [],
   "source": [
    "df.to_csv(\"new_file.csv\" , index=True)"
   ]
  },
  {
   "cell_type": "code",
   "execution_count": null,
   "id": "12b5c80b-1976-4d9d-aac8-97e3211144d9",
   "metadata": {},
   "outputs": [],
   "source": []
  }
 ],
 "metadata": {
  "kernelspec": {
   "display_name": "Python [conda env:base] *",
   "language": "python",
   "name": "conda-base-py"
  },
  "language_info": {
   "codemirror_mode": {
    "name": "ipython",
    "version": 3
   },
   "file_extension": ".py",
   "mimetype": "text/x-python",
   "name": "python",
   "nbconvert_exporter": "python",
   "pygments_lexer": "ipython3",
   "version": "3.12.7"
  }
 },
 "nbformat": 4,
 "nbformat_minor": 5
}
