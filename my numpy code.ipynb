{
 "cells": [
  {
   "cell_type": "code",
   "execution_count": 3,
   "id": "9ee918e1-706d-44bd-8857-e313cff7d356",
   "metadata": {},
   "outputs": [
    {
     "name": "stdout",
     "output_type": "stream",
     "text": [
      "1.26.4\n"
     ]
    }
   ],
   "source": [
    "print(np.__version__)"
   ]
  },
  {
   "cell_type": "code",
   "execution_count": 1,
   "id": "25ae4583-5540-4ebc-8e30-ac95d29df777",
   "metadata": {},
   "outputs": [
    {
     "name": "stdout",
     "output_type": "stream",
     "text": [
      "[ 5 10 15]\n",
      "1.26.4\n"
     ]
    }
   ],
   "source": [
    "import numpy as np\n",
    "\n",
    "A=np.array([1,2,3])\n",
    "A=A*5\n",
    "\n",
    "print(A)"
   ]
  },
  {
   "cell_type": "code",
   "execution_count": 45,
   "id": "bcc304cd-ab93-4f84-860b-610b52e80bd3",
   "metadata": {},
   "outputs": [
    {
     "name": "stdout",
     "output_type": "stream",
     "text": [
      "4\n",
      "[1 2 3]\n",
      "[[1 2 3]\n",
      " [4 5 6]\n",
      " [7 8 9]]\n",
      "[[['1' '2' '3']\n",
      "  ['4' '5' '6']\n",
      "  ['7' '8' '9']]\n",
      "\n",
      " [['1' '2' '3']\n",
      "  ['4' '5' '6']\n",
      "  ['7' '8' '9']]\n",
      "\n",
      " [['1' '' '3']\n",
      "  ['4' '5' '6']\n",
      "  ['7' '8' '']]]\n"
     ]
    }
   ],
   "source": [
    "A=np.array(\"4\")\n",
    "\n",
    "B=np.array([1,2,3])\n",
    "\n",
    "C=np.array([[1,2,3],[4,5,6],[7,8,9]])\n",
    "\n",
    "D=np.array([[[1,2,3],[4,5,6],[7,8,9]],\n",
    "            [[1,2,3],[4,5,6],[7,8,9]],\n",
    "            [[1,\"\",3],[4,5,6],[7,8,\"\"]]])\n",
    "\n",
    "print(A)\n",
    "print(B)\n",
    "print(C)\n",
    "print(D)"
   ]
  },
  {
   "cell_type": "code",
   "execution_count": 47,
   "id": "82b7eaa2-0c56-4b6d-acb4-f72d64ec04da",
   "metadata": {},
   "outputs": [
    {
     "name": "stdout",
     "output_type": "stream",
     "text": [
      "0\n",
      "1\n",
      "2\n",
      "3\n"
     ]
    }
   ],
   "source": [
    "# Dimention of array\n",
    "\n",
    "A=np.array(\"4\")\n",
    "\n",
    "B=np.array([1,2,3])\n",
    "\n",
    "C=np.array([[1,2,3],[4,5,6],[7,8,9]])\n",
    "\n",
    "D=np.array([[[1,2,3],[4,5,6],[7,8,9]],\n",
    "            [[1,2,3],[4,5,6],[7,8,9]],\n",
    "            [[1,\"\",3],[4,5,6],[7,8,\"\"]]])\n",
    "\n",
    "print(A.ndim)\n",
    "print(B.ndim)\n",
    "print(C.ndim)\n",
    "print(D.ndim)"
   ]
  },
  {
   "cell_type": "code",
   "execution_count": 53,
   "id": "b8ba1163-6495-4c40-a8e4-4505639e0c8d",
   "metadata": {},
   "outputs": [
    {
     "name": "stdout",
     "output_type": "stream",
     "text": [
      "()\n",
      "(3,)\n",
      "(3, 3)\n",
      "(2, 3)\n",
      "(3, 3, 3)\n",
      "(2, 3, 3)\n"
     ]
    }
   ],
   "source": [
    "# Shape of array\n",
    "\n",
    "A=np.array(\"4\")\n",
    "\n",
    "B=np.array([1,2,3])\n",
    "\n",
    "C=np.array([[1,2,3],[4,5,6],[7,8,9]])\n",
    "\n",
    "D=np.array([[1,2,3],[7,8,9]])\n",
    "\n",
    "E=np.array([[[1,2,3],[4,5,6],[7,8,9]],\n",
    "            [[1,2,3],[4,5,6],[7,8,9]],\n",
    "            [[1,\"\",3],[4,5,6],[7,8,\"\"]]])\n",
    "\n",
    "F=np.array([[[1,2,3],[4,5,6],[7,8,9]],\n",
    "           [[1,\"\",3],[4,5,6],[7,8,\"\"]]])\n",
    "\n",
    "print(A.shape)\n",
    "print(B.shape)\n",
    "print(C.shape)\n",
    "print(D.shape)\n",
    "print(E.shape)\n",
    "print(F.shape)"
   ]
  },
  {
   "cell_type": "code",
   "execution_count": 63,
   "id": "aa64ed31-1048-4ee2-89a5-5a47426bbf3f",
   "metadata": {},
   "outputs": [
    {
     "name": "stdout",
     "output_type": "stream",
     "text": [
      "e\n",
      "e\n"
     ]
    }
   ],
   "source": [
    "A=np.array([[['a','b','c'],['d','e','f'],['g','h','i']],\n",
    "            [['j','k','l'],['m','n','o'],['p','q','r']],\n",
    "            [['s','t','u'],['v','w','x'],['y','z','']]])\n",
    "\n",
    "#Chain indexing \n",
    "print(A[0][1][1])\n",
    "\n",
    "#Multidimensional Indexing\n",
    "print(A[0,1,1])"
   ]
  },
  {
   "cell_type": "code",
   "execution_count": 69,
   "id": "95147a23-bee4-45ee-8c66-86b8b43cbc7f",
   "metadata": {},
   "outputs": [
    {
     "name": "stdout",
     "output_type": "stream",
     "text": [
      "sadam\n"
     ]
    }
   ],
   "source": [
    "A=np.array([[['a','b','c'],['d','e','f'],['g','h','i']],\n",
    "            [['j','k','l'],['m','n','o'],['p','q','r']],\n",
    "            [['s','t','u'],['v','w','x'],['y','z','']]])\n",
    "\n",
    "name= A[2,0,0] + A[0,0,0] + A[0,1,0] + A[0,0,0] + A[1,1,0]\n",
    "\n",
    "print(name)"
   ]
  },
  {
   "cell_type": "code",
   "execution_count": 17,
   "id": "5c89ec0d-e4d1-43ed-8faf-79d5e3d48ed2",
   "metadata": {},
   "outputs": [
    {
     "name": "stdout",
     "output_type": "stream",
     "text": [
      "[ 9 10 11 12]\n",
      "[13 14 15 16]\n"
     ]
    }
   ],
   "source": [
    "A = np.array([[1,2,3,4],\n",
    "              [5,6,7,8],\n",
    "              [9,10,11,12],\n",
    "              [13,14,15,16]])\n",
    "\n",
    "print(A[2])\n",
    "print(A[-1]) # accessing last index\n"
   ]
  },
  {
   "cell_type": "code",
   "execution_count": 23,
   "id": "fc6b860a-c124-4036-a2ef-b46ee30cba2d",
   "metadata": {},
   "outputs": [
    {
     "name": "stdout",
     "output_type": "stream",
     "text": [
      "[[ 1  2  3  4]\n",
      " [ 9 10 11 12]]\n"
     ]
    }
   ],
   "source": [
    "# Slicing\n",
    "\n",
    "A = np.array([[1,2,3,4],\n",
    "              [5,6,7,8],\n",
    "              [9,10,11,12],\n",
    "              [13,14,15,16]])\n",
    "\n",
    "#array[start:end:step]\n",
    "print(A[0:3:2]) # start from index 0 juntil 3 which is exclusive with two step jumps"
   ]
  },
  {
   "cell_type": "code",
   "execution_count": 25,
   "id": "f2d49f6f-3afe-4fe1-abd0-3fc25ef819a0",
   "metadata": {},
   "outputs": [
    {
     "name": "stdout",
     "output_type": "stream",
     "text": [
      "[[ 5  6  7  8]\n",
      " [ 9 10 11 12]\n",
      " [13 14 15 16]]\n"
     ]
    }
   ],
   "source": [
    "# Slicing\n",
    "\n",
    "A = np.array([[1,2,3,4],\n",
    "              [5,6,7,8],\n",
    "              [9,10,11,12],\n",
    "              [13,14,15,16]])\n",
    "\n",
    "#array[start:end:step]\n",
    "print(A[1:]) # start from index 1 until end"
   ]
  },
  {
   "cell_type": "code",
   "execution_count": 31,
   "id": "140cbebe-be98-4703-8154-91986dd6d5ac",
   "metadata": {},
   "outputs": [
    {
     "name": "stdout",
     "output_type": "stream",
     "text": [
      "[[ 1  2  3  4]\n",
      " [ 9 10 11 12]]\n"
     ]
    }
   ],
   "source": [
    "# Slicing\n",
    "\n",
    "A = np.array([[1,2,3,4],\n",
    "              [5,6,7,8],\n",
    "              [9,10,11,12],\n",
    "              [13,14,15,16]])\n",
    "\n",
    "#array[start:end:step]\n",
    "print(A[::2]) #print whole array with 2 step jumps"
   ]
  },
  {
   "cell_type": "code",
   "execution_count": 33,
   "id": "ed390b80-f339-44bf-8b1f-92a4e3f76161",
   "metadata": {},
   "outputs": [
    {
     "name": "stdout",
     "output_type": "stream",
     "text": [
      "[[13 14 15 16]\n",
      " [ 9 10 11 12]\n",
      " [ 5  6  7  8]\n",
      " [ 1  2  3  4]]\n"
     ]
    }
   ],
   "source": [
    "# Slicing \n",
    "\n",
    "A = np.array([[1,2,3,4],\n",
    "              [5,6,7,8],\n",
    "              [9,10,11,12],\n",
    "              [13,14,15,16]])\n",
    "\n",
    "#array[start:end:step]\n",
    "print(A[::-1]) #rows reversed"
   ]
  },
  {
   "cell_type": "code",
   "execution_count": 35,
   "id": "bab54eff-44e3-4c7f-8f39-9fc4f5016443",
   "metadata": {},
   "outputs": [
    {
     "name": "stdout",
     "output_type": "stream",
     "text": [
      "[[13 14 15 16]\n",
      " [ 5  6  7  8]]\n"
     ]
    }
   ],
   "source": [
    "# Slicing \n",
    "\n",
    "A = np.array([[1,2,3,4],\n",
    "              [5,6,7,8],\n",
    "              [9,10,11,12],\n",
    "              [13,14,15,16]])\n",
    "\n",
    "#array[start:end:step]\n",
    "print(A[::-2]) #rows reversed with two steps jumps"
   ]
  },
  {
   "cell_type": "code",
   "execution_count": 49,
   "id": "a206f3b1-d029-4d50-9192-d4d824297d74",
   "metadata": {},
   "outputs": [
    {
     "name": "stdout",
     "output_type": "stream",
     "text": [
      "[ 3  7 11 15]\n",
      "[ 4  8 12 16]\n"
     ]
    }
   ],
   "source": [
    "# column selection\n",
    "\n",
    "A = np.array([[1,2,3,4],\n",
    "              [5,6,7,8],\n",
    "              [9,10,11,12],\n",
    "              [13,14,15,16]])\n",
    "\n",
    "print(A[:,2]) #select column at index 2\n",
    "\n",
    "print(A[:,-1]) #select column at the end"
   ]
  },
  {
   "cell_type": "code",
   "execution_count": 53,
   "id": "59ae6987-a812-4dd1-ab2f-b7ea66776ead",
   "metadata": {},
   "outputs": [
    {
     "name": "stdout",
     "output_type": "stream",
     "text": [
      "[[ 1  2  3]\n",
      " [ 5  6  7]\n",
      " [ 9 10 11]\n",
      " [13 14 15]]\n"
     ]
    }
   ],
   "source": [
    "# Slicing \n",
    "\n",
    "A = np.array([[1,2,3,4],\n",
    "              [5,6,7,8],\n",
    "              [9,10,11,12],\n",
    "              [13,14,15,16]])\n",
    "\n",
    "#array[start:end:step]\n",
    "print(A[:,0:3])  # print column from index 0 to 3 (exclusive)"
   ]
  },
  {
   "cell_type": "code",
   "execution_count": 55,
   "id": "dc521f96-771a-4cfa-8a80-be2c19cb7fba",
   "metadata": {},
   "outputs": [
    {
     "name": "stdout",
     "output_type": "stream",
     "text": [
      "[[ 2  3  4]\n",
      " [ 6  7  8]\n",
      " [10 11 12]\n",
      " [14 15 16]]\n"
     ]
    }
   ],
   "source": [
    "# Slicing \n",
    "\n",
    "A = np.array([[1,2,3,4],\n",
    "              [5,6,7,8],\n",
    "              [9,10,11,12],\n",
    "              [13,14,15,16]])\n",
    "\n",
    "#array[start:end:step]\n",
    "print(A[:,1:])  # print all columns except first"
   ]
  },
  {
   "cell_type": "code",
   "execution_count": 59,
   "id": "386ad222-33ad-40b4-9f48-963ef195d29b",
   "metadata": {},
   "outputs": [
    {
     "name": "stdout",
     "output_type": "stream",
     "text": [
      "[[ 2  4]\n",
      " [ 6  8]\n",
      " [10 12]\n",
      " [14 16]]\n"
     ]
    }
   ],
   "source": [
    "# Slicing \n",
    "\n",
    "A = np.array([[1,2,3,4],\n",
    "              [5,6,7,8],\n",
    "              [9,10,11,12],\n",
    "              [13,14,15,16]])\n",
    "\n",
    "#array[start:end:step]\n",
    "print(A[:,1::2])  # selecting every second column by adding the step"
   ]
  },
  {
   "cell_type": "code",
   "execution_count": 63,
   "id": "18244dc2-f0f6-4e6b-88f6-8869e84d2eb5",
   "metadata": {},
   "outputs": [
    {
     "name": "stdout",
     "output_type": "stream",
     "text": [
      "[[ 4  3  2  1]\n",
      " [ 8  7  6  5]\n",
      " [12 11 10  9]\n",
      " [16 15 14 13]]\n",
      "[[ 4  2]\n",
      " [ 8  6]\n",
      " [12 10]\n",
      " [16 14]]\n"
     ]
    }
   ],
   "source": [
    "# Slicing \n",
    "\n",
    "A = np.array([[1,2,3,4],\n",
    "              [5,6,7,8],\n",
    "              [9,10,11,12],\n",
    "              [13,14,15,16]])\n",
    "\n",
    "#array[start:end:step]\n",
    "print(A[:,::-1])  # reversing order of the columns"
   ]
  },
  {
   "cell_type": "code",
   "execution_count": 71,
   "id": "20e3a96b-3533-4bc3-998a-4cefda3e9e4b",
   "metadata": {},
   "outputs": [
    {
     "name": "stdout",
     "output_type": "stream",
     "text": [
      "[[1 2]\n",
      " [5 6]]\n",
      "another example\n",
      "[[11 12]\n",
      " [15 16]]\n"
     ]
    }
   ],
   "source": [
    "# Slicing \n",
    "#combining both rows and column selection\n",
    "\n",
    "A = np.array([[1,2,3,4],\n",
    "              [5,6,7,8],\n",
    "              [9,10,11,12],\n",
    "              [13,14,15,16]])\n",
    "\n",
    "#array[start:end:step]\n",
    "print(A[0:2,0:2])  # reversing order of the columns\n",
    "print (\"another example\")\n",
    "print(A[2:,2:])\n"
   ]
  },
  {
   "cell_type": "code",
   "execution_count": 77,
   "id": "0913b99e-6c5a-4b25-a721-82b43193895f",
   "metadata": {},
   "outputs": [
    {
     "name": "stdout",
     "output_type": "stream",
     "text": [
      "[2 3 4 5]\n",
      "[-1  0  1  2]\n",
      "[ 3  6  9 12]\n",
      "[0.25 0.5  0.75 1.  ]\n",
      "[   1   32  243 1024]\n"
     ]
    }
   ],
   "source": [
    "# Arithmetic\n",
    "\n",
    "# Scalar Arithmetic (scalar is a single value)\n",
    "\n",
    "array = np.array([1,2,3,4])\n",
    "\n",
    "print(array+1)\n",
    "print(array-2)\n",
    "print(array*3)\n",
    "print(array/4)\n",
    "print(array**5)"
   ]
  },
  {
   "cell_type": "code",
   "execution_count": 87,
   "id": "627c7e6f-a34d-4587-a8bf-bb0c24d0992e",
   "metadata": {},
   "outputs": [
    {
     "name": "stdout",
     "output_type": "stream",
     "text": [
      "[1.05356538 1.58113883 1.97230829 2.14476106]\n",
      "[1. 2. 4. 5.]\n",
      "[1. 2. 3. 4.]\n",
      "[2. 3. 4. 5.]\n",
      "3.141592653589793\n"
     ]
    }
   ],
   "source": [
    "# vectorize math functions (vector is a single dimension)\n",
    "\n",
    "array = np.array([1.11, 2.5, 3.89, 4.6])\n",
    "\n",
    "print(np.sqrt(array))\n",
    "print(np.round(array))\n",
    "print(np.floor(array))\n",
    "print(np.ceil(array))\n",
    "print(np.pi)\n"
   ]
  },
  {
   "cell_type": "code",
   "execution_count": 89,
   "id": "50245261-4b6e-48aa-8d59-737a558862ca",
   "metadata": {},
   "outputs": [
    {
     "name": "stdout",
     "output_type": "stream",
     "text": [
      "[ 3.14159265 12.56637061 28.27433388 50.26548246]\n"
     ]
    }
   ],
   "source": [
    "#Exaecise\n",
    "\n",
    "radii = np.array([1, 2, 3, 4])\n",
    "\n",
    "# area of each radius\n",
    "print(np.pi*radii**2) "
   ]
  },
  {
   "cell_type": "code",
   "execution_count": 95,
   "id": "dbb86a20-7a5e-4dbb-8534-ab88215cf22b",
   "metadata": {},
   "outputs": [
    {
     "name": "stdout",
     "output_type": "stream",
     "text": [
      "[2 4 6 8]\n",
      "[0 0 0 0]\n",
      "[ 1  4  9 16]\n",
      "[1. 1. 1. 1.]\n",
      "[  1   4  27 256]\n"
     ]
    }
   ],
   "source": [
    "# element wise arithematic\n",
    "\n",
    "A = np.array([1,2,3,4])\n",
    "B = np.array([1,2,3,4])\n",
    "\n",
    "print(A+B)\n",
    "print(A-B)\n",
    "print(A*B)\n",
    "print(A/B)\n",
    "print(A**B)"
   ]
  },
  {
   "cell_type": "code",
   "execution_count": 105,
   "id": "e3306487-4fc8-4225-8638-8b3e09aef41d",
   "metadata": {},
   "outputs": [
    {
     "name": "stdout",
     "output_type": "stream",
     "text": [
      "[ 44  55  88  99 100]\n",
      "[False False False False  True]\n",
      "[ True  True False False False]\n",
      "[  0   0  88  99 100]\n"
     ]
    }
   ],
   "source": [
    "#comparison operator\n",
    "\n",
    "scores = np.array([44,55,88,99,100])\n",
    "\n",
    "print(scores)\n",
    "print(scores == 100)\n",
    "print(scores < 60)\n",
    "scores[scores<60] = 0\n",
    "print(scores)\n",
    "\n"
   ]
  },
  {
   "cell_type": "code",
   "execution_count": 111,
   "id": "3918e204-957a-42f8-aac9-62915b2e5d62",
   "metadata": {},
   "outputs": [
    {
     "name": "stdout",
     "output_type": "stream",
     "text": [
      "(1, 4)\n",
      "(4, 1)\n"
     ]
    }
   ],
   "source": [
    "# Broadcasting allows Numpy to performs operations on array\n",
    "# with different shapes by virtual expanding dimensions\n",
    "# so they match the large array shape\n",
    "\n",
    "# The dimension have the same size\n",
    "# OR\n",
    "# one of the dimension has a size of 1\n",
    "\n",
    "array1 = np.array([[1,2,3,4]])\n",
    "array2 = np.array([[1],[2],[3],[4]])\n",
    "\n",
    "print(array1.shape)\n",
    "print(array2.shape)"
   ]
  },
  {
   "cell_type": "code",
   "execution_count": 113,
   "id": "ed7e0a46-bf4e-464a-8bc6-df9c6b152362",
   "metadata": {},
   "outputs": [
    {
     "name": "stdout",
     "output_type": "stream",
     "text": [
      "[[ 1  2  3  4]\n",
      " [ 2  4  6  8]\n",
      " [ 3  6  9 12]\n",
      " [ 4  8 12 16]]\n"
     ]
    }
   ],
   "source": [
    "# Broadcasting\n",
    "\n",
    "array1 = np.array([[1,2,3,4]])\n",
    "array2 = np.array([[1],[2],[3],[4]])\n",
    "\n",
    "print(array1*array2)"
   ]
  },
  {
   "cell_type": "code",
   "execution_count": 117,
   "id": "b54b4823-060f-4975-9760-be16c930338a",
   "metadata": {},
   "outputs": [
    {
     "name": "stdout",
     "output_type": "stream",
     "text": [
      "Multplication Table is:\n",
      "[[  1   2   3   4   5   6   7   8   9  10]\n",
      " [  2   4   6   8  10  12  14  16  18  20]\n",
      " [  3   6   9  12  15  18  21  24  27  30]\n",
      " [  4   8  12  16  20  24  28  32  36  40]\n",
      " [  5  10  15  20  25  30  35  40  45  50]\n",
      " [  6  12  18  24  30  36  42  48  54  60]\n",
      " [  7  14  21  28  35  42  49  56  63  70]\n",
      " [  8  16  24  32  40  48  56  64  72  80]\n",
      " [  9  18  27  36  45  54  63  72  81  90]\n",
      " [ 10  20  30  40  50  60  70  80  90 100]]\n"
     ]
    }
   ],
   "source": [
    "array1 = np.array([[1,2,3,4,5,6,7,8,9,10]])\n",
    "array2 = np.array([[1],[2],[3],[4],[5],[6],[7],[8],[9],[10]])\n",
    "\n",
    "print(\"Multplication Table is:\")\n",
    "print (array1*array2)\n"
   ]
  },
  {
   "cell_type": "code",
   "execution_count": 123,
   "id": "04d598d7-5fb5-4bae-8a29-d59ec9b20317",
   "metadata": {},
   "outputs": [
    {
     "name": "stdout",
     "output_type": "stream",
     "text": [
      "55\n",
      "5.5\n",
      "2.8722813232690143\n",
      "8.25\n",
      "1\n",
      "10\n",
      "0\n",
      "9\n"
     ]
    }
   ],
   "source": [
    "#Aggregate Functions = sumarrize data and typically returns a single value\n",
    "\n",
    "array = np.array([[1,2,3,4,5],\n",
    "                  [6,7,8,9,10]])\n",
    "\n",
    "print(np.sum(array))\n",
    "print(np.mean(array))\n",
    "print(np.std(array))\n",
    "print(np.var(array))\n",
    "print(np.min(array))\n",
    "print(np.max(array))\n",
    "print(np.argmin(array)) #return position of minimun value\n",
    "print(np.argmax(array)) #return position of maximum value\n",
    "\n"
   ]
  },
  {
   "cell_type": "code",
   "execution_count": 129,
   "id": "5cc1489d-95a5-45ea-a1c5-35569d277ba0",
   "metadata": {},
   "outputs": [
    {
     "name": "stdout",
     "output_type": "stream",
     "text": [
      "55\n",
      "[ 7  9 11 13 15]\n",
      "[15 40]\n"
     ]
    }
   ],
   "source": [
    "#Aggregate Functions = sumarrize data and typically returns a single value\n",
    "\n",
    "array = np.array([[1,2,3,4,5],\n",
    "                  [6,7,8,9,10]])\n",
    "\n",
    "print(np.sum(array))\n",
    "print(np.sum(array,axis=0)) # column wise sum\n",
    "print(np.sum(array,axis=1)) # row wise sum"
   ]
  },
  {
   "cell_type": "code",
   "execution_count": 145,
   "id": "da94b807-dc6b-414a-a877-01004c50702e",
   "metadata": {},
   "outputs": [
    {
     "name": "stdout",
     "output_type": "stream",
     "text": [
      "[12 14 16 17 10]\n",
      "[21 19 18 55]\n",
      "[12 14 65 16 17 10]\n"
     ]
    }
   ],
   "source": [
    "# Filtering = refers to the process of selection elements from array that mactches a given condition\n",
    "\n",
    "ages = np.array([[21,12,19,14,65],\n",
    "                  [16,17,18,55,10]])\n",
    "\n",
    "teenagers = ages[ages<18]\n",
    "\n",
    "#logical operator 'and' uses by python but '&' uses in numpy\n",
    "adults = ages[(ages>=18) & (ages<65)]\n",
    "\n",
    "#logical operator 'or' uses by python but '|' uses in numpy\n",
    "not_adults = ages[(ages<18) | (ages>=65)]\n",
    "\n",
    "\n",
    "\n",
    "print(teenagers) # answer will be in boolean indexing form , answer will be in a vector form\n",
    "print(adults)\n",
    "print(not_adults)"
   ]
  },
  {
   "cell_type": "code",
   "execution_count": 147,
   "id": "cb43d175-72e1-4771-b71b-4d3c80844b45",
   "metadata": {},
   "outputs": [
    {
     "name": "stdout",
     "output_type": "stream",
     "text": [
      "[65]\n",
      "[12 14 16 18 10]\n",
      "[21 19 65 17 55]\n"
     ]
    }
   ],
   "source": [
    "# Filtering \n",
    "\n",
    "ages = np.array([[21,12,19,14,65],\n",
    "                  [16,17,18,55,10]])\n",
    "\n",
    "seniors = ages[ages>=60]\n",
    "evens = ages[ages%2==0]\n",
    "odds = ages[ages%2!=0]\n",
    "\n",
    "print(seniors)\n",
    "print(evens)\n",
    "print(odds)\n",
    "\n",
    "# boolean indexing will flaten your data but its very faster than 'where' function discuss below"
   ]
  },
  {
   "cell_type": "code",
   "execution_count": 161,
   "id": "974148b0-2e12-4313-b643-c5f2fbfd092c",
   "metadata": {},
   "outputs": [
    {
     "name": "stdout",
     "output_type": "stream",
     "text": [
      "[['21' '+' '19' '+' '65']\n",
      " ['+' '+' '18' '55' '+']]\n",
      "[[21 12 19 14  0]\n",
      " [16 17 18  0 10]]\n"
     ]
    }
   ],
   "source": [
    "# filtering while reserving orignal shape we use 'where' clause\n",
    "\n",
    "numbers = np.array([[21,12,19,14,65],\n",
    "                  [16,17,18,55,10]])\n",
    "\n",
    "# numpy.where(condition , array , fill value)\n",
    "adults = np.where(numbers>=18,numbers,'+')\n",
    "print(adults)\n",
    "\n",
    "fail = np.where(numbers<35,numbers,0)\n",
    "print(fail)\n",
    "\n",
    "# where function will keep your original array shape but its alot slower than using boolean indexing"
   ]
  },
  {
   "cell_type": "code",
   "execution_count": 219,
   "id": "1ccca85f-7c06-4f8e-b15c-1bc388d89716",
   "metadata": {},
   "outputs": [
    {
     "name": "stdout",
     "output_type": "stream",
     "text": [
      "2\n",
      "1\n",
      "52\n"
     ]
    }
   ],
   "source": [
    "# Random numbers = useful for simulations , modeling , applying random transformations and testing purposes\n",
    "\n",
    "rng = np.random.default_rng()\n",
    "#random number between 1 and 6\n",
    "print(rng.integers(1,7)) # second number is exclusive\n",
    "#OR\n",
    "print(rng.integers(low=1,high=7)) # second number is exclusive\n",
    "print(rng.integers(low=1,high=101)) # second number is exclusive\n"
   ]
  },
  {
   "cell_type": "code",
   "execution_count": 231,
   "id": "1e728805-36ab-4908-9a6a-364366a61c47",
   "metadata": {},
   "outputs": [
    {
     "name": "stdout",
     "output_type": "stream",
     "text": [
      "[82 30 22]\n",
      "[45 40 28]\n"
     ]
    }
   ],
   "source": [
    "rng = np.random.default_rng()\n",
    "\n",
    "print(rng.integers(1,101,3))\n",
    "#OR\n",
    "print(rng.integers(low=1, high=101, size=3))"
   ]
  },
  {
   "cell_type": "code",
   "execution_count": 237,
   "id": "f2f6836d-3377-4bca-94cc-f948f982d1be",
   "metadata": {},
   "outputs": [
    {
     "name": "stdout",
     "output_type": "stream",
     "text": [
      "[[81 13]\n",
      " [69 98]\n",
      " [87 66]]\n"
     ]
    }
   ],
   "source": [
    "rng = np.random.default_rng()\n",
    "\n",
    "print(rng.integers(low=1, high=101, size=(3,2))) #3 rows and 2 columns"
   ]
  },
  {
   "cell_type": "code",
   "execution_count": 245,
   "id": "13f6dec4-2616-4ff1-bb18-d291301720d0",
   "metadata": {},
   "outputs": [
    {
     "name": "stdout",
     "output_type": "stream",
     "text": [
      "[[48 52]\n",
      " [76 96]\n",
      " [ 4 15]]\n"
     ]
    }
   ],
   "source": [
    "# if you want to generate same random numbers then use user define 'seed' value\n",
    "\n",
    "rng = np.random.default_rng(seed=1) # settinig seed id useful if you need to produce the  same results\n",
    "\n",
    "print(rng.integers(low=1, high=101, size=(3,2)))"
   ]
  },
  {
   "cell_type": "code",
   "execution_count": 253,
   "id": "09dc8cc0-2e2a-49b7-9231-cf8a92d88f07",
   "metadata": {},
   "outputs": [
    {
     "name": "stdout",
     "output_type": "stream",
     "text": [
      "-0.8105291003475021\n",
      "[-0.81392251  0.17959667  0.54583089]\n"
     ]
    }
   ],
   "source": [
    "# random floating point numbers\n",
    "\n",
    "print(np.random.uniform(low=-1,high=1))\n",
    "print(np.random.uniform(low=-1,high=1,size=3))"
   ]
  },
  {
   "cell_type": "code",
   "execution_count": 261,
   "id": "4d98f192-1363-406a-b0bf-e46afe9365d9",
   "metadata": {},
   "outputs": [
    {
     "name": "stdout",
     "output_type": "stream",
     "text": [
      "[[-0.1653904   0.11737966 -0.71922612 -0.60379702]\n",
      " [ 0.60148914  0.93652315 -0.37315164  0.38464523]\n",
      " [ 0.7527783   0.78921333 -0.82991158 -0.92189043]\n",
      " [-0.66033916  0.75628501 -0.80330633 -0.15778475]]\n"
     ]
    }
   ],
   "source": [
    "print(np.random.uniform(low=-1,high=1,size=(4,4))) #4rows 4columns"
   ]
  },
  {
   "cell_type": "code",
   "execution_count": 259,
   "id": "d8a2b11c-53fe-44d9-a70f-9ea184e21352",
   "metadata": {},
   "outputs": [
    {
     "name": "stdout",
     "output_type": "stream",
     "text": [
      "[[-0.16595599  0.44064899 -0.99977125 -0.39533485]\n",
      " [-0.70648822 -0.81532281 -0.62747958 -0.30887855]\n",
      " [-0.20646505  0.07763347 -0.16161097  0.370439  ]\n",
      " [-0.5910955   0.75623487 -0.94522481  0.34093502]]\n"
     ]
    }
   ],
   "source": [
    "# setting seed\n",
    "\n",
    "np.random.seed(seed=1)\n",
    "print(np.random.uniform(low=-1,high=1,size=(4,4))) #4rows 4columns\n",
    "\n",
    "#we can reproduce the same values by using the same seed\n"
   ]
  },
  {
   "cell_type": "code",
   "execution_count": 269,
   "id": "07a7df40-e4ff-429c-b64e-4ce190e5ee36",
   "metadata": {},
   "outputs": [
    {
     "name": "stdout",
     "output_type": "stream",
     "text": [
      "[1 5 4 2 3]\n"
     ]
    }
   ],
   "source": [
    "# shuffling array\n",
    "array= np.array([1,2,3,4,5])\n",
    "# first create an rng object , then call its shuffle method\n",
    "rng = np.random.default_rng()\n",
    "rng.shuffle(array)\n",
    "\n",
    "print(array)"
   ]
  },
  {
   "cell_type": "code",
   "execution_count": 275,
   "id": "ae7e59cc-2b41-425e-957f-9977e876af2f",
   "metadata": {},
   "outputs": [
    {
     "name": "stdout",
     "output_type": "stream",
     "text": [
      "['apple' 'grapes' 'mango']\n"
     ]
    }
   ],
   "source": [
    "# selecting random items from an array\n",
    "fruits = np.array([\"apple\",\"mango\",\"banana\",\"orange\",\"grapes\",\"coconut\",\"pineapple\"])\n",
    "\n",
    "# first create an rng object , then call its choice method\n",
    "rng = np.random.default_rng()\n",
    "fruits = rng.choice(fruits ,size=3) #3 random selections\n",
    "\n",
    "print(fruits)"
   ]
  },
  {
   "cell_type": "code",
   "execution_count": 277,
   "id": "366ff25a-5dd5-4e6a-b10a-045c3feb4c86",
   "metadata": {},
   "outputs": [
    {
     "name": "stdout",
     "output_type": "stream",
     "text": [
      "[['apple' 'coconut' 'grapes']\n",
      " ['apple' 'grapes' 'banana']\n",
      " ['grapes' 'grapes' 'mango']]\n"
     ]
    }
   ],
   "source": [
    "# selecting random items from an array\n",
    "fruits = np.array([\"apple\",\"mango\",\"banana\",\"orange\",\"grapes\",\"coconut\",\"pineapple\"])\n",
    "\n",
    "# first create an rng object , then call its choice method\n",
    "rng = np.random.default_rng()\n",
    "fruits = rng.choice(fruits ,size=(3,3)) #3x3 random selections\n",
    "\n",
    "print(fruits)"
   ]
  },
  {
   "cell_type": "code",
   "execution_count": 287,
   "id": "0dd7c874-c7e3-4e90-b120-77f8fc1a004a",
   "metadata": {},
   "outputs": [
    {
     "name": "stdout",
     "output_type": "stream",
     "text": [
      "[['🍊' '🍎' '🥥']\n",
      " ['🥭' '🍊' '🍎']\n",
      " ['🍇' '🍇' '🥭']]\n"
     ]
    }
   ],
   "source": [
    "# selecting random items from an array\n",
    "fruits = np.array([\"🍎\",\"🥭\",\"🍌\",\"🍊\",\"🍇\",\"🥥\",\"🍍\"])\n",
    "\n",
    "# first create an rng object , then call its choice method\n",
    "rng = np.random.default_rng()\n",
    "fruits = rng.choice(fruits ,size=(3,3)) #3x3 random selections\n",
    "\n",
    "print(fruits)"
   ]
  },
  {
   "cell_type": "code",
   "execution_count": 3,
   "id": "d9ff84da-d201-4e96-b2d8-befd5c5ce47c",
   "metadata": {},
   "outputs": [
    {
     "name": "stdout",
     "output_type": "stream",
     "text": [
      "Matrix A:\n",
      " [[1 2]\n",
      " [3 4]]\n",
      "Matrix B:\n",
      " [[5 6]\n",
      " [7 8]]\n",
      "\n",
      " Element-wise multiplication:\n",
      " [[ 5 12]\n",
      " [21 32]]\n",
      "\n",
      " Matrix multiplication using np.dot:\n",
      " [[19 22]\n",
      " [43 50]]\n",
      "\n",
      " Matrix multiplication using np.matmul:\n",
      " [[19 22]\n",
      " [43 50]]\n"
     ]
    }
   ],
   "source": [
    "import numpy as np\n",
    "\n",
    "# Define two 2x2 matrices\n",
    "A = np.array([[1, 2],\n",
    "              [3, 4]])\n",
    "\n",
    "B = np.array([[5, 6],\n",
    "              [7, 8]])\n",
    "\n",
    "# Element-wise multiplication\n",
    "elementwise = A * B\n",
    "\n",
    "# Matrix multiplication (dot product)\n",
    "dot_product = np.dot(A, B)      # or A @ B\n",
    "\n",
    "# Matrix multiplication using matmul\n",
    "matmul_product = np.matmul(A, B)\n",
    "\n",
    "# Display results\n",
    "print(\"Matrix A:\\n\", A)\n",
    "print(\"Matrix B:\\n\", B)\n",
    "print(\"\\n Element-wise multiplication:\\n\", elementwise)\n",
    "print(\"\\n Matrix multiplication using np.dot:\\n\", dot_product)\n",
    "print(\"\\n Matrix multiplication using np.matmul:\\n\", matmul_product)\n"
   ]
  },
  {
   "cell_type": "code",
   "execution_count": 1,
   "id": "14544914-a155-464d-9c4f-ed6978815a29",
   "metadata": {},
   "outputs": [
    {
     "name": "stdout",
     "output_type": "stream",
     "text": [
      "[[1 4]\n",
      " [2 5]\n",
      " [3 6]]\n"
     ]
    }
   ],
   "source": [
    "import numpy as np\n",
    "\n",
    "# Create a matrix\n",
    "matrix = np.array([[1, 2, 3],\n",
    "                   [4, 5, 6]])\n",
    "\n",
    "# Transpose\n",
    "transpose_matrix = matrix.T\n",
    "\n",
    "print(transpose_matrix)\n"
   ]
  },
  {
   "cell_type": "code",
   "execution_count": null,
   "id": "befb8ced-a0c6-4107-a1fc-0bf3f2383520",
   "metadata": {},
   "outputs": [],
   "source": []
  }
 ],
 "metadata": {
  "kernelspec": {
   "display_name": "Python [conda env:base] *",
   "language": "python",
   "name": "conda-base-py"
  },
  "language_info": {
   "codemirror_mode": {
    "name": "ipython",
    "version": 3
   },
   "file_extension": ".py",
   "mimetype": "text/x-python",
   "name": "python",
   "nbconvert_exporter": "python",
   "pygments_lexer": "ipython3",
   "version": "3.12.7"
  }
 },
 "nbformat": 4,
 "nbformat_minor": 5
}
